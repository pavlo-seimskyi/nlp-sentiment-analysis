{
  "nbformat": 4,
  "nbformat_minor": 0,
  "metadata": {
    "colab": {
      "name": "Citibeats-Test-public.ipynb",
      "provenance": [],
      "collapsed_sections": [],
      "toc_visible": true,
      "authorship_tag": "ABX9TyOica63AVsvoTwPNlUcD/K4",
      "include_colab_link": true
    },
    "kernelspec": {
      "display_name": "Python 3",
      "name": "python3"
    },
    "accelerator": "GPU",
    "widgets": {
      "application/vnd.jupyter.widget-state+json": {
        "997de6cc31974bcc95c9440cdb88f0b9": {
          "model_module": "@jupyter-widgets/controls",
          "model_name": "HBoxModel",
          "state": {
            "_view_name": "HBoxView",
            "_dom_classes": [],
            "_model_name": "HBoxModel",
            "_view_module": "@jupyter-widgets/controls",
            "_model_module_version": "1.5.0",
            "_view_count": null,
            "_view_module_version": "1.5.0",
            "box_style": "",
            "layout": "IPY_MODEL_a774cbd122a84e9c81c0f42c1c323b23",
            "_model_module": "@jupyter-widgets/controls",
            "children": [
              "IPY_MODEL_7a4c73700c8b45ed8b83f31f9730c9d2",
              "IPY_MODEL_17f5cf5fd62e49ccb7b6007b8ea56f0b"
            ]
          }
        },
        "a774cbd122a84e9c81c0f42c1c323b23": {
          "model_module": "@jupyter-widgets/base",
          "model_name": "LayoutModel",
          "state": {
            "_view_name": "LayoutView",
            "grid_template_rows": null,
            "right": null,
            "justify_content": null,
            "_view_module": "@jupyter-widgets/base",
            "overflow": null,
            "_model_module_version": "1.2.0",
            "_view_count": null,
            "flex_flow": null,
            "width": null,
            "min_width": null,
            "border": null,
            "align_items": null,
            "bottom": null,
            "_model_module": "@jupyter-widgets/base",
            "top": null,
            "grid_column": null,
            "overflow_y": null,
            "overflow_x": null,
            "grid_auto_flow": null,
            "grid_area": null,
            "grid_template_columns": null,
            "flex": null,
            "_model_name": "LayoutModel",
            "justify_items": null,
            "grid_row": null,
            "max_height": null,
            "align_content": null,
            "visibility": null,
            "align_self": null,
            "height": null,
            "min_height": null,
            "padding": null,
            "grid_auto_rows": null,
            "grid_gap": null,
            "max_width": null,
            "order": null,
            "_view_module_version": "1.2.0",
            "grid_template_areas": null,
            "object_position": null,
            "object_fit": null,
            "grid_auto_columns": null,
            "margin": null,
            "display": null,
            "left": null
          }
        },
        "7a4c73700c8b45ed8b83f31f9730c9d2": {
          "model_module": "@jupyter-widgets/controls",
          "model_name": "FloatProgressModel",
          "state": {
            "_view_name": "ProgressView",
            "style": "IPY_MODEL_68a50c182c0d423ba5e48ea7e0b1247d",
            "_dom_classes": [],
            "description": "Downloading: 100%",
            "_model_name": "FloatProgressModel",
            "bar_style": "success",
            "max": 231508,
            "_view_module": "@jupyter-widgets/controls",
            "_model_module_version": "1.5.0",
            "value": 231508,
            "_view_count": null,
            "_view_module_version": "1.5.0",
            "orientation": "horizontal",
            "min": 0,
            "description_tooltip": null,
            "_model_module": "@jupyter-widgets/controls",
            "layout": "IPY_MODEL_6d13b33acdc64baca423e1d88bfad531"
          }
        },
        "17f5cf5fd62e49ccb7b6007b8ea56f0b": {
          "model_module": "@jupyter-widgets/controls",
          "model_name": "HTMLModel",
          "state": {
            "_view_name": "HTMLView",
            "style": "IPY_MODEL_213eb86f1bc248dcb5702591b2a8d87a",
            "_dom_classes": [],
            "description": "",
            "_model_name": "HTMLModel",
            "placeholder": "​",
            "_view_module": "@jupyter-widgets/controls",
            "_model_module_version": "1.5.0",
            "value": " 232k/232k [00:00&lt;00:00, 775kB/s]",
            "_view_count": null,
            "_view_module_version": "1.5.0",
            "description_tooltip": null,
            "_model_module": "@jupyter-widgets/controls",
            "layout": "IPY_MODEL_34dca408507b4cf68f9085026dd10994"
          }
        },
        "68a50c182c0d423ba5e48ea7e0b1247d": {
          "model_module": "@jupyter-widgets/controls",
          "model_name": "ProgressStyleModel",
          "state": {
            "_view_name": "StyleView",
            "_model_name": "ProgressStyleModel",
            "description_width": "initial",
            "_view_module": "@jupyter-widgets/base",
            "_model_module_version": "1.5.0",
            "_view_count": null,
            "_view_module_version": "1.2.0",
            "bar_color": null,
            "_model_module": "@jupyter-widgets/controls"
          }
        },
        "6d13b33acdc64baca423e1d88bfad531": {
          "model_module": "@jupyter-widgets/base",
          "model_name": "LayoutModel",
          "state": {
            "_view_name": "LayoutView",
            "grid_template_rows": null,
            "right": null,
            "justify_content": null,
            "_view_module": "@jupyter-widgets/base",
            "overflow": null,
            "_model_module_version": "1.2.0",
            "_view_count": null,
            "flex_flow": null,
            "width": null,
            "min_width": null,
            "border": null,
            "align_items": null,
            "bottom": null,
            "_model_module": "@jupyter-widgets/base",
            "top": null,
            "grid_column": null,
            "overflow_y": null,
            "overflow_x": null,
            "grid_auto_flow": null,
            "grid_area": null,
            "grid_template_columns": null,
            "flex": null,
            "_model_name": "LayoutModel",
            "justify_items": null,
            "grid_row": null,
            "max_height": null,
            "align_content": null,
            "visibility": null,
            "align_self": null,
            "height": null,
            "min_height": null,
            "padding": null,
            "grid_auto_rows": null,
            "grid_gap": null,
            "max_width": null,
            "order": null,
            "_view_module_version": "1.2.0",
            "grid_template_areas": null,
            "object_position": null,
            "object_fit": null,
            "grid_auto_columns": null,
            "margin": null,
            "display": null,
            "left": null
          }
        },
        "213eb86f1bc248dcb5702591b2a8d87a": {
          "model_module": "@jupyter-widgets/controls",
          "model_name": "DescriptionStyleModel",
          "state": {
            "_view_name": "StyleView",
            "_model_name": "DescriptionStyleModel",
            "description_width": "",
            "_view_module": "@jupyter-widgets/base",
            "_model_module_version": "1.5.0",
            "_view_count": null,
            "_view_module_version": "1.2.0",
            "_model_module": "@jupyter-widgets/controls"
          }
        },
        "34dca408507b4cf68f9085026dd10994": {
          "model_module": "@jupyter-widgets/base",
          "model_name": "LayoutModel",
          "state": {
            "_view_name": "LayoutView",
            "grid_template_rows": null,
            "right": null,
            "justify_content": null,
            "_view_module": "@jupyter-widgets/base",
            "overflow": null,
            "_model_module_version": "1.2.0",
            "_view_count": null,
            "flex_flow": null,
            "width": null,
            "min_width": null,
            "border": null,
            "align_items": null,
            "bottom": null,
            "_model_module": "@jupyter-widgets/base",
            "top": null,
            "grid_column": null,
            "overflow_y": null,
            "overflow_x": null,
            "grid_auto_flow": null,
            "grid_area": null,
            "grid_template_columns": null,
            "flex": null,
            "_model_name": "LayoutModel",
            "justify_items": null,
            "grid_row": null,
            "max_height": null,
            "align_content": null,
            "visibility": null,
            "align_self": null,
            "height": null,
            "min_height": null,
            "padding": null,
            "grid_auto_rows": null,
            "grid_gap": null,
            "max_width": null,
            "order": null,
            "_view_module_version": "1.2.0",
            "grid_template_areas": null,
            "object_position": null,
            "object_fit": null,
            "grid_auto_columns": null,
            "margin": null,
            "display": null,
            "left": null
          }
        },
        "accc5cd4d24b43918601ad55305ffeb3": {
          "model_module": "@jupyter-widgets/controls",
          "model_name": "HBoxModel",
          "state": {
            "_view_name": "HBoxView",
            "_dom_classes": [],
            "_model_name": "HBoxModel",
            "_view_module": "@jupyter-widgets/controls",
            "_model_module_version": "1.5.0",
            "_view_count": null,
            "_view_module_version": "1.5.0",
            "box_style": "",
            "layout": "IPY_MODEL_4fba6f69072a4b25abd6aab0af9b641d",
            "_model_module": "@jupyter-widgets/controls",
            "children": [
              "IPY_MODEL_b1228010d2cb4a42bc3976d79161c35b",
              "IPY_MODEL_27faa8f8ca344916a3fea32dcca869d5"
            ]
          }
        },
        "4fba6f69072a4b25abd6aab0af9b641d": {
          "model_module": "@jupyter-widgets/base",
          "model_name": "LayoutModel",
          "state": {
            "_view_name": "LayoutView",
            "grid_template_rows": null,
            "right": null,
            "justify_content": null,
            "_view_module": "@jupyter-widgets/base",
            "overflow": null,
            "_model_module_version": "1.2.0",
            "_view_count": null,
            "flex_flow": null,
            "width": null,
            "min_width": null,
            "border": null,
            "align_items": null,
            "bottom": null,
            "_model_module": "@jupyter-widgets/base",
            "top": null,
            "grid_column": null,
            "overflow_y": null,
            "overflow_x": null,
            "grid_auto_flow": null,
            "grid_area": null,
            "grid_template_columns": null,
            "flex": null,
            "_model_name": "LayoutModel",
            "justify_items": null,
            "grid_row": null,
            "max_height": null,
            "align_content": null,
            "visibility": null,
            "align_self": null,
            "height": null,
            "min_height": null,
            "padding": null,
            "grid_auto_rows": null,
            "grid_gap": null,
            "max_width": null,
            "order": null,
            "_view_module_version": "1.2.0",
            "grid_template_areas": null,
            "object_position": null,
            "object_fit": null,
            "grid_auto_columns": null,
            "margin": null,
            "display": null,
            "left": null
          }
        },
        "b1228010d2cb4a42bc3976d79161c35b": {
          "model_module": "@jupyter-widgets/controls",
          "model_name": "FloatProgressModel",
          "state": {
            "_view_name": "ProgressView",
            "style": "IPY_MODEL_6cc3c8d6dc6b47e980bb227377e70bbe",
            "_dom_classes": [],
            "description": "Downloading: 100%",
            "_model_name": "FloatProgressModel",
            "bar_style": "success",
            "max": 28,
            "_view_module": "@jupyter-widgets/controls",
            "_model_module_version": "1.5.0",
            "value": 28,
            "_view_count": null,
            "_view_module_version": "1.5.0",
            "orientation": "horizontal",
            "min": 0,
            "description_tooltip": null,
            "_model_module": "@jupyter-widgets/controls",
            "layout": "IPY_MODEL_5c06b26cfa434c58a938d413aa983e3c"
          }
        },
        "27faa8f8ca344916a3fea32dcca869d5": {
          "model_module": "@jupyter-widgets/controls",
          "model_name": "HTMLModel",
          "state": {
            "_view_name": "HTMLView",
            "style": "IPY_MODEL_8a7c36d7847d420e936f357ddab76d41",
            "_dom_classes": [],
            "description": "",
            "_model_name": "HTMLModel",
            "placeholder": "​",
            "_view_module": "@jupyter-widgets/controls",
            "_model_module_version": "1.5.0",
            "value": " 28.0/28.0 [00:00&lt;00:00, 158B/s]",
            "_view_count": null,
            "_view_module_version": "1.5.0",
            "description_tooltip": null,
            "_model_module": "@jupyter-widgets/controls",
            "layout": "IPY_MODEL_b84a7f396cd64a99b88398f12af38f88"
          }
        },
        "6cc3c8d6dc6b47e980bb227377e70bbe": {
          "model_module": "@jupyter-widgets/controls",
          "model_name": "ProgressStyleModel",
          "state": {
            "_view_name": "StyleView",
            "_model_name": "ProgressStyleModel",
            "description_width": "initial",
            "_view_module": "@jupyter-widgets/base",
            "_model_module_version": "1.5.0",
            "_view_count": null,
            "_view_module_version": "1.2.0",
            "bar_color": null,
            "_model_module": "@jupyter-widgets/controls"
          }
        },
        "5c06b26cfa434c58a938d413aa983e3c": {
          "model_module": "@jupyter-widgets/base",
          "model_name": "LayoutModel",
          "state": {
            "_view_name": "LayoutView",
            "grid_template_rows": null,
            "right": null,
            "justify_content": null,
            "_view_module": "@jupyter-widgets/base",
            "overflow": null,
            "_model_module_version": "1.2.0",
            "_view_count": null,
            "flex_flow": null,
            "width": null,
            "min_width": null,
            "border": null,
            "align_items": null,
            "bottom": null,
            "_model_module": "@jupyter-widgets/base",
            "top": null,
            "grid_column": null,
            "overflow_y": null,
            "overflow_x": null,
            "grid_auto_flow": null,
            "grid_area": null,
            "grid_template_columns": null,
            "flex": null,
            "_model_name": "LayoutModel",
            "justify_items": null,
            "grid_row": null,
            "max_height": null,
            "align_content": null,
            "visibility": null,
            "align_self": null,
            "height": null,
            "min_height": null,
            "padding": null,
            "grid_auto_rows": null,
            "grid_gap": null,
            "max_width": null,
            "order": null,
            "_view_module_version": "1.2.0",
            "grid_template_areas": null,
            "object_position": null,
            "object_fit": null,
            "grid_auto_columns": null,
            "margin": null,
            "display": null,
            "left": null
          }
        },
        "8a7c36d7847d420e936f357ddab76d41": {
          "model_module": "@jupyter-widgets/controls",
          "model_name": "DescriptionStyleModel",
          "state": {
            "_view_name": "StyleView",
            "_model_name": "DescriptionStyleModel",
            "description_width": "",
            "_view_module": "@jupyter-widgets/base",
            "_model_module_version": "1.5.0",
            "_view_count": null,
            "_view_module_version": "1.2.0",
            "_model_module": "@jupyter-widgets/controls"
          }
        },
        "b84a7f396cd64a99b88398f12af38f88": {
          "model_module": "@jupyter-widgets/base",
          "model_name": "LayoutModel",
          "state": {
            "_view_name": "LayoutView",
            "grid_template_rows": null,
            "right": null,
            "justify_content": null,
            "_view_module": "@jupyter-widgets/base",
            "overflow": null,
            "_model_module_version": "1.2.0",
            "_view_count": null,
            "flex_flow": null,
            "width": null,
            "min_width": null,
            "border": null,
            "align_items": null,
            "bottom": null,
            "_model_module": "@jupyter-widgets/base",
            "top": null,
            "grid_column": null,
            "overflow_y": null,
            "overflow_x": null,
            "grid_auto_flow": null,
            "grid_area": null,
            "grid_template_columns": null,
            "flex": null,
            "_model_name": "LayoutModel",
            "justify_items": null,
            "grid_row": null,
            "max_height": null,
            "align_content": null,
            "visibility": null,
            "align_self": null,
            "height": null,
            "min_height": null,
            "padding": null,
            "grid_auto_rows": null,
            "grid_gap": null,
            "max_width": null,
            "order": null,
            "_view_module_version": "1.2.0",
            "grid_template_areas": null,
            "object_position": null,
            "object_fit": null,
            "grid_auto_columns": null,
            "margin": null,
            "display": null,
            "left": null
          }
        },
        "5011549d99db45008320eda6d1cd8037": {
          "model_module": "@jupyter-widgets/controls",
          "model_name": "HBoxModel",
          "state": {
            "_view_name": "HBoxView",
            "_dom_classes": [],
            "_model_name": "HBoxModel",
            "_view_module": "@jupyter-widgets/controls",
            "_model_module_version": "1.5.0",
            "_view_count": null,
            "_view_module_version": "1.5.0",
            "box_style": "",
            "layout": "IPY_MODEL_7fcd35e108744e25b4779a9ffbd924db",
            "_model_module": "@jupyter-widgets/controls",
            "children": [
              "IPY_MODEL_eb3c21d7e8444f94881177ae57b672f5",
              "IPY_MODEL_28a247eeaebe4325ac71f17dde1c5751"
            ]
          }
        },
        "7fcd35e108744e25b4779a9ffbd924db": {
          "model_module": "@jupyter-widgets/base",
          "model_name": "LayoutModel",
          "state": {
            "_view_name": "LayoutView",
            "grid_template_rows": null,
            "right": null,
            "justify_content": null,
            "_view_module": "@jupyter-widgets/base",
            "overflow": null,
            "_model_module_version": "1.2.0",
            "_view_count": null,
            "flex_flow": null,
            "width": null,
            "min_width": null,
            "border": null,
            "align_items": null,
            "bottom": null,
            "_model_module": "@jupyter-widgets/base",
            "top": null,
            "grid_column": null,
            "overflow_y": null,
            "overflow_x": null,
            "grid_auto_flow": null,
            "grid_area": null,
            "grid_template_columns": null,
            "flex": null,
            "_model_name": "LayoutModel",
            "justify_items": null,
            "grid_row": null,
            "max_height": null,
            "align_content": null,
            "visibility": null,
            "align_self": null,
            "height": null,
            "min_height": null,
            "padding": null,
            "grid_auto_rows": null,
            "grid_gap": null,
            "max_width": null,
            "order": null,
            "_view_module_version": "1.2.0",
            "grid_template_areas": null,
            "object_position": null,
            "object_fit": null,
            "grid_auto_columns": null,
            "margin": null,
            "display": null,
            "left": null
          }
        },
        "eb3c21d7e8444f94881177ae57b672f5": {
          "model_module": "@jupyter-widgets/controls",
          "model_name": "FloatProgressModel",
          "state": {
            "_view_name": "ProgressView",
            "style": "IPY_MODEL_2656eb4a86f440b594f1cd4c04f5c350",
            "_dom_classes": [],
            "description": "Downloading: 100%",
            "_model_name": "FloatProgressModel",
            "bar_style": "success",
            "max": 466062,
            "_view_module": "@jupyter-widgets/controls",
            "_model_module_version": "1.5.0",
            "value": 466062,
            "_view_count": null,
            "_view_module_version": "1.5.0",
            "orientation": "horizontal",
            "min": 0,
            "description_tooltip": null,
            "_model_module": "@jupyter-widgets/controls",
            "layout": "IPY_MODEL_d581d48c6cbd447bb53e0f9cf4d2c92f"
          }
        },
        "28a247eeaebe4325ac71f17dde1c5751": {
          "model_module": "@jupyter-widgets/controls",
          "model_name": "HTMLModel",
          "state": {
            "_view_name": "HTMLView",
            "style": "IPY_MODEL_5b0a1fd02d6b4428ad22b26263d852d6",
            "_dom_classes": [],
            "description": "",
            "_model_name": "HTMLModel",
            "placeholder": "​",
            "_view_module": "@jupyter-widgets/controls",
            "_model_module_version": "1.5.0",
            "value": " 466k/466k [00:00&lt;00:00, 5.51MB/s]",
            "_view_count": null,
            "_view_module_version": "1.5.0",
            "description_tooltip": null,
            "_model_module": "@jupyter-widgets/controls",
            "layout": "IPY_MODEL_3189e0f79d9f46159564265d6e3c4038"
          }
        },
        "2656eb4a86f440b594f1cd4c04f5c350": {
          "model_module": "@jupyter-widgets/controls",
          "model_name": "ProgressStyleModel",
          "state": {
            "_view_name": "StyleView",
            "_model_name": "ProgressStyleModel",
            "description_width": "initial",
            "_view_module": "@jupyter-widgets/base",
            "_model_module_version": "1.5.0",
            "_view_count": null,
            "_view_module_version": "1.2.0",
            "bar_color": null,
            "_model_module": "@jupyter-widgets/controls"
          }
        },
        "d581d48c6cbd447bb53e0f9cf4d2c92f": {
          "model_module": "@jupyter-widgets/base",
          "model_name": "LayoutModel",
          "state": {
            "_view_name": "LayoutView",
            "grid_template_rows": null,
            "right": null,
            "justify_content": null,
            "_view_module": "@jupyter-widgets/base",
            "overflow": null,
            "_model_module_version": "1.2.0",
            "_view_count": null,
            "flex_flow": null,
            "width": null,
            "min_width": null,
            "border": null,
            "align_items": null,
            "bottom": null,
            "_model_module": "@jupyter-widgets/base",
            "top": null,
            "grid_column": null,
            "overflow_y": null,
            "overflow_x": null,
            "grid_auto_flow": null,
            "grid_area": null,
            "grid_template_columns": null,
            "flex": null,
            "_model_name": "LayoutModel",
            "justify_items": null,
            "grid_row": null,
            "max_height": null,
            "align_content": null,
            "visibility": null,
            "align_self": null,
            "height": null,
            "min_height": null,
            "padding": null,
            "grid_auto_rows": null,
            "grid_gap": null,
            "max_width": null,
            "order": null,
            "_view_module_version": "1.2.0",
            "grid_template_areas": null,
            "object_position": null,
            "object_fit": null,
            "grid_auto_columns": null,
            "margin": null,
            "display": null,
            "left": null
          }
        },
        "5b0a1fd02d6b4428ad22b26263d852d6": {
          "model_module": "@jupyter-widgets/controls",
          "model_name": "DescriptionStyleModel",
          "state": {
            "_view_name": "StyleView",
            "_model_name": "DescriptionStyleModel",
            "description_width": "",
            "_view_module": "@jupyter-widgets/base",
            "_model_module_version": "1.5.0",
            "_view_count": null,
            "_view_module_version": "1.2.0",
            "_model_module": "@jupyter-widgets/controls"
          }
        },
        "3189e0f79d9f46159564265d6e3c4038": {
          "model_module": "@jupyter-widgets/base",
          "model_name": "LayoutModel",
          "state": {
            "_view_name": "LayoutView",
            "grid_template_rows": null,
            "right": null,
            "justify_content": null,
            "_view_module": "@jupyter-widgets/base",
            "overflow": null,
            "_model_module_version": "1.2.0",
            "_view_count": null,
            "flex_flow": null,
            "width": null,
            "min_width": null,
            "border": null,
            "align_items": null,
            "bottom": null,
            "_model_module": "@jupyter-widgets/base",
            "top": null,
            "grid_column": null,
            "overflow_y": null,
            "overflow_x": null,
            "grid_auto_flow": null,
            "grid_area": null,
            "grid_template_columns": null,
            "flex": null,
            "_model_name": "LayoutModel",
            "justify_items": null,
            "grid_row": null,
            "max_height": null,
            "align_content": null,
            "visibility": null,
            "align_self": null,
            "height": null,
            "min_height": null,
            "padding": null,
            "grid_auto_rows": null,
            "grid_gap": null,
            "max_width": null,
            "order": null,
            "_view_module_version": "1.2.0",
            "grid_template_areas": null,
            "object_position": null,
            "object_fit": null,
            "grid_auto_columns": null,
            "margin": null,
            "display": null,
            "left": null
          }
        },
        "01488c7c7e4a4e6dab189673a941eab8": {
          "model_module": "@jupyter-widgets/controls",
          "model_name": "HBoxModel",
          "state": {
            "_view_name": "HBoxView",
            "_dom_classes": [],
            "_model_name": "HBoxModel",
            "_view_module": "@jupyter-widgets/controls",
            "_model_module_version": "1.5.0",
            "_view_count": null,
            "_view_module_version": "1.5.0",
            "box_style": "",
            "layout": "IPY_MODEL_7ac5604845524dcbb0f938117d9779e9",
            "_model_module": "@jupyter-widgets/controls",
            "children": [
              "IPY_MODEL_08971d407cc0412c84579715b357a82a",
              "IPY_MODEL_c24a4d047bb3467eb76923c1b0b54e4f"
            ]
          }
        },
        "7ac5604845524dcbb0f938117d9779e9": {
          "model_module": "@jupyter-widgets/base",
          "model_name": "LayoutModel",
          "state": {
            "_view_name": "LayoutView",
            "grid_template_rows": null,
            "right": null,
            "justify_content": null,
            "_view_module": "@jupyter-widgets/base",
            "overflow": null,
            "_model_module_version": "1.2.0",
            "_view_count": null,
            "flex_flow": null,
            "width": null,
            "min_width": null,
            "border": null,
            "align_items": null,
            "bottom": null,
            "_model_module": "@jupyter-widgets/base",
            "top": null,
            "grid_column": null,
            "overflow_y": null,
            "overflow_x": null,
            "grid_auto_flow": null,
            "grid_area": null,
            "grid_template_columns": null,
            "flex": null,
            "_model_name": "LayoutModel",
            "justify_items": null,
            "grid_row": null,
            "max_height": null,
            "align_content": null,
            "visibility": null,
            "align_self": null,
            "height": null,
            "min_height": null,
            "padding": null,
            "grid_auto_rows": null,
            "grid_gap": null,
            "max_width": null,
            "order": null,
            "_view_module_version": "1.2.0",
            "grid_template_areas": null,
            "object_position": null,
            "object_fit": null,
            "grid_auto_columns": null,
            "margin": null,
            "display": null,
            "left": null
          }
        },
        "08971d407cc0412c84579715b357a82a": {
          "model_module": "@jupyter-widgets/controls",
          "model_name": "FloatProgressModel",
          "state": {
            "_view_name": "ProgressView",
            "style": "IPY_MODEL_93f98ee8691f42748c2d74a17dde133b",
            "_dom_classes": [],
            "description": "Downloading: 100%",
            "_model_name": "FloatProgressModel",
            "bar_style": "success",
            "max": 570,
            "_view_module": "@jupyter-widgets/controls",
            "_model_module_version": "1.5.0",
            "value": 570,
            "_view_count": null,
            "_view_module_version": "1.5.0",
            "orientation": "horizontal",
            "min": 0,
            "description_tooltip": null,
            "_model_module": "@jupyter-widgets/controls",
            "layout": "IPY_MODEL_b954504302d84ee69d32d6fd200306a4"
          }
        },
        "c24a4d047bb3467eb76923c1b0b54e4f": {
          "model_module": "@jupyter-widgets/controls",
          "model_name": "HTMLModel",
          "state": {
            "_view_name": "HTMLView",
            "style": "IPY_MODEL_dba6089e84f241269291ebb4749fe686",
            "_dom_classes": [],
            "description": "",
            "_model_name": "HTMLModel",
            "placeholder": "​",
            "_view_module": "@jupyter-widgets/controls",
            "_model_module_version": "1.5.0",
            "value": " 570/570 [00:00&lt;00:00, 8.45kB/s]",
            "_view_count": null,
            "_view_module_version": "1.5.0",
            "description_tooltip": null,
            "_model_module": "@jupyter-widgets/controls",
            "layout": "IPY_MODEL_8fa2ad4b8ad649d2a4123ec64c015dba"
          }
        },
        "93f98ee8691f42748c2d74a17dde133b": {
          "model_module": "@jupyter-widgets/controls",
          "model_name": "ProgressStyleModel",
          "state": {
            "_view_name": "StyleView",
            "_model_name": "ProgressStyleModel",
            "description_width": "initial",
            "_view_module": "@jupyter-widgets/base",
            "_model_module_version": "1.5.0",
            "_view_count": null,
            "_view_module_version": "1.2.0",
            "bar_color": null,
            "_model_module": "@jupyter-widgets/controls"
          }
        },
        "b954504302d84ee69d32d6fd200306a4": {
          "model_module": "@jupyter-widgets/base",
          "model_name": "LayoutModel",
          "state": {
            "_view_name": "LayoutView",
            "grid_template_rows": null,
            "right": null,
            "justify_content": null,
            "_view_module": "@jupyter-widgets/base",
            "overflow": null,
            "_model_module_version": "1.2.0",
            "_view_count": null,
            "flex_flow": null,
            "width": null,
            "min_width": null,
            "border": null,
            "align_items": null,
            "bottom": null,
            "_model_module": "@jupyter-widgets/base",
            "top": null,
            "grid_column": null,
            "overflow_y": null,
            "overflow_x": null,
            "grid_auto_flow": null,
            "grid_area": null,
            "grid_template_columns": null,
            "flex": null,
            "_model_name": "LayoutModel",
            "justify_items": null,
            "grid_row": null,
            "max_height": null,
            "align_content": null,
            "visibility": null,
            "align_self": null,
            "height": null,
            "min_height": null,
            "padding": null,
            "grid_auto_rows": null,
            "grid_gap": null,
            "max_width": null,
            "order": null,
            "_view_module_version": "1.2.0",
            "grid_template_areas": null,
            "object_position": null,
            "object_fit": null,
            "grid_auto_columns": null,
            "margin": null,
            "display": null,
            "left": null
          }
        },
        "dba6089e84f241269291ebb4749fe686": {
          "model_module": "@jupyter-widgets/controls",
          "model_name": "DescriptionStyleModel",
          "state": {
            "_view_name": "StyleView",
            "_model_name": "DescriptionStyleModel",
            "description_width": "",
            "_view_module": "@jupyter-widgets/base",
            "_model_module_version": "1.5.0",
            "_view_count": null,
            "_view_module_version": "1.2.0",
            "_model_module": "@jupyter-widgets/controls"
          }
        },
        "8fa2ad4b8ad649d2a4123ec64c015dba": {
          "model_module": "@jupyter-widgets/base",
          "model_name": "LayoutModel",
          "state": {
            "_view_name": "LayoutView",
            "grid_template_rows": null,
            "right": null,
            "justify_content": null,
            "_view_module": "@jupyter-widgets/base",
            "overflow": null,
            "_model_module_version": "1.2.0",
            "_view_count": null,
            "flex_flow": null,
            "width": null,
            "min_width": null,
            "border": null,
            "align_items": null,
            "bottom": null,
            "_model_module": "@jupyter-widgets/base",
            "top": null,
            "grid_column": null,
            "overflow_y": null,
            "overflow_x": null,
            "grid_auto_flow": null,
            "grid_area": null,
            "grid_template_columns": null,
            "flex": null,
            "_model_name": "LayoutModel",
            "justify_items": null,
            "grid_row": null,
            "max_height": null,
            "align_content": null,
            "visibility": null,
            "align_self": null,
            "height": null,
            "min_height": null,
            "padding": null,
            "grid_auto_rows": null,
            "grid_gap": null,
            "max_width": null,
            "order": null,
            "_view_module_version": "1.2.0",
            "grid_template_areas": null,
            "object_position": null,
            "object_fit": null,
            "grid_auto_columns": null,
            "margin": null,
            "display": null,
            "left": null
          }
        },
        "4a2cbbf15895414c9d724746fec7db67": {
          "model_module": "@jupyter-widgets/controls",
          "model_name": "HBoxModel",
          "state": {
            "_view_name": "HBoxView",
            "_dom_classes": [],
            "_model_name": "HBoxModel",
            "_view_module": "@jupyter-widgets/controls",
            "_model_module_version": "1.5.0",
            "_view_count": null,
            "_view_module_version": "1.5.0",
            "box_style": "",
            "layout": "IPY_MODEL_ed841cc579714b5c9a00cdf94e661a84",
            "_model_module": "@jupyter-widgets/controls",
            "children": [
              "IPY_MODEL_f5bce0cdaf334df6897bbc826b4174c0",
              "IPY_MODEL_920d9a831a8d44159afd6c1cdfb04e66"
            ]
          }
        },
        "ed841cc579714b5c9a00cdf94e661a84": {
          "model_module": "@jupyter-widgets/base",
          "model_name": "LayoutModel",
          "state": {
            "_view_name": "LayoutView",
            "grid_template_rows": null,
            "right": null,
            "justify_content": null,
            "_view_module": "@jupyter-widgets/base",
            "overflow": null,
            "_model_module_version": "1.2.0",
            "_view_count": null,
            "flex_flow": null,
            "width": null,
            "min_width": null,
            "border": null,
            "align_items": null,
            "bottom": null,
            "_model_module": "@jupyter-widgets/base",
            "top": null,
            "grid_column": null,
            "overflow_y": null,
            "overflow_x": null,
            "grid_auto_flow": null,
            "grid_area": null,
            "grid_template_columns": null,
            "flex": null,
            "_model_name": "LayoutModel",
            "justify_items": null,
            "grid_row": null,
            "max_height": null,
            "align_content": null,
            "visibility": null,
            "align_self": null,
            "height": null,
            "min_height": null,
            "padding": null,
            "grid_auto_rows": null,
            "grid_gap": null,
            "max_width": null,
            "order": null,
            "_view_module_version": "1.2.0",
            "grid_template_areas": null,
            "object_position": null,
            "object_fit": null,
            "grid_auto_columns": null,
            "margin": null,
            "display": null,
            "left": null
          }
        },
        "f5bce0cdaf334df6897bbc826b4174c0": {
          "model_module": "@jupyter-widgets/controls",
          "model_name": "FloatProgressModel",
          "state": {
            "_view_name": "ProgressView",
            "style": "IPY_MODEL_e3bda285b8d445d9a0b7568a5d854fee",
            "_dom_classes": [],
            "description": "Downloading: 100%",
            "_model_name": "FloatProgressModel",
            "bar_style": "success",
            "max": 440473133,
            "_view_module": "@jupyter-widgets/controls",
            "_model_module_version": "1.5.0",
            "value": 440473133,
            "_view_count": null,
            "_view_module_version": "1.5.0",
            "orientation": "horizontal",
            "min": 0,
            "description_tooltip": null,
            "_model_module": "@jupyter-widgets/controls",
            "layout": "IPY_MODEL_4fbeee529f61464ebe58b90d06a0702d"
          }
        },
        "920d9a831a8d44159afd6c1cdfb04e66": {
          "model_module": "@jupyter-widgets/controls",
          "model_name": "HTMLModel",
          "state": {
            "_view_name": "HTMLView",
            "style": "IPY_MODEL_633e8e85882b4cc8970a1edb7d9123fb",
            "_dom_classes": [],
            "description": "",
            "_model_name": "HTMLModel",
            "placeholder": "​",
            "_view_module": "@jupyter-widgets/controls",
            "_model_module_version": "1.5.0",
            "value": " 440M/440M [00:08&lt;00:00, 50.1MB/s]",
            "_view_count": null,
            "_view_module_version": "1.5.0",
            "description_tooltip": null,
            "_model_module": "@jupyter-widgets/controls",
            "layout": "IPY_MODEL_a6c33a56b9124bf299e16012bf1ef29f"
          }
        },
        "e3bda285b8d445d9a0b7568a5d854fee": {
          "model_module": "@jupyter-widgets/controls",
          "model_name": "ProgressStyleModel",
          "state": {
            "_view_name": "StyleView",
            "_model_name": "ProgressStyleModel",
            "description_width": "initial",
            "_view_module": "@jupyter-widgets/base",
            "_model_module_version": "1.5.0",
            "_view_count": null,
            "_view_module_version": "1.2.0",
            "bar_color": null,
            "_model_module": "@jupyter-widgets/controls"
          }
        },
        "4fbeee529f61464ebe58b90d06a0702d": {
          "model_module": "@jupyter-widgets/base",
          "model_name": "LayoutModel",
          "state": {
            "_view_name": "LayoutView",
            "grid_template_rows": null,
            "right": null,
            "justify_content": null,
            "_view_module": "@jupyter-widgets/base",
            "overflow": null,
            "_model_module_version": "1.2.0",
            "_view_count": null,
            "flex_flow": null,
            "width": null,
            "min_width": null,
            "border": null,
            "align_items": null,
            "bottom": null,
            "_model_module": "@jupyter-widgets/base",
            "top": null,
            "grid_column": null,
            "overflow_y": null,
            "overflow_x": null,
            "grid_auto_flow": null,
            "grid_area": null,
            "grid_template_columns": null,
            "flex": null,
            "_model_name": "LayoutModel",
            "justify_items": null,
            "grid_row": null,
            "max_height": null,
            "align_content": null,
            "visibility": null,
            "align_self": null,
            "height": null,
            "min_height": null,
            "padding": null,
            "grid_auto_rows": null,
            "grid_gap": null,
            "max_width": null,
            "order": null,
            "_view_module_version": "1.2.0",
            "grid_template_areas": null,
            "object_position": null,
            "object_fit": null,
            "grid_auto_columns": null,
            "margin": null,
            "display": null,
            "left": null
          }
        },
        "633e8e85882b4cc8970a1edb7d9123fb": {
          "model_module": "@jupyter-widgets/controls",
          "model_name": "DescriptionStyleModel",
          "state": {
            "_view_name": "StyleView",
            "_model_name": "DescriptionStyleModel",
            "description_width": "",
            "_view_module": "@jupyter-widgets/base",
            "_model_module_version": "1.5.0",
            "_view_count": null,
            "_view_module_version": "1.2.0",
            "_model_module": "@jupyter-widgets/controls"
          }
        },
        "a6c33a56b9124bf299e16012bf1ef29f": {
          "model_module": "@jupyter-widgets/base",
          "model_name": "LayoutModel",
          "state": {
            "_view_name": "LayoutView",
            "grid_template_rows": null,
            "right": null,
            "justify_content": null,
            "_view_module": "@jupyter-widgets/base",
            "overflow": null,
            "_model_module_version": "1.2.0",
            "_view_count": null,
            "flex_flow": null,
            "width": null,
            "min_width": null,
            "border": null,
            "align_items": null,
            "bottom": null,
            "_model_module": "@jupyter-widgets/base",
            "top": null,
            "grid_column": null,
            "overflow_y": null,
            "overflow_x": null,
            "grid_auto_flow": null,
            "grid_area": null,
            "grid_template_columns": null,
            "flex": null,
            "_model_name": "LayoutModel",
            "justify_items": null,
            "grid_row": null,
            "max_height": null,
            "align_content": null,
            "visibility": null,
            "align_self": null,
            "height": null,
            "min_height": null,
            "padding": null,
            "grid_auto_rows": null,
            "grid_gap": null,
            "max_width": null,
            "order": null,
            "_view_module_version": "1.2.0",
            "grid_template_areas": null,
            "object_position": null,
            "object_fit": null,
            "grid_auto_columns": null,
            "margin": null,
            "display": null,
            "left": null
          }
        }
      }
    }
  },
  "cells": [
    {
      "cell_type": "markdown",
      "metadata": {
        "id": "view-in-github",
        "colab_type": "text"
      },
      "source": [
        "<a href=\"https://colab.research.google.com/github/pavlo-seimskyi/nlp-sentiment-analysis/blob/main/sentiment-analysis-nb.ipynb\" target=\"_parent\"><img src=\"https://colab.research.google.com/assets/colab-badge.svg\" alt=\"Open In Colab\"/></a>"
      ]
    },
    {
      "cell_type": "markdown",
      "metadata": {
        "id": "Jie9o7bPPzwj"
      },
      "source": [
        "# **TL;DR**\n",
        "Logistic Regression and [BERT](https://huggingface.co/bert-base-uncased) models were trained on 110,000 training examples of the `Sentiment140-train` dataset and evaluated on `Sentiment-140-valid` (10% or 11,000 examples from the training set), `Sentiment140-test`, and `Dublin City Council` datasets.\n",
        "\n",
        "**Main challenges**:\n",
        "- Training data contains *2 labels* (`negative/positive`) while the test data contains *3* (`negative/positive/neutral`). The accuracy drops dramatically from binary to 3-label-classification.\n",
        "- Dublin City Council is out-of-domain data and differs notably from the training data, especially in the formality of the language.\n",
        "\n",
        "**Decisions taken along the process**:\n",
        "- Since the training set only contained labels `0` and `4`, labels `4` were converted into `1` for convenience.\n",
        "- To convert the model from binary into 3-label-classifier, the prediction probabilities were tested against a `threshold`. If the model's prediction certainty/probability is low (i.e. the model is not very confident about its prediction), the prediction was set to `2` or `neutral`. This improved the accuracy by +2.2% on the final test set for Logistic Regression but almost did not improve it for BERT (+0.03%).\n",
        "- To understand why the models made errors, I found top losses for each test example (both Sentiment140 and Dublin City council data), i.e. cases when the model was very confident in its prediction but it was incorrect. \n",
        "- Additionally, in case of Logistic Regression, for each token in top loss examples, I printed the model coefficients to see how the token impacted the final score.\n",
        "- I used a dropout layer (`p=30%`) as regularization and a linear + softmax layer on top of the BERT's encoder to convert the raw pooled output into labels `0` and `1` (recommended by the original research paper).\n",
        "\n",
        "**Results**:\n",
        "- `Sentiment140-valid:           LogReg 74% | BERT 85%`\n",
        "- `Sentiment140-test (2 labels): LogReg 77% | BERT 82%`\n",
        "- `Sentiment140-test (3 labels): LogReg 57% | BERT 60%`\n",
        "- `Dublin-test (2 labels):       LogReg 67% | BERT 66%`\n",
        "- `Dublin-test (3 labels):       LogReg 47% | BERT 44%`\n",
        "\n",
        "## 1. Baseline\n",
        "Before using Machine Learning at all, I used a simple dummy approach to see the minimum possible accuracy that I can get. Logic: For each word in the corpus, 2 different scores were given: How many times this word appeared in negative tweets, and how many times in positive tweets. To make prediction, I simply summed the negative and the positive scores across each word >>> If negative sum is higher, predict `negative` and vice versa. This approach gave 65% accuracy on the unseen training data, so I knew that this is the minimum that I need to aim for on the validation set.\n",
        "\n",
        "## 2. Logistic Regression\n",
        "To convert text into numbers, I used TF-IDF for text vectorization. Only 1,000 maximally relevant tokens/words were kept. Different hyperparameters were tested with `Grid Search` on a small subset of training examples and later used in training the model on more data. To use the model as a 3-label-classifier, the prediction probabilities were compared against a threshold , the predictions were set to `neutral`.\n",
        "\n",
        "## 3. BERT\n",
        "Pretrained [BERT model](https://huggingface.co/bert-base-uncased) in combination with pretrained tokenizer (both are `bert-base-uncased`) was used as the final model. I used a dropout layer with probability of 30% as regularization and a softmax layer on top of the model's encoder to convert the pooled output into labels `0` and `1`. This architecture was chosen because it is recommended in the [original research paper](https://arxiv.org/abs/1810.04805). BERT was fine-tuned during 10 epochs and the parameters that proved the best accuracy on the validation set were saved. The same approach was used to convert BERT into 3-label-classifier as with LogReg.\n",
        "\n",
        "\n",
        "**Error analysis and interesting observations**:\n",
        "- Either the annotation quality is below desired or the model has difficulties recognizing **ironic/sarcastic** sentences. Example - Tweet with id `2327969640` seems to convey a positive sentiment while carrying a negative label: \n",
        "```\n",
        "@personalhudgens aww i bet i'm good thank you x\n",
        "```\n",
        "- Emojis could help to recognize sarcastic tweets if they were preprocessed properly. Examples:\n",
        "```\n",
        "Correct label: 0 | Prediction: 1\n",
        "Tokenized text: @kirstiealley my dentist is great (0.15) but she 's (-0.01) expensive … (-0.07) =(\n",
        "```\n",
        "```\n",
        "Correct label: 0 | Prediction: 1\n",
        "Tokenized text: xxmaj night (0.02) at the xxmaj museum tonite instead (-0.0) of xxup up . (-0.03) :( oh (-0.04) well . (-0.03) that 4 (-0.03) yr old (-0.0) better (0.06) enjoy (0.09) it . (-0.03) xxup lol (0.1)\n",
        "```\n",
        "```\n",
        "Correct label: 1 | Prediction: 0\n",
        "Tokenized text: xxmaj class (-0.02) … (-0.07) xxmaj the 50d is supposed (-0.04) to come (-0.01) today (-0.03) :)\n",
        "```\n",
        "- Many emoticons mean the same thing but are not recognized as such. Like `=)`, `:-)` and `:)`. Other emoticons are not recognized at all (like ❤️ ) while they carry a lot of meaning.\n",
        "- In case of logistic regression, certain numbers have negative sentiment which does not really make sense.\n",
        "- Both models' accuracy was **lower** on topics of `Mobility`, `Health`, `Safety`, `Housing`, `Infrastructure` for Dublin City Council test set, and **higher** for `Public Spaces`, `Tourism and Hospitality` and `Community and Culture`. This might because Dublin's spheres of mobility, infrastructure and housing are very special to the city and cannot be generalized well from data from other places.\n",
        "\n",
        "**`[INSERT ACCURACY BY CATEGORY]`**\n",
        "\n",
        "**Model's improvement suggestions**:\n",
        "- First and foremost, the model should be trained on data with 3 labels, not with 2. It might be most helpful to hire some freelancers to annotate `neutral` tweets to get high quality data.\n",
        "- Edit the preprocessing steps. A code example of the implementation of these improvements is in the end of the notebook (`Research questions` section):\n",
        "  - Replace hyperlinks with special tokens (like `xxhyperlink`).\n",
        "  - Replace all the different numbers with a single token (like `xxnumber`).\n",
        "  - Preprocess emojis and convert other html symbols into recognizable tokens (Convert `:)`, `=)`, `:-)`, etc. into the same token `xxsmileemoji` and `&#10084;` and `<3` into `xxheart`).\n",
        "  - It would be probably better to remove the remaining punctuation altogether.\n",
        "- To address the domain differences between Sentiment140 and Dublin City Council datasets, a self-supervised [language model](https://www.d2l.ai/chapter_recurrent-neural-networks/language-models-and-dataset.html) (that predicts the next word in the sentence) could be trained on unlabeled tweets scraped specifically from Dublin area. This model could be used as the pretrained model for classification later, instead of the original pretrained `BERT-base-uncased`. This technique has proved itself quite well in similar classification tasks.\n",
        "- The results would improve slightly if it was trained on more training examples. I stopped with 110,000 because with more it would have taken more time than was possible to use Google Colab. But from my observations, the results increased by only 1-2% by going from 10,000 to 110,000 examples.\n",
        "- Spend more time on tweaking the models' hyperparameters. For Logistic Regression, `GridSearchCV` with a small set of parameters was used to find the best ones on 200 training examples (otherwise, it took too long with 1,000 features). More data could be used as well as bigger set of parameters tested. For BERT, different dropout rates as well as learning rates could be tested.\n",
        "\n",
        "**Author**: [Pavlo Seimskyi](mailto:pavlo@dataforfuture.org)"
      ]
    },
    {
      "cell_type": "code",
      "metadata": {
        "id": "H79IUSA21z9W"
      },
      "source": [
        "%%capture\n",
        "!pip install fastai==2.1.10\n",
        "!pip install transformers"
      ],
      "execution_count": null,
      "outputs": []
    },
    {
      "cell_type": "code",
      "metadata": {
        "id": "UChtrqu1CtF1"
      },
      "source": [
        "from fastai.text.all import *\n",
        "from torch.nn.utils.rnn import pad_sequence\n",
        "import seaborn as sns\n",
        "import matplotlib.pyplot as plt\n",
        "import re                                  \n",
        "import string\n",
        "\n",
        "from nltk.corpus import stopwords          \n",
        "from nltk.stem import PorterStemmer        \n",
        "from nltk.tokenize import TweetTokenizer\n",
        "\n",
        "from sklearn.feature_extraction.text import TfidfVectorizer\n",
        "from sklearn.feature_selection import SelectPercentile, f_classif\n",
        "from sklearn.model_selection import train_test_split, GridSearchCV\n",
        "from sklearn.preprocessing import StandardScaler\n",
        "from sklearn.linear_model import LogisticRegression\n",
        "from sklearn.metrics import accuracy_score, confusion_matrix, plot_confusion_matrix, classification_report, f1_score, plot_roc_curve, plot_precision_recall_curve, log_loss"
      ],
      "execution_count": null,
      "outputs": []
    },
    {
      "cell_type": "code",
      "metadata": {
        "id": "dGvggOp21_2w",
        "colab": {
          "base_uri": "https://localhost:8080/"
        },
        "outputId": "af9da631-f1ef-4ff5-a41c-2a3bfd020baa"
      },
      "source": [
        "from google.colab import drive\n",
        "drive.mount('/content/drive')"
      ],
      "execution_count": null,
      "outputs": [
        {
          "output_type": "stream",
          "text": [
            "Mounted at /content/drive\n"
          ],
          "name": "stdout"
        }
      ]
    },
    {
      "cell_type": "code",
      "metadata": {
        "id": "9UNvY1Ya6rOv"
      },
      "source": [
        "%%capture\n",
        "!cp \"drive/My Drive/Data Science/Citibeats Test/data.zip\" .\n",
        "!unzip data.zip"
      ],
      "execution_count": null,
      "outputs": []
    },
    {
      "cell_type": "code",
      "metadata": {
        "id": "e5MKDo3O4zrX",
        "colab": {
          "base_uri": "https://localhost:8080/",
          "height": 589
        },
        "outputId": "8fca97e7-af21-4cd2-826e-2e7808a4d3af"
      },
      "source": [
        "df_full = pd.read_csv('data/Sentiment140-train.csv', encoding='ISO-8859-1')\n",
        "df_full.columns = ['target', 'id', 'date', 'retrieval_query', 'user', 'text_raw']\n",
        "df_full"
      ],
      "execution_count": null,
      "outputs": [
        {
          "output_type": "execute_result",
          "data": {
            "text/html": [
              "<div>\n",
              "<style scoped>\n",
              "    .dataframe tbody tr th:only-of-type {\n",
              "        vertical-align: middle;\n",
              "    }\n",
              "\n",
              "    .dataframe tbody tr th {\n",
              "        vertical-align: top;\n",
              "    }\n",
              "\n",
              "    .dataframe thead th {\n",
              "        text-align: right;\n",
              "    }\n",
              "</style>\n",
              "<table border=\"1\" class=\"dataframe\">\n",
              "  <thead>\n",
              "    <tr style=\"text-align: right;\">\n",
              "      <th></th>\n",
              "      <th>target</th>\n",
              "      <th>id</th>\n",
              "      <th>date</th>\n",
              "      <th>retrieval_query</th>\n",
              "      <th>user</th>\n",
              "      <th>text_raw</th>\n",
              "    </tr>\n",
              "  </thead>\n",
              "  <tbody>\n",
              "    <tr>\n",
              "      <th>0</th>\n",
              "      <td>0</td>\n",
              "      <td>1467810672</td>\n",
              "      <td>Mon Apr 06 22:19:49 PDT 2009</td>\n",
              "      <td>NO_QUERY</td>\n",
              "      <td>scotthamilton</td>\n",
              "      <td>is upset that he can't update his Facebook by texting it... and might cry as a result  School today also. Blah!</td>\n",
              "    </tr>\n",
              "    <tr>\n",
              "      <th>1</th>\n",
              "      <td>0</td>\n",
              "      <td>1467810917</td>\n",
              "      <td>Mon Apr 06 22:19:53 PDT 2009</td>\n",
              "      <td>NO_QUERY</td>\n",
              "      <td>mattycus</td>\n",
              "      <td>@Kenichan I dived many times for the ball. Managed to save 50%  The rest go out of bounds</td>\n",
              "    </tr>\n",
              "    <tr>\n",
              "      <th>2</th>\n",
              "      <td>0</td>\n",
              "      <td>1467811184</td>\n",
              "      <td>Mon Apr 06 22:19:57 PDT 2009</td>\n",
              "      <td>NO_QUERY</td>\n",
              "      <td>ElleCTF</td>\n",
              "      <td>my whole body feels itchy and like its on fire</td>\n",
              "    </tr>\n",
              "    <tr>\n",
              "      <th>3</th>\n",
              "      <td>0</td>\n",
              "      <td>1467811193</td>\n",
              "      <td>Mon Apr 06 22:19:57 PDT 2009</td>\n",
              "      <td>NO_QUERY</td>\n",
              "      <td>Karoli</td>\n",
              "      <td>@nationwideclass no, it's not behaving at all. i'm mad. why am i here? because I can't see you all over there.</td>\n",
              "    </tr>\n",
              "    <tr>\n",
              "      <th>4</th>\n",
              "      <td>0</td>\n",
              "      <td>1467811372</td>\n",
              "      <td>Mon Apr 06 22:20:00 PDT 2009</td>\n",
              "      <td>NO_QUERY</td>\n",
              "      <td>joy_wolf</td>\n",
              "      <td>@Kwesidei not the whole crew</td>\n",
              "    </tr>\n",
              "    <tr>\n",
              "      <th>...</th>\n",
              "      <td>...</td>\n",
              "      <td>...</td>\n",
              "      <td>...</td>\n",
              "      <td>...</td>\n",
              "      <td>...</td>\n",
              "      <td>...</td>\n",
              "    </tr>\n",
              "    <tr>\n",
              "      <th>1599994</th>\n",
              "      <td>4</td>\n",
              "      <td>2193601966</td>\n",
              "      <td>Tue Jun 16 08:40:49 PDT 2009</td>\n",
              "      <td>NO_QUERY</td>\n",
              "      <td>AmandaMarie1028</td>\n",
              "      <td>Just woke up. Having no school is the best feeling ever</td>\n",
              "    </tr>\n",
              "    <tr>\n",
              "      <th>1599995</th>\n",
              "      <td>4</td>\n",
              "      <td>2193601969</td>\n",
              "      <td>Tue Jun 16 08:40:49 PDT 2009</td>\n",
              "      <td>NO_QUERY</td>\n",
              "      <td>TheWDBoards</td>\n",
              "      <td>TheWDB.com - Very cool to hear old Walt interviews!  â« http://blip.fm/~8bmta</td>\n",
              "    </tr>\n",
              "    <tr>\n",
              "      <th>1599996</th>\n",
              "      <td>4</td>\n",
              "      <td>2193601991</td>\n",
              "      <td>Tue Jun 16 08:40:49 PDT 2009</td>\n",
              "      <td>NO_QUERY</td>\n",
              "      <td>bpbabe</td>\n",
              "      <td>Are you ready for your MoJo Makeover? Ask me for details</td>\n",
              "    </tr>\n",
              "    <tr>\n",
              "      <th>1599997</th>\n",
              "      <td>4</td>\n",
              "      <td>2193602064</td>\n",
              "      <td>Tue Jun 16 08:40:49 PDT 2009</td>\n",
              "      <td>NO_QUERY</td>\n",
              "      <td>tinydiamondz</td>\n",
              "      <td>Happy 38th Birthday to my boo of alll time!!! Tupac Amaru Shakur</td>\n",
              "    </tr>\n",
              "    <tr>\n",
              "      <th>1599998</th>\n",
              "      <td>4</td>\n",
              "      <td>2193602129</td>\n",
              "      <td>Tue Jun 16 08:40:50 PDT 2009</td>\n",
              "      <td>NO_QUERY</td>\n",
              "      <td>RyanTrevMorris</td>\n",
              "      <td>happy #charitytuesday @theNSPCC @SparksCharity @SpeakingUpH4H</td>\n",
              "    </tr>\n",
              "  </tbody>\n",
              "</table>\n",
              "<p>1599999 rows × 6 columns</p>\n",
              "</div>"
            ],
            "text/plain": [
              "         target  ...                                                                                                         text_raw\n",
              "0             0  ...  is upset that he can't update his Facebook by texting it... and might cry as a result  School today also. Blah!\n",
              "1             0  ...                        @Kenichan I dived many times for the ball. Managed to save 50%  The rest go out of bounds\n",
              "2             0  ...                                                                  my whole body feels itchy and like its on fire \n",
              "3             0  ...  @nationwideclass no, it's not behaving at all. i'm mad. why am i here? because I can't see you all over there. \n",
              "4             0  ...                                                                                    @Kwesidei not the whole crew \n",
              "...         ...  ...                                                                                                              ...\n",
              "1599994       4  ...                                                         Just woke up. Having no school is the best feeling ever \n",
              "1599995       4  ...                                   TheWDB.com - Very cool to hear old Walt interviews!  â« http://blip.fm/~8bmta\n",
              "1599996       4  ...                                                        Are you ready for your MoJo Makeover? Ask me for details \n",
              "1599997       4  ...                                                Happy 38th Birthday to my boo of alll time!!! Tupac Amaru Shakur \n",
              "1599998       4  ...                                                   happy #charitytuesday @theNSPCC @SparksCharity @SpeakingUpH4H \n",
              "\n",
              "[1599999 rows x 6 columns]"
            ]
          },
          "metadata": {
            "tags": []
          },
          "execution_count": 5
        }
      ]
    },
    {
      "cell_type": "code",
      "metadata": {
        "colab": {
          "base_uri": "https://localhost:8080/",
          "height": 355
        },
        "id": "Npm4a9R8-bhL",
        "outputId": "dd025eab-3c79-46a2-be40-a97ae350555d"
      },
      "source": [
        "sns.set(style=\"whitegrid\")\n",
        "fig,ax = plt.subplots(figsize=(7,5))\n",
        "ax.set_title('Count of targets (full dataset)', weight=700)\n",
        "sns.countplot(data=df_full,x='target');"
      ],
      "execution_count": null,
      "outputs": [
        {
          "output_type": "display_data",
          "data": {
            "image/png": "[encoded data removed]",
            "text/plain": [
              "<Figure size 504x360 with 1 Axes>"
            ]
          },
          "metadata": {
            "tags": []
          }
        }
      ]
    },
    {
      "cell_type": "code",
      "metadata": {
        "colab": {
          "base_uri": "https://localhost:8080/",
          "height": 35
        },
        "id": "6hy-nKhz8ukm",
        "outputId": "288d44dc-04bb-43e1-ecf9-40c80acc42da"
      },
      "source": [
        "df_full.text_raw[0]"
      ],
      "execution_count": null,
      "outputs": [
        {
          "output_type": "execute_result",
          "data": {
            "application/vnd.google.colaboratory.intrinsic+json": {
              "type": "string"
            },
            "text/plain": [
              "\"is upset that he can't update his Facebook by texting it... and might cry as a result  School today also. Blah!\""
            ]
          },
          "metadata": {
            "tags": []
          },
          "execution_count": 7
        }
      ]
    },
    {
      "cell_type": "code",
      "metadata": {
        "colab": {
          "base_uri": "https://localhost:8080/",
          "height": 589
        },
        "id": "7Y0vNkP4DsR2",
        "outputId": "91129e66-90a5-4a8e-d3c6-c28f1a857018"
      },
      "source": [
        "# Rename the labels: 4 >> 1\n",
        "df_full['target'] = df_full['target'].replace({4:1})\n",
        "df_full"
      ],
      "execution_count": null,
      "outputs": [
        {
          "output_type": "execute_result",
          "data": {
            "text/html": [
              "<div>\n",
              "<style scoped>\n",
              "    .dataframe tbody tr th:only-of-type {\n",
              "        vertical-align: middle;\n",
              "    }\n",
              "\n",
              "    .dataframe tbody tr th {\n",
              "        vertical-align: top;\n",
              "    }\n",
              "\n",
              "    .dataframe thead th {\n",
              "        text-align: right;\n",
              "    }\n",
              "</style>\n",
              "<table border=\"1\" class=\"dataframe\">\n",
              "  <thead>\n",
              "    <tr style=\"text-align: right;\">\n",
              "      <th></th>\n",
              "      <th>target</th>\n",
              "      <th>id</th>\n",
              "      <th>date</th>\n",
              "      <th>retrieval_query</th>\n",
              "      <th>user</th>\n",
              "      <th>text_raw</th>\n",
              "    </tr>\n",
              "  </thead>\n",
              "  <tbody>\n",
              "    <tr>\n",
              "      <th>0</th>\n",
              "      <td>0</td>\n",
              "      <td>1467810672</td>\n",
              "      <td>Mon Apr 06 22:19:49 PDT 2009</td>\n",
              "      <td>NO_QUERY</td>\n",
              "      <td>scotthamilton</td>\n",
              "      <td>is upset that he can't update his Facebook by texting it... and might cry as a result  School today also. Blah!</td>\n",
              "    </tr>\n",
              "    <tr>\n",
              "      <th>1</th>\n",
              "      <td>0</td>\n",
              "      <td>1467810917</td>\n",
              "      <td>Mon Apr 06 22:19:53 PDT 2009</td>\n",
              "      <td>NO_QUERY</td>\n",
              "      <td>mattycus</td>\n",
              "      <td>@Kenichan I dived many times for the ball. Managed to save 50%  The rest go out of bounds</td>\n",
              "    </tr>\n",
              "    <tr>\n",
              "      <th>2</th>\n",
              "      <td>0</td>\n",
              "      <td>1467811184</td>\n",
              "      <td>Mon Apr 06 22:19:57 PDT 2009</td>\n",
              "      <td>NO_QUERY</td>\n",
              "      <td>ElleCTF</td>\n",
              "      <td>my whole body feels itchy and like its on fire</td>\n",
              "    </tr>\n",
              "    <tr>\n",
              "      <th>3</th>\n",
              "      <td>0</td>\n",
              "      <td>1467811193</td>\n",
              "      <td>Mon Apr 06 22:19:57 PDT 2009</td>\n",
              "      <td>NO_QUERY</td>\n",
              "      <td>Karoli</td>\n",
              "      <td>@nationwideclass no, it's not behaving at all. i'm mad. why am i here? because I can't see you all over there.</td>\n",
              "    </tr>\n",
              "    <tr>\n",
              "      <th>4</th>\n",
              "      <td>0</td>\n",
              "      <td>1467811372</td>\n",
              "      <td>Mon Apr 06 22:20:00 PDT 2009</td>\n",
              "      <td>NO_QUERY</td>\n",
              "      <td>joy_wolf</td>\n",
              "      <td>@Kwesidei not the whole crew</td>\n",
              "    </tr>\n",
              "    <tr>\n",
              "      <th>...</th>\n",
              "      <td>...</td>\n",
              "      <td>...</td>\n",
              "      <td>...</td>\n",
              "      <td>...</td>\n",
              "      <td>...</td>\n",
              "      <td>...</td>\n",
              "    </tr>\n",
              "    <tr>\n",
              "      <th>1599994</th>\n",
              "      <td>1</td>\n",
              "      <td>2193601966</td>\n",
              "      <td>Tue Jun 16 08:40:49 PDT 2009</td>\n",
              "      <td>NO_QUERY</td>\n",
              "      <td>AmandaMarie1028</td>\n",
              "      <td>Just woke up. Having no school is the best feeling ever</td>\n",
              "    </tr>\n",
              "    <tr>\n",
              "      <th>1599995</th>\n",
              "      <td>1</td>\n",
              "      <td>2193601969</td>\n",
              "      <td>Tue Jun 16 08:40:49 PDT 2009</td>\n",
              "      <td>NO_QUERY</td>\n",
              "      <td>TheWDBoards</td>\n",
              "      <td>TheWDB.com - Very cool to hear old Walt interviews!  â« http://blip.fm/~8bmta</td>\n",
              "    </tr>\n",
              "    <tr>\n",
              "      <th>1599996</th>\n",
              "      <td>1</td>\n",
              "      <td>2193601991</td>\n",
              "      <td>Tue Jun 16 08:40:49 PDT 2009</td>\n",
              "      <td>NO_QUERY</td>\n",
              "      <td>bpbabe</td>\n",
              "      <td>Are you ready for your MoJo Makeover? Ask me for details</td>\n",
              "    </tr>\n",
              "    <tr>\n",
              "      <th>1599997</th>\n",
              "      <td>1</td>\n",
              "      <td>2193602064</td>\n",
              "      <td>Tue Jun 16 08:40:49 PDT 2009</td>\n",
              "      <td>NO_QUERY</td>\n",
              "      <td>tinydiamondz</td>\n",
              "      <td>Happy 38th Birthday to my boo of alll time!!! Tupac Amaru Shakur</td>\n",
              "    </tr>\n",
              "    <tr>\n",
              "      <th>1599998</th>\n",
              "      <td>1</td>\n",
              "      <td>2193602129</td>\n",
              "      <td>Tue Jun 16 08:40:50 PDT 2009</td>\n",
              "      <td>NO_QUERY</td>\n",
              "      <td>RyanTrevMorris</td>\n",
              "      <td>happy #charitytuesday @theNSPCC @SparksCharity @SpeakingUpH4H</td>\n",
              "    </tr>\n",
              "  </tbody>\n",
              "</table>\n",
              "<p>1599999 rows × 6 columns</p>\n",
              "</div>"
            ],
            "text/plain": [
              "         target  ...                                                                                                         text_raw\n",
              "0             0  ...  is upset that he can't update his Facebook by texting it... and might cry as a result  School today also. Blah!\n",
              "1             0  ...                        @Kenichan I dived many times for the ball. Managed to save 50%  The rest go out of bounds\n",
              "2             0  ...                                                                  my whole body feels itchy and like its on fire \n",
              "3             0  ...  @nationwideclass no, it's not behaving at all. i'm mad. why am i here? because I can't see you all over there. \n",
              "4             0  ...                                                                                    @Kwesidei not the whole crew \n",
              "...         ...  ...                                                                                                              ...\n",
              "1599994       1  ...                                                         Just woke up. Having no school is the best feeling ever \n",
              "1599995       1  ...                                   TheWDB.com - Very cool to hear old Walt interviews!  â« http://blip.fm/~8bmta\n",
              "1599996       1  ...                                                        Are you ready for your MoJo Makeover? Ask me for details \n",
              "1599997       1  ...                                                Happy 38th Birthday to my boo of alll time!!! Tupac Amaru Shakur \n",
              "1599998       1  ...                                                   happy #charitytuesday @theNSPCC @SparksCharity @SpeakingUpH4H \n",
              "\n",
              "[1599999 rows x 6 columns]"
            ]
          },
          "metadata": {
            "tags": []
          },
          "execution_count": 8
        }
      ]
    },
    {
      "cell_type": "code",
      "metadata": {
        "id": "nVGd6mTm-6sr"
      },
      "source": [
        "# CHANGE THIS\n",
        "df = df_full.sample(110000, random_state=101)"
      ],
      "execution_count": null,
      "outputs": []
    },
    {
      "cell_type": "code",
      "metadata": {
        "colab": {
          "base_uri": "https://localhost:8080/",
          "height": 355
        },
        "id": "fCqA07QU--YZ",
        "outputId": "be3a4c0a-ac4a-4247-8f56-79a3091ea8d8"
      },
      "source": [
        "fig,ax = plt.subplots(figsize=(7,5))\n",
        "ax.set_title('Count of targets (sample)', weight=700)\n",
        "sns.countplot(data=df,x='target');"
      ],
      "execution_count": null,
      "outputs": [
        {
          "output_type": "display_data",
          "data": {
            "image/png": "[encoded data removed]",
            "text/plain": [
              "<Figure size 504x360 with 1 Axes>"
            ]
          },
          "metadata": {
            "tags": []
          }
        }
      ]
    },
    {
      "cell_type": "markdown",
      "metadata": {
        "id": "Ewb55SXsiMqr"
      },
      "source": [
        "# 1: Use the count of words with pos/neg labels to predict (not ML)"
      ]
    },
    {
      "cell_type": "markdown",
      "metadata": {
        "id": "UwgRxTiRTvB9"
      },
      "source": [
        "## Preprocessing"
      ]
    },
    {
      "cell_type": "code",
      "metadata": {
        "id": "rTD4x08jsUWc",
        "colab": {
          "base_uri": "https://localhost:8080/"
        },
        "outputId": "12d9a130-eb3f-4dfe-dabe-4c1ae5daf163"
      },
      "source": [
        "import nltk\n",
        "nltk.download('stopwords')"
      ],
      "execution_count": null,
      "outputs": [
        {
          "output_type": "stream",
          "text": [
            "[nltk_data] Downloading package stopwords to /root/nltk_data...\n",
            "[nltk_data]   Unzipping corpora/stopwords.zip.\n"
          ],
          "name": "stdout"
        },
        {
          "output_type": "execute_result",
          "data": {
            "text/plain": [
              "True"
            ]
          },
          "metadata": {
            "tags": []
          },
          "execution_count": 11
        }
      ]
    },
    {
      "cell_type": "code",
      "metadata": {
        "id": "q9Gw7Wk5FIN8"
      },
      "source": [
        "def text_process(tweet):\n",
        "    tweet = re.sub(r'^RT[\\s]+', '', tweet) # remove RT\n",
        "    tweet = re.sub(r'https?:\\/\\/.*[\\r\\n]*', 'hyperlink', tweet) # remove hyperlinks\n",
        "    tweet = re.sub(r'#', '# ', tweet) # add space after hashtag symbols\n",
        "\n",
        "    tokenizer = TweetTokenizer()\n",
        "    tweet_tokenized = tokenizer.tokenize(tweet)\n",
        "\n",
        "    stopwords_english = stopwords.words('english')\n",
        "\n",
        "    tweet_processed= [word for word in tweet_tokenized \n",
        "                       if word not in stopwords_english \n",
        "                       and word not in string.punctuation]\n",
        "\n",
        "    stemmer = PorterStemmer() \n",
        "\n",
        "    tweet_after_stem=[stemmer.stem(word) for word in tweet_processed]\n",
        "    \n",
        "    return tweet_after_stem"
      ],
      "execution_count": null,
      "outputs": []
    },
    {
      "cell_type": "code",
      "metadata": {
        "colab": {
          "base_uri": "https://localhost:8080/"
        },
        "id": "5GkZh4NjFIG_",
        "outputId": "074ba608-9037-40a6-fa90-6bff418234f9"
      },
      "source": [
        "text_process(df.text_raw.iloc[12])"
      ],
      "execution_count": null,
      "outputs": [
        {
          "output_type": "execute_result",
          "data": {
            "text/plain": [
              "[\"it'\",\n",
              " 'time',\n",
              " 'I',\n",
              " 'put',\n",
              " 'foot',\n",
              " 'n',\n",
              " 'end',\n",
              " 'BS',\n",
              " 'stress',\n",
              " 'long',\n",
              " 'I',\n",
              " 'need',\n",
              " 'strenght',\n",
              " '2',\n",
              " 'hate',\n",
              " 'sad']"
            ]
          },
          "metadata": {
            "tags": []
          },
          "execution_count": 13
        }
      ]
    },
    {
      "cell_type": "markdown",
      "metadata": {
        "id": "pJmOkyHCXQHw"
      },
      "source": [
        "### Constructing a vocab with frequencies of words occuring in positive and negative tweets"
      ]
    },
    {
      "cell_type": "code",
      "metadata": {
        "id": "RIjEy4UWTw55"
      },
      "source": [
        "def calculate_freqs(all_positive_tweets, all_negative_tweets):\n",
        "  pos_words=[]\n",
        "  for tweet in all_positive_tweets:\n",
        "      tweet=text_process(tweet)\n",
        "      \n",
        "      for word in tweet:\n",
        "          \n",
        "          pos_words.append(word)\n",
        "  freq_pos={}\n",
        "  for word in pos_words:\n",
        "      if (word,1) not in freq_pos:\n",
        "          freq_pos[(word,1)]=1\n",
        "      else:\n",
        "          freq_pos[(word,1)]=freq_pos[(word,1)]+1\n",
        "  neg_words=[]\n",
        "  for tweet in all_negative_tweets:\n",
        "      tweet=text_process(tweet)\n",
        "      \n",
        "      for word in tweet:\n",
        "          \n",
        "          neg_words.append(word)\n",
        "  freq_neg={}\n",
        "  for word in neg_words:\n",
        "      if (word,0) not in freq_neg:\n",
        "          freq_neg[(word,0)]=1\n",
        "      else:\n",
        "          freq_neg[(word,0)]=freq_neg[(word,0)]+1\n",
        "  freqs_dict = dict(freq_pos)\n",
        "  freqs_dict.update(freq_neg)\n",
        "  return freqs_dict"
      ],
      "execution_count": null,
      "outputs": []
    },
    {
      "cell_type": "code",
      "metadata": {
        "id": "AgftAUXHlTZF"
      },
      "source": [
        "# Only take first 8,000 examples to train, evaluate on 2,000\n",
        "# We don't need more since this is a dummy approach just to have some baseline\n",
        "X_train = df.iloc[:8000]\n",
        "X_test = df.iloc[8000:10000]"
      ],
      "execution_count": null,
      "outputs": []
    },
    {
      "cell_type": "code",
      "metadata": {
        "id": "cHAuyJ05lnjW"
      },
      "source": [
        "freqs = calculate_freqs(X_train[X_train['target'] == 1]['text_raw'], X_train[X_train['target'] == 0]['text_raw'])"
      ],
      "execution_count": null,
      "outputs": []
    },
    {
      "cell_type": "code",
      "metadata": {
        "id": "xq4sRn36iodh"
      },
      "source": [
        "def get_score(text, freqs=freqs) :\n",
        "  negative_score = 0; positive_score = 0\n",
        "  for word in text_process(text) :\n",
        "    if (word, 0) not in freqs : negative_score += 0\n",
        "    else: negative_score += freqs[(word, 0)]\n",
        "  \n",
        "    if (word, 1) not in freqs : positive_score += 0\n",
        "    else: positive_score += freqs[(word, 1)]\n",
        "    \n",
        "  if negative_score > positive_score : label = 0\n",
        "  else : label = 1\n",
        "  return label"
      ],
      "execution_count": null,
      "outputs": []
    },
    {
      "cell_type": "code",
      "metadata": {
        "colab": {
          "base_uri": "https://localhost:8080/"
        },
        "id": "U4pMtJ9Hmk5x",
        "outputId": "8277b885-023a-49e8-f820-8e2bd25140ec"
      },
      "source": [
        "get_score(X_test.iloc[0].text_raw)"
      ],
      "execution_count": null,
      "outputs": [
        {
          "output_type": "execute_result",
          "data": {
            "text/plain": [
              "0"
            ]
          },
          "metadata": {
            "tags": []
          },
          "execution_count": 18
        }
      ]
    },
    {
      "cell_type": "code",
      "metadata": {
        "id": "rdV6Qmj9o9_t",
        "colab": {
          "base_uri": "https://localhost:8080/"
        },
        "outputId": "68623a91-64b3-49a8-b1ae-0a7f0cd5b0af"
      },
      "source": [
        "get_score(X_test.iloc[2].text_raw)"
      ],
      "execution_count": null,
      "outputs": [
        {
          "output_type": "execute_result",
          "data": {
            "text/plain": [
              "1"
            ]
          },
          "metadata": {
            "tags": []
          },
          "execution_count": 19
        }
      ]
    },
    {
      "cell_type": "code",
      "metadata": {
        "id": "_bA0CCKWioXc",
        "colab": {
          "base_uri": "https://localhost:8080/"
        },
        "outputId": "955f1c2f-e5d4-4582-e773-5f5f5e6b22c5"
      },
      "source": [
        "X_test['pred'] = X_test['text_raw'].apply(get_score)\n",
        "(X_test['target'] == X_test['pred']).astype(int).sum() / len(X_test)"
      ],
      "execution_count": null,
      "outputs": [
        {
          "output_type": "stream",
          "text": [
            "/usr/local/lib/python3.7/dist-packages/ipykernel_launcher.py:1: SettingWithCopyWarning: \n",
            "A value is trying to be set on a copy of a slice from a DataFrame.\n",
            "Try using .loc[row_indexer,col_indexer] = value instead\n",
            "\n",
            "See the caveats in the documentation: https://pandas.pydata.org/pandas-docs/stable/user_guide/indexing.html#returning-a-view-versus-a-copy\n",
            "  \"\"\"Entry point for launching an IPython kernel.\n"
          ],
          "name": "stderr"
        },
        {
          "output_type": "execute_result",
          "data": {
            "text/plain": [
              "0.648"
            ]
          },
          "metadata": {
            "tags": []
          },
          "execution_count": 20
        }
      ]
    },
    {
      "cell_type": "markdown",
      "metadata": {
        "id": "m9i-3cMNq3l_"
      },
      "source": [
        "**Output:** With no machine learning involved at all, we are able to predict the sentiment of a tweet with **65% accuracy** (which is already 15% better than simply always predicting 0 or 1!)"
      ]
    },
    {
      "cell_type": "markdown",
      "metadata": {
        "id": "rZ6vHEW2LPU7"
      },
      "source": [
        "# 2: Logistic Regression"
      ]
    },
    {
      "cell_type": "markdown",
      "metadata": {
        "id": "HqojKJXXYfWJ"
      },
      "source": [
        "## Preprocessing & feature extraction"
      ]
    },
    {
      "cell_type": "code",
      "metadata": {
        "id": "QPidP9HDixY9"
      },
      "source": [
        "# Setting the size of the validation and training sets - 10% / 90%\n",
        "valid_pct = 0.1\n",
        "train_pct = 1 - valid_pct"
      ],
      "execution_count": null,
      "outputs": []
    },
    {
      "cell_type": "code",
      "metadata": {
        "colab": {
          "base_uri": "https://localhost:8080/"
        },
        "id": "5zO4c5GUuKhV",
        "outputId": "9fdf940e-5437-4750-e3bd-f7ad9de4ee92"
      },
      "source": [
        "X_train_raw = df.text_raw.iloc[:int(train_pct*len(df))]\n",
        "X_valid_raw  = df.text_raw.iloc[int(train_pct*len(df)):]\n",
        "len(X_train_raw), len(X_valid_raw)"
      ],
      "execution_count": null,
      "outputs": [
        {
          "output_type": "execute_result",
          "data": {
            "text/plain": [
              "(99000, 11000)"
            ]
          },
          "metadata": {
            "tags": []
          },
          "execution_count": 22
        }
      ]
    },
    {
      "cell_type": "code",
      "metadata": {
        "colab": {
          "base_uri": "https://localhost:8080/"
        },
        "id": "uQZN0NCAvBlf",
        "outputId": "8ecaee93-e17c-4fd0-f0f7-bd0e0996e4b7"
      },
      "source": [
        "y_train = df['target'].iloc[:int(train_pct*len(df))]\n",
        "y_valid  = df['target'].iloc[int(train_pct*len(df)):]\n",
        "len(y_train), len(y_valid)"
      ],
      "execution_count": null,
      "outputs": [
        {
          "output_type": "execute_result",
          "data": {
            "text/plain": [
              "(99000, 11000)"
            ]
          },
          "metadata": {
            "tags": []
          },
          "execution_count": 23
        }
      ]
    },
    {
      "cell_type": "code",
      "metadata": {
        "id": "B5bEElCoraSj"
      },
      "source": [
        "tokenizer = Tokenizer(tok=WordTokenizer)"
      ],
      "execution_count": null,
      "outputs": []
    },
    {
      "cell_type": "code",
      "metadata": {
        "colab": {
          "base_uri": "https://localhost:8080/"
        },
        "id": "xlBRiTSutub5",
        "outputId": "74c60cb1-f45f-4254-e13a-47472504fc64"
      },
      "source": [
        "vectorizer = TfidfVectorizer(stop_words='english', sublinear_tf=True, tokenizer=tokenizer, max_df=0.6, max_features=1000)\n",
        "features_train_transformed = vectorizer.fit_transform(X_train_raw)\n",
        "features_valid_transformed = vectorizer.transform(X_valid_raw)"
      ],
      "execution_count": null,
      "outputs": [
        {
          "output_type": "stream",
          "text": [
            "/usr/local/lib/python3.7/dist-packages/sklearn/feature_extraction/text.py:385: UserWarning: Your stop_words may be inconsistent with your preprocessing. Tokenizing the stop words generated tokens ['ca', 'nt', 'xxbos'] not in stop_words.\n",
            "  'stop_words.' % sorted(inconsistent))\n"
          ],
          "name": "stderr"
        }
      ]
    },
    {
      "cell_type": "code",
      "metadata": {
        "colab": {
          "base_uri": "https://localhost:8080/"
        },
        "id": "Dw0ChuDcifac",
        "outputId": "fa689796-3446-4139-cccf-369d03094dc2"
      },
      "source": [
        "features_train_transformed.shape"
      ],
      "execution_count": null,
      "outputs": [
        {
          "output_type": "execute_result",
          "data": {
            "text/plain": [
              "(99000, 1000)"
            ]
          },
          "metadata": {
            "tags": []
          },
          "execution_count": 26
        }
      ]
    },
    {
      "cell_type": "code",
      "metadata": {
        "id": "5jWC7DpUvWzY"
      },
      "source": [
        "scaler = StandardScaler()"
      ],
      "execution_count": null,
      "outputs": []
    },
    {
      "cell_type": "code",
      "metadata": {
        "id": "RHPy2slkwGgR"
      },
      "source": [
        "scaled_X_train = scaler.fit_transform(features_train_transformed.toarray())\n",
        "scaled_X_valid = scaler.transform(features_valid_transformed.toarray())"
      ],
      "execution_count": null,
      "outputs": []
    },
    {
      "cell_type": "markdown",
      "metadata": {
        "id": "rgwAmdrHYkQM"
      },
      "source": [
        "## Training"
      ]
    },
    {
      "cell_type": "code",
      "metadata": {
        "id": "lOx3NcGwnGSI"
      },
      "source": [
        "# # Find the best parameters with GridSearchCV\n",
        "# penalty = ['l1', 'l2', 'elasticnet']\n",
        "# l1_ratio = np.linspace(0,1,5) # needed for the elasticnet\n",
        "# C = np.logspace(0,10,5) # recommended as logarithmicly spaced numbers\n",
        "\n",
        "# param_grid = {'penalty' : penalty,\n",
        "#               'l1_ratio' : l1_ratio,\n",
        "#               'C' : C}\n",
        "\n",
        "# grid_model = GridSearchCV(log_model, param_grid=param_grid)\n",
        "\n",
        "# grid_model.fit(scaled_X_train, y_train)\n",
        "\n",
        "# best_params = grid_model.best_params_\n",
        "\n",
        "# grid_model.best_estimator_"
      ],
      "execution_count": null,
      "outputs": []
    },
    {
      "cell_type": "code",
      "metadata": {
        "id": "CHqsedN1DjYd"
      },
      "source": [
        "# Here, let's use the best parameters that were found with the GridSearchCV and train on more data\n",
        "# l1_ratio is removed because it is only used with elasticnet solver\n",
        "log_model = LogisticRegression(C=100000.0, class_weight=None, dual=False,\n",
        "                               fit_intercept=True, intercept_scaling=1, \n",
        "                               max_iter=5000, multi_class='auto', n_jobs=None, penalty='l1',\n",
        "                               random_state=None, solver='saga', tol=0.0001, verbose=0,\n",
        "                               warm_start=False)"
      ],
      "execution_count": null,
      "outputs": []
    },
    {
      "cell_type": "code",
      "metadata": {
        "colab": {
          "base_uri": "https://localhost:8080/"
        },
        "id": "xlrJNRZMwGgV",
        "outputId": "527bf271-a96a-4b6d-bd40-a8f951516143"
      },
      "source": [
        "log_model.fit(scaled_X_train, y_train)"
      ],
      "execution_count": null,
      "outputs": [
        {
          "output_type": "execute_result",
          "data": {
            "text/plain": [
              "LogisticRegression(C=100000.0, class_weight=None, dual=False,\n",
              "                   fit_intercept=True, intercept_scaling=1, l1_ratio=None,\n",
              "                   max_iter=5000, multi_class='auto', n_jobs=None, penalty='l1',\n",
              "                   random_state=None, solver='saga', tol=0.0001, verbose=0,\n",
              "                   warm_start=False)"
            ]
          },
          "metadata": {
            "tags": []
          },
          "execution_count": 31
        }
      ]
    },
    {
      "cell_type": "code",
      "metadata": {
        "id": "IlHP2IrxwGgW"
      },
      "source": [
        "y_pred = log_model.predict(scaled_X_valid)"
      ],
      "execution_count": null,
      "outputs": []
    },
    {
      "cell_type": "code",
      "metadata": {
        "colab": {
          "base_uri": "https://localhost:8080/"
        },
        "id": "5oKX1JfhwGgW",
        "outputId": "a2d10790-7962-4db1-d26d-47b24f2d131d"
      },
      "source": [
        "logreg_accuracy_s140_valid = accuracy_score(y_valid, y_pred)\n",
        "logreg_accuracy_s140_valid"
      ],
      "execution_count": null,
      "outputs": [
        {
          "output_type": "execute_result",
          "data": {
            "text/plain": [
              "0.7391818181818182"
            ]
          },
          "metadata": {
            "tags": []
          },
          "execution_count": 33
        }
      ]
    },
    {
      "cell_type": "code",
      "metadata": {
        "id": "PIOhNVaH2vqD"
      },
      "source": [
        "def show_confusion_matrix(y_true, y_pred, class_names) :\n",
        "  cm = confusion_matrix(y_true, y_pred)\n",
        "  df_cm = pd.DataFrame(cm, index=class_names, columns=class_names)\n",
        "\n",
        "  hmap = sns.heatmap(df_cm, annot=True, fmt='d', cmap='Blues')\n",
        "  hmap.yaxis.set_ticklabels(hmap.yaxis.get_ticklabels(), rotation=0, ha='right')\n",
        "  hmap.xaxis.set_ticklabels(hmap.xaxis.get_ticklabels(), rotation=30, ha='right')\n",
        "  plt.ylabel('True sentiment')\n",
        "  plt.xlabel('Predicted sentiment')\n",
        "  plt.show();"
      ],
      "execution_count": null,
      "outputs": []
    },
    {
      "cell_type": "code",
      "metadata": {
        "colab": {
          "base_uri": "https://localhost:8080/",
          "height": 308
        },
        "id": "JZb_Ws3y4t8d",
        "outputId": "c4500442-ec9a-40ff-8f2f-174148e52859"
      },
      "source": [
        "show_confusion_matrix(y_valid, y_pred, class_names=['negative', 'positive'])"
      ],
      "execution_count": null,
      "outputs": [
        {
          "output_type": "display_data",
          "data": {
            "image/png": "[encoded data removed]",
            "text/plain": [
              "<Figure size 432x288 with 2 Axes>"
            ]
          },
          "metadata": {
            "tags": []
          }
        }
      ]
    },
    {
      "cell_type": "code",
      "metadata": {
        "colab": {
          "base_uri": "https://localhost:8080/",
          "height": 466
        },
        "id": "0hOoXZZ2xDgP",
        "outputId": "00e71b92-e6cc-483c-c001-be3895c510b4"
      },
      "source": [
        "fig,ax = plt.subplots(figsize=(5,5), dpi=100)\n",
        "plot_roc_curve(log_model, scaled_X_valid, y_valid, ax=ax)\n",
        "plt.show()"
      ],
      "execution_count": null,
      "outputs": [
        {
          "output_type": "display_data",
          "data": {
            "image/png": "[encoded data removed]",
            "text/plain": [
              "<Figure size 500x500 with 1 Axes>"
            ]
          },
          "metadata": {
            "tags": []
          }
        }
      ]
    },
    {
      "cell_type": "code",
      "metadata": {
        "colab": {
          "base_uri": "https://localhost:8080/",
          "height": 466
        },
        "id": "DCcQMRMvxDgW",
        "outputId": "7bf182f2-b6ba-49c0-8a14-c6a18927c5ce"
      },
      "source": [
        "fig,ax = plt.subplots(figsize=(5,5), dpi=100)\n",
        "plot_precision_recall_curve(log_model, scaled_X_valid, y_valid, ax=ax)\n",
        "plt.show()"
      ],
      "execution_count": null,
      "outputs": [
        {
          "output_type": "display_data",
          "data": {
            "image/png": "[encoded data removed]",
            "text/plain": [
              "<Figure size 500x500 with 1 Axes>"
            ]
          },
          "metadata": {
            "tags": []
          }
        }
      ]
    },
    {
      "cell_type": "markdown",
      "metadata": {
        "id": "swvIY6IPSPTo"
      },
      "source": [
        "## Evaluation - Logistic regression"
      ]
    },
    {
      "cell_type": "markdown",
      "metadata": {
        "id": "9eU_J584YUsB"
      },
      "source": [
        "### Sentiment140 Testset"
      ]
    },
    {
      "cell_type": "code",
      "metadata": {
        "id": "Jf6SVB2ZSPTr"
      },
      "source": [
        "df_test = pd.read_csv('data/Sentiment140-test.csv', encoding='ISO-8859-1')\n",
        "df_test.columns = ['target', 'id', 'date', 'retrieval_query', 'user', 'text_raw']\n",
        "df_test['target'] = df_test['target'].replace({4:1})"
      ],
      "execution_count": null,
      "outputs": []
    },
    {
      "cell_type": "code",
      "metadata": {
        "colab": {
          "base_uri": "https://localhost:8080/",
          "height": 355
        },
        "id": "q4UO-qJhSPTs",
        "outputId": "c8ff3ae4-eedb-49bc-98a4-3713ce6a549c"
      },
      "source": [
        "fig,ax = plt.subplots(figsize=(7,5))\n",
        "ax.set_title('Count of targets (full dataset)', weight=700)\n",
        "sns.countplot(data=df_test,x='target');"
      ],
      "execution_count": null,
      "outputs": [
        {
          "output_type": "display_data",
          "data": {
            "image/png": "[encoded data removed]",
            "text/plain": [
              "<Figure size 504x360 with 1 Axes>"
            ]
          },
          "metadata": {
            "tags": []
          }
        }
      ]
    },
    {
      "cell_type": "markdown",
      "metadata": {
        "id": "0lphL9WsSPTt"
      },
      "source": [
        "**Problem:** Label `2` is present in the test dataset, although it was not present in the training dataset."
      ]
    },
    {
      "cell_type": "markdown",
      "metadata": {
        "id": "0e1B0Lzp5wt6"
      },
      "source": [
        "**Solution:**\n",
        "\n",
        "If the model's prediction certainty/probability is low (i.e. the model is not very confident about its prediction), we will set the prediction to be `2` or `neutral`."
      ]
    },
    {
      "cell_type": "code",
      "metadata": {
        "id": "V8gLG99lTlYh"
      },
      "source": [
        "# Generating features for test data\n",
        "X_test_raw = df_test.text_raw\n",
        "features_test_transformed = vectorizer.transform(X_test_raw)\n",
        "scaled_X_test = scaler.transform(features_test_transformed.toarray())\n",
        "\n",
        "# ground truth\n",
        "y_test = df_test.target"
      ],
      "execution_count": null,
      "outputs": []
    },
    {
      "cell_type": "code",
      "metadata": {
        "colab": {
          "base_uri": "https://localhost:8080/"
        },
        "id": "2cXpVnucUWqK",
        "outputId": "be996ecf-ffd4-46fb-8495-b148720ffaf7"
      },
      "source": [
        "# Accuracy before implementing this step to compare the results\n",
        "preds = log_model.predict(scaled_X_test)\n",
        "logreg_accuracy_s140_test_no_thres = (y_test.values == preds).astype(float).mean()\n",
        "logreg_accuracy_s140_test_no_thres"
      ],
      "execution_count": null,
      "outputs": [
        {
          "output_type": "execute_result",
          "data": {
            "text/plain": [
              "0.5533199195171026"
            ]
          },
          "metadata": {
            "tags": []
          },
          "execution_count": 41
        }
      ]
    },
    {
      "cell_type": "code",
      "metadata": {
        "id": "HNTEDic639pC"
      },
      "source": [
        "# This will return a prediction with label \"2\" if the probability is below certain threshold\n",
        "def get_custom_pred(probs, threshold):\n",
        "  preds = []\n",
        "  for prob in probs :\n",
        "    if prob[prob.argmax()] < threshold : preds.append(2)\n",
        "    else: preds.append(prob.argmax())\n",
        "\n",
        "  return np.array(preds)"
      ],
      "execution_count": null,
      "outputs": []
    },
    {
      "cell_type": "code",
      "metadata": {
        "colab": {
          "base_uri": "https://localhost:8080/",
          "height": 508
        },
        "id": "y_eq1h29zE4l",
        "outputId": "38ac1ab0-f139-429e-ae4f-ce923b3b27b5"
      },
      "source": [
        "test_probs = log_model.predict_proba(scaled_X_test)\n",
        "\n",
        "accs = []\n",
        "highest_acc = 0\n",
        "best_thres = 0\n",
        "\n",
        "thresholds = np.arange(0.5, 0.99, 0.02)\n",
        "for threshold in thresholds :\n",
        "  preds = get_custom_pred(test_probs, threshold)\n",
        "  acc = accuracy_score(y_test, preds)\n",
        "  if acc > highest_acc : \n",
        "    highest_acc = acc\n",
        "    best_thres = threshold\n",
        "  accs.append(acc)\n",
        "\n",
        "fig,ax = plt.subplots(figsize=(7,5), dpi=100)\n",
        "ax.plot(np.array(accs))\n",
        "\n",
        "ax.set_xticks(range(len(thresholds)));\n",
        "ax.set_xticklabels(np.round(thresholds, 2), rotation=45)\n",
        "ax.set_ylabel('Accuracy'); ax.set_xlabel('Probability threshold')\n",
        "ax.grid(axis='x')\n",
        "ax.set_title('Accuracy by threshold', weight=700)\n",
        "plt.show()"
      ],
      "execution_count": null,
      "outputs": [
        {
          "output_type": "display_data",
          "data": {
            "image/png": "[encoded data removed]",
            "text/plain": [
              "<Figure size 700x500 with 1 Axes>"
            ]
          },
          "metadata": {
            "tags": []
          }
        }
      ]
    },
    {
      "cell_type": "code",
      "metadata": {
        "colab": {
          "base_uri": "https://localhost:8080/"
        },
        "id": "ss-8pB8vQGnZ",
        "outputId": "eb10e0f9-59a7-4ad2-98ca-24d58ea9e487"
      },
      "source": [
        "best_thres"
      ],
      "execution_count": null,
      "outputs": [
        {
          "output_type": "execute_result",
          "data": {
            "text/plain": [
              "0.7000000000000002"
            ]
          },
          "metadata": {
            "tags": []
          },
          "execution_count": 44
        }
      ]
    },
    {
      "cell_type": "code",
      "metadata": {
        "colab": {
          "base_uri": "https://localhost:8080/"
        },
        "id": "WuHifv-SSPTw",
        "outputId": "8f72196c-6bec-4912-84fc-058a8dff69fc"
      },
      "source": [
        "threshold = best_thres\n",
        "preds = get_custom_pred(test_probs, best_thres)\n",
        "\n",
        "print(classification_report(y_test, preds, target_names=['negative', 'positive', 'neutral']))"
      ],
      "execution_count": null,
      "outputs": [
        {
          "output_type": "stream",
          "text": [
            "              precision    recall  f1-score   support\n",
            "\n",
            "    negative       0.89      0.50      0.64       177\n",
            "    positive       0.60      0.64      0.61       181\n",
            "     neutral       0.39      0.57      0.46       139\n",
            "\n",
            "    accuracy                           0.57       497\n",
            "   macro avg       0.62      0.57      0.57       497\n",
            "weighted avg       0.64      0.57      0.58       497\n",
            "\n"
          ],
          "name": "stdout"
        }
      ]
    },
    {
      "cell_type": "code",
      "metadata": {
        "colab": {
          "base_uri": "https://localhost:8080/"
        },
        "id": "bGztpNXQitNd",
        "outputId": "ab5d6f32-1af3-449e-fd07-ef5f8c4077ba"
      },
      "source": [
        "logreg_accuracy_s140_test = (y_test.values == preds).astype(float).mean()\n",
        "logreg_accuracy_s140_test"
      ],
      "execution_count": null,
      "outputs": [
        {
          "output_type": "execute_result",
          "data": {
            "text/plain": [
              "0.5694164989939637"
            ]
          },
          "metadata": {
            "tags": []
          },
          "execution_count": 46
        }
      ]
    },
    {
      "cell_type": "code",
      "metadata": {
        "colab": {
          "base_uri": "https://localhost:8080/",
          "height": 308
        },
        "id": "Sk5Th3Bk25aH",
        "outputId": "ef4e2740-6bb0-4369-c031-bdd57ad8b6bc"
      },
      "source": [
        "show_confusion_matrix(y_test.values, preds, class_names=['negative', 'positive', 'neutral'])"
      ],
      "execution_count": null,
      "outputs": [
        {
          "output_type": "display_data",
          "data": {
            "image/png": "[encoded data removed]",
            "text/plain": [
              "<Figure size 432x288 with 2 Axes>"
            ]
          },
          "metadata": {
            "tags": []
          }
        }
      ]
    },
    {
      "cell_type": "markdown",
      "metadata": {
        "id": "NO2ZqVgK6ImM"
      },
      "source": [
        "Overall model's performance is quite poor: 53%. However, it is still better than simply always guessing the same label `1` (36%)."
      ]
    },
    {
      "cell_type": "markdown",
      "metadata": {
        "id": "2FkabXu8TZBP"
      },
      "source": [
        "### Top losses evaluation - Sentiment140"
      ]
    },
    {
      "cell_type": "markdown",
      "metadata": {
        "id": "QuqbRh5avKkx"
      },
      "source": [
        "Here, we will investigate on 10 examples with highest losses from the Sentiment140 **`test set`**. I will remove the neutral label to evaluate the model in a fair way. And try to find why the model made incorrect predictions while being very confident in its prediction."
      ]
    },
    {
      "cell_type": "code",
      "metadata": {
        "id": "4tt-xDLFSyXI"
      },
      "source": [
        "# Generating features for test data\n",
        "X_test_raw = df_test[~(df_test['target'] == 2)].text_raw\n",
        "features_test_transformed = vectorizer.transform(X_test_raw)\n",
        "scaled_X_test = scaler.transform(features_test_transformed.toarray())\n",
        "\n",
        "# ground truth\n",
        "y_test = df_test[~(df_test['target'] == 2)].target"
      ],
      "execution_count": null,
      "outputs": []
    },
    {
      "cell_type": "code",
      "metadata": {
        "id": "sgNT1rdr3ZT7"
      },
      "source": [
        "y_preds = log_model.predict(scaled_X_test)"
      ],
      "execution_count": null,
      "outputs": []
    },
    {
      "cell_type": "code",
      "metadata": {
        "colab": {
          "base_uri": "https://localhost:8080/"
        },
        "id": "Anbh9o43skKk",
        "outputId": "ef3e0d6e-7973-4a6b-e9c5-c8c057bde534"
      },
      "source": [
        "logreg_accuracy_s140_test_binary = (y_preds == y_test).astype(float).mean()\n",
        "logreg_accuracy_s140_test_binary"
      ],
      "execution_count": null,
      "outputs": [
        {
          "output_type": "execute_result",
          "data": {
            "text/plain": [
              "0.7681564245810056"
            ]
          },
          "metadata": {
            "tags": []
          },
          "execution_count": 50
        }
      ]
    },
    {
      "cell_type": "code",
      "metadata": {
        "colab": {
          "base_uri": "https://localhost:8080/",
          "height": 308
        },
        "id": "NPVIUKy_3VM7",
        "outputId": "26f824fc-10ce-4b47-c9ed-4dfa51e1ab25"
      },
      "source": [
        "show_confusion_matrix(y_test.values, y_preds, class_names=['negative', 'positive'])"
      ],
      "execution_count": null,
      "outputs": [
        {
          "output_type": "display_data",
          "data": {
            "image/png": "[encoded data removed]",
            "text/plain": [
              "<Figure size 432x288 with 2 Axes>"
            ]
          },
          "metadata": {
            "tags": []
          }
        }
      ]
    },
    {
      "cell_type": "code",
      "metadata": {
        "id": "QtQ0Or73Wzcb"
      },
      "source": [
        "# Find top losses (20)\n",
        "num_examples = 20\n",
        "\n",
        "preds = log_model.predict(scaled_X_test)\n",
        "probs = log_model.predict_proba(scaled_X_test)\n",
        "\n",
        "losses = np.array([])\n",
        "for prob, y in zip(probs, y_test.values) :\n",
        "  loss = log_loss(y.reshape(-1,1), prob.reshape(1,-1), labels=[0,1])\n",
        "  losses = np.append(losses, loss)\n",
        "\n",
        "# Find indices of top losses\n",
        "top_losses_ind = np.argpartition(losses, -num_examples)[-num_examples:]\n",
        "\n",
        "# Only leave the corresponding predictions\n",
        "preds = preds[top_losses_ind]"
      ],
      "execution_count": null,
      "outputs": []
    },
    {
      "cell_type": "code",
      "metadata": {
        "colab": {
          "base_uri": "https://localhost:8080/"
        },
        "id": "Z71DNvLJe90o",
        "outputId": "9ad91f97-79ec-4f37-8d66-3c25c18698c3"
      },
      "source": [
        "# Sanity check - all these values should be predicted wrongly - Accuracy of 0.\n",
        "loss_texts = df_test[~(df_test['target'] == 2)].text_raw.iloc[top_losses_ind]\n",
        "loss_targets = df_test[~(df_test['target'] == 2)].target.iloc[top_losses_ind]\n",
        "\n",
        "loss_X = vectorizer.transform(loss_texts)\n",
        "loss_X = scaler.transform(loss_X.toarray())\n",
        "\n",
        "(loss_targets == log_model.predict(loss_X)).mean() # Should output 0.0"
      ],
      "execution_count": null,
      "outputs": [
        {
          "output_type": "execute_result",
          "data": {
            "text/plain": [
              "0.0"
            ]
          },
          "metadata": {
            "tags": []
          },
          "execution_count": 53
        }
      ]
    },
    {
      "cell_type": "code",
      "metadata": {
        "id": "AXQZ6-5_lpGn"
      },
      "source": [
        "# Get coefficients\n",
        "coef = log_model.coef_\n",
        "\n",
        "# Transform texts with highest loss into feature vectors\n",
        "features = pd.DataFrame(vectorizer.transform(loss_texts).toarray(), columns=sorted(vectorizer.vocabulary_.keys()))\n",
        "full_features = features.columns\n",
        "#features = features_orig.copy()\n",
        "\n",
        "# Remove features that do not appear in texts\n",
        "for col in features.columns:\n",
        "    if features[col].sum() == 0.0 : features.drop(columns=[col], inplace=True)\n",
        "\n",
        "# Get coefficients for the features that are left\n",
        "feature_ind = np.array([np.where(full_features == feature)[0][0] for feature in features.columns])\n",
        "feature_coef = np.array([coef[:,ind] for ind in feature_ind]).squeeze()\n",
        "feature_coef = pd.DataFrame(data=feature_coef, index=features.columns, columns=['coefficient'])"
      ],
      "execution_count": null,
      "outputs": []
    },
    {
      "cell_type": "code",
      "metadata": {
        "colab": {
          "base_uri": "https://localhost:8080/"
        },
        "id": "7Q9ZV_XmiFGA",
        "outputId": "afa508ab-5e37-485f-c4ae-b12df9898bba"
      },
      "source": [
        "# This will show the coefficients for each word/token if available\n",
        "# Some words/tokens will have no coefficients assigned because the vectorizer only chooses 1,000 most important ones\n",
        "# Positive coefficients tip the prediction to label \"1\" and vice versa\n",
        "for i, text in enumerate(loss_texts) :\n",
        "  transformed_texts = np.array([])\n",
        "  tokens = tokenizer(text)\n",
        "\n",
        "  for token in tokens :\n",
        "    transformed_texts = np.append(transformed_texts, token)\n",
        "    try : \n",
        "      weight = feature_coef.loc[token]\n",
        "      transformed_texts = np.append(transformed_texts, str(f'({np.round(weight.values[0], 2)})'))\n",
        "    except : continue\n",
        "  print('Correct label: ' + f'{loss_targets.iloc[i]}\\nPrediction: {preds[i]}\\nText: ' + ' '.join(transformed_texts[1:]) + '\\n')"
      ],
      "execution_count": null,
      "outputs": [
        {
          "output_type": "stream",
          "text": [
            "Correct label: 0\n",
            "Prediction: 1\n",
            "Text: i xxmaj will xxup never xxmaj buy (-0.01) a xxmaj government xxmaj motors xxmaj vehicle : (0.03) xxmaj until just (0.04) recently , (0.09) i drove xxup gm cars . (-0.02) xxmaj since 1988 , (0.09) when i bought (0.01) a .. (-0.02) http (0.04) : (0.03) / (0.02) / (0.02) tinyurl.com (0.01) / (0.02) lulsw8\n",
            "\n",
            "Correct label: 0\n",
            "Prediction: 1\n",
            "Text: xxmaj talk (-0.01) is xxmaj cheap : (0.03) xxmaj bing that , (0.09) xxmaj i?ll stick with xxmaj google (0.02) . (-0.02) http (0.04) : (0.03) / (0.02) / (0.02) bit.ly (0.0) / (0.02) xxup xc3c8\n",
            "\n",
            "Correct label: 0\n",
            "Prediction: 1\n",
            "Text: xxmaj listening (0.07) to xxmaj obama … (-0.07) xxmaj friggin xxmaj north xxmaj korea … (-0.07)\n",
            "\n",
            "Correct label: 0\n",
            "Prediction: 1\n",
            "Text: xxmaj cheney and xxmaj bush are the real (0.01) culprits - (0.06) http (0.04) : (0.03) / (0.02) / (0.02) fwix.com / (0.02) article / (0.02) 939496\n",
            "\n",
            "Correct label: 1\n",
            "Prediction: 0\n",
            "Text: xxmaj class (-0.02) … (-0.07) xxmaj the 50d is supposed (-0.03) to come (-0.01) today (-0.03) :)\n",
            "\n",
            "Correct label: 0\n",
            "Prediction: 1\n",
            "Text: xxmaj wat the heck is xxmaj north xxmaj korea doing (0.01) ! (0.18) ! (0.18) ? (0.01) ? (0.01) ! (0.18) ! (0.18) xxmaj they just (0.04) conducted powerful nuclear tests ! (0.18) xxmaj follow (0.06) the link (-0.0) : (0.03) http (0.04) : (0.03) / (0.02) / (0.02) xxrep (0.07) 3 (-0.04) w (-0.0) .msnbc.msn.com / (0.02) i d (-0.01) / (0.02) 30921379\n",
            "\n",
            "Correct label: 0\n",
            "Prediction: 1\n",
            "Text: @sekseemess no . (-0.02) xxmaj i 'm (-0.06) not itchy for now . (-0.02) xxmaj maybe (0.02) later (0.03) , (0.09) lol (0.1) . (-0.02)\n",
            "\n",
            "Correct label: 0\n",
            "Prediction: 1\n",
            "Text: xxmaj now i can see why xxmaj dave xxmaj winer screams about lack of xxmaj twitter (0.03) xxup api , (0.09) its limitations and access throttles ! (0.18)\n",
            "\n",
            "Correct label: 0\n",
            "Prediction: 1\n",
            "Text: xxmaj night (0.02) at the xxmaj museum tonite instead (-0.0) of xxup up . (-0.02) :( oh (-0.04) well . (-0.02) that 4 (-0.03) yr (0.0) old (0.01) better (0.06) enjoy (0.09) it . (-0.02) xxup lol (0.1)\n",
            "\n",
            "Correct label: 0\n",
            "Prediction: 1\n",
            "Text: xxmaj the day (-0.02) i never have to deal (0.02) with xxmaj comcast again will rank as one of the best (0.08) days (-0.0) of my life (0.0) . (-0.02)\n",
            "\n",
            "Correct label: 0\n",
            "Prediction: 1\n",
            "Text: xxmaj fuzzball is more fun (0.08) than xxup at&&t ; (0.01) p (0.01) http (0.04) : (0.03) / (0.02) / (0.02) fuzz-ball.com / (0.02) twitter (0.03)\n",
            "\n",
            "Correct label: 1\n",
            "Prediction: 0\n",
            "Text: xxmaj my dad (-0.02) was in xxup ny (-0.02) for a day (-0.02) , (0.09) we ate (-0.04) at xxup mesa grill last night (0.02) and met (0.01) xxmaj bobby xxmaj flay . (-0.02) xxmaj so much fun (0.08) , (0.09) except i completely (-0.01) lost (-0.14) my voice (-0.01) today (-0.03) . (-0.02)\n",
            "\n",
            "Correct label: 0\n",
            "Prediction: 1\n",
            "Text: @mmbarnhill yay (0.13) , (0.09) glad (0.13) you got (-0.04) the phone (-0.04) ! (0.18) xxmaj still , (0.09) damn (-0.1) you , (0.09) xxup at&&t . (-0.02)\n",
            "\n",
            "Correct label: 0\n",
            "Prediction: 1\n",
            "Text: xxmaj kobe is the best (0.08) in the world (0.02) not lebron . (-0.02)\n",
            "\n",
            "Correct label: 1\n",
            "Prediction: 0\n",
            "Text: xxmaj my wrist still hurts (-0.16) . (-0.02) i have to get it looked (-0.02) at . (-0.02) i xxup hate (-0.19) the dr / (0.02) dentist / (0.02) scary (-0.04) places . (-0.02) :( xxmaj time (0.02) to watch (0.03) xxmaj eagle eye (-0.01) . (-0.02) xxmaj if you want (-0.12) to join (0.03) , (0.09) txt ! (0.18)\n",
            "\n",
            "Correct label: 0\n",
            "Prediction: 1\n",
            "Text: xxmaj monday (-0.02) already . (-0.02) xxmaj iran may implode . (-0.02) xxmaj kitchen is a disaster . (-0.02) @annagoss seems happy (0.14) . (-0.02) @sebulous had a nice (0.11) weekend (0.01) and @goldpanda is great (0.15) . (-0.02) whoop . (-0.02)\n",
            "\n",
            "Correct label: 1\n",
            "Prediction: 0\n",
            "Text: @evelynbyrne have you tried (-0.06) xxmaj nike ? (0.01) xxup v. addictive . (-0.02)\n",
            "\n",
            "Correct label: 0\n",
            "Prediction: 1\n",
            "Text: @kirstiealley my dentist is great (0.15) but she 's (-0.01) expensive … (-0.07) =(\n",
            "\n",
            "Correct label: 0\n",
            "Prediction: 1\n",
            "Text: xxmaj back from seeing (0.01) ' (0.06) star (0.02) xxmaj trek ' (0.06) and ' (0.06) night (0.02) at the xxmaj museum . (-0.02) ' (0.06) ' (0.06) star (0.02) xxmaj trek ' (0.06) was amazing (0.11) , (0.09) but ' (0.06) night (0.02) at the xxmaj museum ' (0.06) was ; (0.01) eh (0.01) . (-0.02)\n",
            "\n",
            "Correct label: 0\n",
            "Prediction: 1\n",
            "Text: xxmaj as u (0.02) may have noticed , (0.09) not too happy (0.14) about the xxup gm situation , (0.09) nor xxup aig , (0.09) xxmaj lehman , (0.09) et al\n",
            "\n"
          ],
          "name": "stdout"
        }
      ]
    },
    {
      "cell_type": "markdown",
      "metadata": {
        "id": "5Z2x2inpwcix"
      },
      "source": [
        "Observations:\n",
        "- Weather seems to impact the sentiment quite a lot: `raining` has negative coefficient of `-0.45` while `sun` has a positive one of `0.06`.\n",
        "- The found examples could be easily classified with the opposite labels, in my opinion. Like `@personalhudgens aww i bet  i'm good thank you x` seems to convey a positive sentiment while having a negative label.\n",
        "- `!` Exclamation mark seems to carry positive meaning to it.\n"
      ]
    },
    {
      "cell_type": "markdown",
      "metadata": {
        "id": "aSpl2q7aR88m"
      },
      "source": [
        "### Dublin City Council Testset - Logistic Regression"
      ]
    },
    {
      "cell_type": "code",
      "metadata": {
        "id": "eEdOejI6VjLG"
      },
      "source": [
        "dublin = pd.read_csv('data/citypulse.dublin_city_council.test.csv')"
      ],
      "execution_count": null,
      "outputs": []
    },
    {
      "cell_type": "code",
      "metadata": {
        "colab": {
          "base_uri": "https://localhost:8080/",
          "height": 340
        },
        "id": "FQtZFLRzVjLG",
        "outputId": "0bceea22-b1ff-46bc-ff39-cc896c99bd41"
      },
      "source": [
        "dublin.head()"
      ],
      "execution_count": null,
      "outputs": [
        {
          "output_type": "execute_result",
          "data": {
            "text/html": [
              "<div>\n",
              "<style scoped>\n",
              "    .dataframe tbody tr th:only-of-type {\n",
              "        vertical-align: middle;\n",
              "    }\n",
              "\n",
              "    .dataframe tbody tr th {\n",
              "        vertical-align: top;\n",
              "    }\n",
              "\n",
              "    .dataframe thead th {\n",
              "        text-align: right;\n",
              "    }\n",
              "</style>\n",
              "<table border=\"1\" class=\"dataframe\">\n",
              "  <thead>\n",
              "    <tr style=\"text-align: right;\">\n",
              "      <th></th>\n",
              "      <th>id_str</th>\n",
              "      <th>text</th>\n",
              "      <th>created_at</th>\n",
              "      <th>user</th>\n",
              "      <th>sentiment</th>\n",
              "      <th>category</th>\n",
              "      <th>dataset</th>\n",
              "      <th>id</th>\n",
              "    </tr>\n",
              "  </thead>\n",
              "  <tbody>\n",
              "    <tr>\n",
              "      <th>0</th>\n",
              "      <td>1190647458608635904</td>\n",
              "      <td>@DanMulhall @EamonnMallie @MoLI_Museum .@DubCityCouncil #parks dept does great job all year round. Grma - I regularly walk through St Stephen’s Green &amp;amp; am always grateful #Dublin</td>\n",
              "      <td>2019-11-02T15:10:49+00:00</td>\n",
              "      <td>NaN</td>\n",
              "      <td>positive</td>\n",
              "      <td>Public Spaces</td>\n",
              "      <td>Dublin City</td>\n",
              "      <td>1678054821</td>\n",
              "    </tr>\n",
              "    <tr>\n",
              "      <th>1</th>\n",
              "      <td>1136601736016224256</td>\n",
              "      <td>Love my city and community!! Rallying together for what is right 👏🏽👏🏽👏🏽👏🏽 @selenatwest @NinaWest \\n\\nSupporters rally outside Delaware Drag 101 class https://t.co/sCNRDZ9cvp</td>\n",
              "      <td>2019-06-06T11:52:25+00:00</td>\n",
              "      <td>NaN</td>\n",
              "      <td>positive</td>\n",
              "      <td>Community and Culture</td>\n",
              "      <td>Dublin City</td>\n",
              "      <td>810929040</td>\n",
              "    </tr>\n",
              "    <tr>\n",
              "      <th>2</th>\n",
              "      <td>1180110345052012545</td>\n",
              "      <td>Bringing shared #micromobility e-bike &amp;amp; e-scooter solutions to bear on Dublin’s traffic congestion, will help our ranking enormously\\n\\nLooking forward to @Dub_Bleeper @MobyMove new schemes + arrival of shared scooter operators in time also @smartdublin @jcudden @LordMayorDublin https://t.co/Adw9XsJOTQ</td>\n",
              "      <td>2019-10-04T13:20:06+00:00</td>\n",
              "      <td>NaN</td>\n",
              "      <td>positive</td>\n",
              "      <td>Mobility</td>\n",
              "      <td>Dublin City</td>\n",
              "      <td>1650368993</td>\n",
              "    </tr>\n",
              "    <tr>\n",
              "      <th>3</th>\n",
              "      <td>1185632195664330752</td>\n",
              "      <td>@rothairisbeoir @__kbaker__ @cullen_ellen @willdesigndub @dublincycling @DubCityCouncil Aw man. And there I was, for just a moment, so happy.</td>\n",
              "      <td>2019-10-19T19:01:58+00:00</td>\n",
              "      <td>NaN</td>\n",
              "      <td>positive</td>\n",
              "      <td>Mobility</td>\n",
              "      <td>Dublin City</td>\n",
              "      <td>1657921807</td>\n",
              "    </tr>\n",
              "    <tr>\n",
              "      <th>4</th>\n",
              "      <td>1162620823682932737</td>\n",
              "      <td>@OConnorOisin @TUDublinEPS @IrishPedestrian @LorraineFitzsim @UCDRUP @DublinCommuters High Street  .. 6 lane urban motorway through Medieval city</td>\n",
              "      <td>2019-08-17T07:02:59+00:00</td>\n",
              "      <td>NaN</td>\n",
              "      <td>positive</td>\n",
              "      <td>Mobility</td>\n",
              "      <td>Dublin City</td>\n",
              "      <td>1514423883</td>\n",
              "    </tr>\n",
              "  </tbody>\n",
              "</table>\n",
              "</div>"
            ],
            "text/plain": [
              "                id_str  ...          id\n",
              "0  1190647458608635904  ...  1678054821\n",
              "1  1136601736016224256  ...   810929040\n",
              "2  1180110345052012545  ...  1650368993\n",
              "3  1185632195664330752  ...  1657921807\n",
              "4  1162620823682932737  ...  1514423883\n",
              "\n",
              "[5 rows x 8 columns]"
            ]
          },
          "metadata": {
            "tags": []
          },
          "execution_count": 57
        }
      ]
    },
    {
      "cell_type": "code",
      "metadata": {
        "colab": {
          "base_uri": "https://localhost:8080/",
          "height": 355
        },
        "id": "_cjjqXbTVjLH",
        "outputId": "227dd1a0-c8c3-4476-d1d9-5c3a584ca5c7"
      },
      "source": [
        "fig,ax = plt.subplots(figsize=(7,5))\n",
        "ax.set_title('Count of targets (DUBLIN dataset)', weight=700)\n",
        "sns.countplot(data=dublin,x='sentiment', ax=ax);"
      ],
      "execution_count": null,
      "outputs": [
        {
          "output_type": "display_data",
          "data": {
            "image/png": "[encoded data removed]",
            "text/plain": [
              "<Figure size 504x360 with 1 Axes>"
            ]
          },
          "metadata": {
            "tags": []
          }
        }
      ]
    },
    {
      "cell_type": "code",
      "metadata": {
        "id": "B6t5vGieVjLI"
      },
      "source": [
        "dublin.loc[dublin.sentiment == 'negative', 'sentiment'] = 0\n",
        "dublin.loc[dublin.sentiment == 'positive', 'sentiment'] = 1\n",
        "dublin.loc[dublin.sentiment == 'neutral', 'sentiment'] = 2"
      ],
      "execution_count": null,
      "outputs": []
    },
    {
      "cell_type": "code",
      "metadata": {
        "id": "ltllEBx5VbgE"
      },
      "source": [
        "# Generating features for Dublin test data\n",
        "X_dublin_raw = dublin.text.values\n",
        "features_dublin_transformed = vectorizer.transform(X_dublin_raw)\n",
        "scaled_X_dublin = scaler.transform(features_dublin_transformed.toarray())\n",
        "\n",
        "# ground truth\n",
        "y_dublin = dublin.sentiment.values.astype(int)"
      ],
      "execution_count": null,
      "outputs": []
    },
    {
      "cell_type": "code",
      "metadata": {
        "id": "YpaSLVNpX9WL",
        "colab": {
          "base_uri": "https://localhost:8080/"
        },
        "outputId": "d6af5150-62fd-475c-a0bf-be2945f47569"
      },
      "source": [
        "# Accuracy before implementing the step with threshold to compare the results\n",
        "preds_dublin = log_model.predict(scaled_X_dublin)\n",
        "logreg_accuracy_dublin_test_no_thres = (y_dublin == preds_dublin).astype(float).mean()\n",
        "logreg_accuracy_dublin_test_no_thres"
      ],
      "execution_count": null,
      "outputs": [
        {
          "output_type": "execute_result",
          "data": {
            "text/plain": [
              "0.44466666666666665"
            ]
          },
          "metadata": {
            "tags": []
          },
          "execution_count": 61
        }
      ]
    },
    {
      "cell_type": "code",
      "metadata": {
        "colab": {
          "base_uri": "https://localhost:8080/"
        },
        "id": "y_AMt2BQVbp9",
        "outputId": "2bc7e4ad-7b69-4bde-90c8-5cd9ca771925"
      },
      "source": [
        "test_probs_dublin = log_model.predict_proba(scaled_X_dublin)\n",
        "\n",
        "threshold = best_thres\n",
        "preds_dublin = get_custom_pred(test_probs_dublin, threshold)\n",
        "\n",
        "print(classification_report(y_dublin, preds_dublin, target_names=['negative', 'positive', 'neutral']))"
      ],
      "execution_count": null,
      "outputs": [
        {
          "output_type": "stream",
          "text": [
            "              precision    recall  f1-score   support\n",
            "\n",
            "    negative       0.64      0.28      0.39      1000\n",
            "    positive       0.57      0.38      0.46      1000\n",
            "     neutral       0.39      0.74      0.51      1000\n",
            "\n",
            "    accuracy                           0.47      3000\n",
            "   macro avg       0.53      0.47      0.45      3000\n",
            "weighted avg       0.53      0.47      0.45      3000\n",
            "\n"
          ],
          "name": "stdout"
        }
      ]
    },
    {
      "cell_type": "code",
      "metadata": {
        "colab": {
          "base_uri": "https://localhost:8080/"
        },
        "id": "AT6ZmgdmkG_W",
        "outputId": "f5da9c70-df41-46c2-cf6c-30e42cc95de9"
      },
      "source": [
        "logreg_accuracy_dublin_test_full = (y_dublin == preds_dublin).astype(float).mean()\n",
        "logreg_accuracy_dublin_test_full"
      ],
      "execution_count": null,
      "outputs": [
        {
          "output_type": "execute_result",
          "data": {
            "text/plain": [
              "0.467"
            ]
          },
          "metadata": {
            "tags": []
          },
          "execution_count": 63
        }
      ]
    },
    {
      "cell_type": "code",
      "metadata": {
        "colab": {
          "base_uri": "https://localhost:8080/",
          "height": 308
        },
        "id": "GWQLAYEU3wa3",
        "outputId": "2d57e029-4a12-4b90-917e-356d2be67672"
      },
      "source": [
        "show_confusion_matrix(y_dublin, preds_dublin, class_names=['negative', 'positive', 'neutral'])"
      ],
      "execution_count": null,
      "outputs": [
        {
          "output_type": "display_data",
          "data": {
            "image/png": "[encoded data removed]",
            "text/plain": [
              "<Figure size 432x288 with 2 Axes>"
            ]
          },
          "metadata": {
            "tags": []
          }
        }
      ]
    },
    {
      "cell_type": "markdown",
      "metadata": {
        "id": "GuAskkKJkbM5"
      },
      "source": [
        "### Top losses evaluation - Dublin City Council"
      ]
    },
    {
      "cell_type": "code",
      "metadata": {
        "id": "MUeLm-OWlFkg"
      },
      "source": [
        "# Generating features for test data\n",
        "X_test_raw = dublin[~(dublin['sentiment'] == 2)].text\n",
        "features_test_transformed = vectorizer.transform(X_test_raw)\n",
        "scaled_X_test = scaler.transform(features_test_transformed.toarray())\n",
        "\n",
        "# ground truth\n",
        "y_test = dublin[~(dublin['sentiment'] == 2)].sentiment"
      ],
      "execution_count": null,
      "outputs": []
    },
    {
      "cell_type": "code",
      "metadata": {
        "id": "ec3OvQCu527x"
      },
      "source": [
        "y_preds = log_model.predict(scaled_X_test)"
      ],
      "execution_count": null,
      "outputs": []
    },
    {
      "cell_type": "code",
      "metadata": {
        "colab": {
          "base_uri": "https://localhost:8080/"
        },
        "id": "cE9zEE_in11j",
        "outputId": "9f27679d-fdb8-4edf-9c13-da12dd8218e8"
      },
      "source": [
        "logreg_accuracy_dublin_test_binary = (y_preds == y_test.values).astype(float).mean()\n",
        "logreg_accuracy_dublin_test_binary"
      ],
      "execution_count": null,
      "outputs": [
        {
          "output_type": "execute_result",
          "data": {
            "text/plain": [
              "0.667"
            ]
          },
          "metadata": {
            "tags": []
          },
          "execution_count": 67
        }
      ]
    },
    {
      "cell_type": "code",
      "metadata": {
        "colab": {
          "base_uri": "https://localhost:8080/",
          "height": 308
        },
        "id": "Whdxi-ij5w40",
        "outputId": "97f2bfb4-a51a-486c-ae68-482878403e29"
      },
      "source": [
        "show_confusion_matrix(y_test.values.astype(int), y_preds, class_names=['negative', 'positive'])"
      ],
      "execution_count": null,
      "outputs": [
        {
          "output_type": "display_data",
          "data": {
            "image/png": "[encoded data removed]",
            "text/plain": [
              "<Figure size 432x288 with 2 Axes>"
            ]
          },
          "metadata": {
            "tags": []
          }
        }
      ]
    },
    {
      "cell_type": "code",
      "metadata": {
        "id": "tHibwM8wlFks"
      },
      "source": [
        "# Find top losses (10)\n",
        "num_examples = 10\n",
        "\n",
        "preds = log_model.predict(scaled_X_test)\n",
        "probs = log_model.predict_proba(scaled_X_test)\n",
        "\n",
        "losses = np.array([])\n",
        "for prob, y in zip(probs, y_test.values) :\n",
        "  loss = log_loss(np.array(y).reshape(1,1), prob.reshape(1,-1), labels=[0,1])\n",
        "  losses = np.append(losses, loss)\n",
        "\n",
        "# Find indices of top losses\n",
        "top_losses_ind = np.argpartition(losses, -num_examples)[-num_examples:]\n",
        "\n",
        "# Only leave the corresponding predictions\n",
        "preds = preds[top_losses_ind]"
      ],
      "execution_count": null,
      "outputs": []
    },
    {
      "cell_type": "code",
      "metadata": {
        "colab": {
          "base_uri": "https://localhost:8080/"
        },
        "id": "4QH_CgW0lFkt",
        "outputId": "71f48a56-bef6-4a46-cca9-786fdadbedbd"
      },
      "source": [
        "# Sanity check - all these values should be predicted wrongly - Accuracy of 0.\n",
        "loss_texts = dublin[~(dublin['sentiment'] == 2)].text.iloc[top_losses_ind]\n",
        "loss_targets = dublin[~(dublin['sentiment'] == 2)].sentiment.iloc[top_losses_ind]\n",
        "\n",
        "loss_X = vectorizer.transform(loss_texts)\n",
        "loss_X = scaler.transform(loss_X.toarray())\n",
        "\n",
        "(loss_targets == log_model.predict(loss_X)).mean() # Should output 0.0"
      ],
      "execution_count": null,
      "outputs": [
        {
          "output_type": "execute_result",
          "data": {
            "text/plain": [
              "0.0"
            ]
          },
          "metadata": {
            "tags": []
          },
          "execution_count": 70
        }
      ]
    },
    {
      "cell_type": "code",
      "metadata": {
        "id": "4cbknu0slFkt"
      },
      "source": [
        "# Get coefficients\n",
        "coef = log_model.coef_\n",
        "\n",
        "# Transform texts with highest loss into feature vectors\n",
        "features = pd.DataFrame(vectorizer.transform(loss_texts).toarray(), columns=sorted(vectorizer.vocabulary_.keys()))\n",
        "full_features = features.columns\n",
        "#features = features_orig.copy()\n",
        "\n",
        "# Remove features that do not appear in texts\n",
        "for col in features.columns:\n",
        "    if features[col].sum() == 0.0 : features.drop(columns=[col], inplace=True)\n",
        "\n",
        "# Get coefficients for the features that are left\n",
        "feature_ind = np.array([np.where(full_features == feature)[0][0] for feature in features.columns])\n",
        "feature_coef = np.array([coef[:,ind] for ind in feature_ind]).squeeze()\n",
        "feature_coef = pd.DataFrame(data=feature_coef, index=features.columns, columns=['coefficient'])"
      ],
      "execution_count": null,
      "outputs": []
    },
    {
      "cell_type": "code",
      "metadata": {
        "colab": {
          "base_uri": "https://localhost:8080/"
        },
        "id": "1dvF1AaAlFku",
        "outputId": "67fd18ef-97a8-4a71-c6ee-5e0c6b44af82"
      },
      "source": [
        "# This will show the coefficients for each word/token if available\n",
        "# Some words/tokens will have no coefficients assigned because the vectorizer only chooses 1,000 most important ones\n",
        "# Positive coefficients tip the prediction to label \"1\" and vice versa\n",
        "for i, text in enumerate(loss_texts) :\n",
        "  transformed_texts = np.array([])\n",
        "  tokens = tokenizer(text)\n",
        "\n",
        "  for token in tokens :\n",
        "    transformed_texts = np.append(transformed_texts, token)\n",
        "    try : \n",
        "      weight = feature_coef.loc[token]\n",
        "      transformed_texts = np.append(transformed_texts, str(f'({np.round(weight.values[0], 2)})'))\n",
        "    except : continue\n",
        "  print('Correct label: ' + f'{loss_targets.iloc[i]}\\nPrediction: {preds[i]}\\nText: ' + ' '.join(transformed_texts[1:]) + '\\n')"
      ],
      "execution_count": null,
      "outputs": [
        {
          "output_type": "stream",
          "text": [
            "Correct label: 1\n",
            "Prediction: 0\n",
            "Text: @tallaghtcomco xxmaj there ’ll be no green (0.01) spaces left (-0.08) soon (0.01) and the roads ca (-0.08) nt (-0.2) handle the additional traffic (-0.03) 😡\n",
            "\n",
            "Correct label: 1\n",
            "Prediction: 0\n",
            "Text: 13th xxmaj july (-0.01) 1919 \n",
            " xxmaj mullingar \n",
            " xxmaj in the early (-0.04) hours (-0.02) of the morning (0.04) a baton charge is made against a group of xxmaj sinn xxmaj féin supporters in the xxmaj westmeath town (0.0) . (-0.02) xxmaj two police officers are hit (-0.01) with revolver shots and are being treated in hospital (-0.08)\n",
            "\n",
            "Correct label: 0\n",
            "Prediction: 1\n",
            "Text: xxmaj if you have a profile (0.01) on @thepracticaldev , (0.09) link (-0.0) it below as a comment (0.01) to this post (0.03) and xxmaj i 'll (0.07) follow (0.06) you ! (0.18) xxmaj i 'm (-0.06) looking (0.0) to expand my following (0.04) base to increase my chances of learning more from the community ! (0.18) xxmaj please xxup rt # (0.01) devcommunity \n",
            "\n",
            " https : (0.03) / (0.02) / (0.02) t.co / (0.02) rl9b7qejhi\n",
            "\n",
            "Correct label: 0\n",
            "Prediction: 1\n",
            "Text: @bryan_wall @countryboy606 @whistleirl @broadsheet_ie 👍 @bryan_wall . (-0.02) xxmaj jonathan 's (-0.01) @whistleirl exposure of our corrupt banking system has caused him undue stress & (0.03) & (0.03) financial hardship . (-0.02) xxmaj all he is guilty of is doing (0.01) his job (-0.01) xxrep (0.07) 3 (-0.04) ! (0.18) xxmaj any support (0.01) u (0.02) can give him is welcome (0.15) & (0.03) & (0.03) any exposure of our corrupt politicians & (0.03) & (0.03) bankers is very welcome (0.15) too ! (0.18)\n",
            "\n",
            "Correct label: 1\n",
            "Prediction: 0\n",
            "Text: xxmaj walking (0.0) thru town (0.0) today (-0.03) and seeing (0.01) so many homeless people (-0.01) honestly just (0.04) broke (-0.12) my heart (-0.01) i wish (-0.26) i could help (-0.01) them out more than i can currently , (0.09) i ca (-0.08) n’t imagine how tough it is for them at this time (0.02) of year (-0.01) 😞\n",
            "\n",
            "Correct label: 0\n",
            "Prediction: 1\n",
            "Text: @clongent xxmaj thank (0.23) fock there ’s no crime in any other city (-0.0) , (0.09) anywhere\n",
            "\n",
            "Correct label: 1\n",
            "Prediction: 0\n",
            "Text: @louise3thompson @dubcitycouncil @dublincaro @epaclimatenews @climateireland @pauledawson @enviroeire @rtenews @thejournal_ie @codemadublin @dublininquirer @hsetulsa @focusireland @housingdcc @murphyeoghan @leovaradkar 4 (-0.03) years (0.0) now xxmaj i 'm (-0.06) homeless and xxmaj i 'm (-0.06) stuck (-0.09) in homeless service (-0.01) and i have n't (-0.25) budge on list (0.01) once or get told (-0.03) when i get my forever (-0.01) home (-0.04) i do soo (0.0) much for xxmaj focus and yet again i do n't (-0.25) get my stable secure forever (-0.01) home (-0.04)\n",
            "\n",
            "Correct label: 1\n",
            "Prediction: 0\n",
            "Text: xxmaj we are n't (-0.25) paying doctors . (-0.02) \n",
            " xxmaj our government cheap skated med lab resulting in 221 women suffering and dying (-0.05) . (-0.02) \n",
            " xxmaj our hosptials are running (-0.01) on skeleton staff . (-0.02) \n",
            "\n",
            " xxmaj more and more of us are one rent increase from homelessness . (-0.02) \n",
            "\n",
            " xxmaj the only people (-0.01) who benefit are those with wealth and power (-0.02)\n",
            "\n",
            "Correct label: 1\n",
            "Prediction: 0\n",
            "Text: @mickle_od @craigadd @ibikedublin @dlrcc @greenparty_ie @dlrcycling xxmaj the economic also due to the major difference in efficiency . (-0.02) 350 million lost (-0.14) due to traffic (-0.03) congestion taken (-0.03) away (-0.05) productivity . (-0.02) \n",
            " https : (0.03) / (0.02) / (0.02) t.co / (0.02) acuofvirl9\n",
            "\n",
            "Correct label: 1\n",
            "Prediction: 0\n",
            "Text: xxmaj sad (-0.51) to see so many cars in and around xxmaj dublin xxmaj city (-0.0) with only the driver in them . (-0.02) xxmaj obviously there is n’t public transport options for everyone but surely carpooling will become incentivized soon (0.01) ? (0.01) ? (0.01) xxmaj literally 95 % (-0.01) of cars at rush hour (-0.02) with 1 (0.01) person (-0.01) in them … (-0.07)\n",
            "\n"
          ],
          "name": "stdout"
        }
      ]
    },
    {
      "cell_type": "markdown",
      "metadata": {
        "id": "cmbRmaVTsFZU"
      },
      "source": [
        "# 3: BERT Transformer"
      ]
    },
    {
      "cell_type": "code",
      "metadata": {
        "id": "3kLTLxWmwGSC"
      },
      "source": [
        "from transformers import BertTokenizer, BertForSequenceClassification, AdamW, BertConfig, BertModel, get_linear_schedule_with_warmup\n",
        "from torch.utils.data import DataLoader, RandomSampler, SequentialSampler, TensorDataset, random_split "
      ],
      "execution_count": null,
      "outputs": []
    },
    {
      "cell_type": "markdown",
      "metadata": {
        "id": "1RPZNKtdyPkr"
      },
      "source": [
        "## Preprocessing and building dataloaders"
      ]
    },
    {
      "cell_type": "code",
      "metadata": {
        "id": "qpRuSTnnzSi-"
      },
      "source": [
        "device = torch.device(\"cuda\")"
      ],
      "execution_count": null,
      "outputs": []
    },
    {
      "cell_type": "code",
      "metadata": {
        "id": "sJTMgsvMyOrH",
        "colab": {
          "base_uri": "https://localhost:8080/",
          "height": 164,
          "referenced_widgets": [
            "997de6cc31974bcc95c9440cdb88f0b9",
            "a774cbd122a84e9c81c0f42c1c323b23",
            "7a4c73700c8b45ed8b83f31f9730c9d2",
            "17f5cf5fd62e49ccb7b6007b8ea56f0b",
            "68a50c182c0d423ba5e48ea7e0b1247d",
            "6d13b33acdc64baca423e1d88bfad531",
            "213eb86f1bc248dcb5702591b2a8d87a",
            "34dca408507b4cf68f9085026dd10994",
            "accc5cd4d24b43918601ad55305ffeb3",
            "4fba6f69072a4b25abd6aab0af9b641d",
            "b1228010d2cb4a42bc3976d79161c35b",
            "27faa8f8ca344916a3fea32dcca869d5",
            "6cc3c8d6dc6b47e980bb227377e70bbe",
            "5c06b26cfa434c58a938d413aa983e3c",
            "8a7c36d7847d420e936f357ddab76d41",
            "b84a7f396cd64a99b88398f12af38f88",
            "5011549d99db45008320eda6d1cd8037",
            "7fcd35e108744e25b4779a9ffbd924db",
            "eb3c21d7e8444f94881177ae57b672f5",
            "28a247eeaebe4325ac71f17dde1c5751",
            "2656eb4a86f440b594f1cd4c04f5c350",
            "d581d48c6cbd447bb53e0f9cf4d2c92f",
            "5b0a1fd02d6b4428ad22b26263d852d6",
            "3189e0f79d9f46159564265d6e3c4038"
          ]
        },
        "outputId": "6b736b98-6275-4199-b10d-ce935417c739"
      },
      "source": [
        "tokenizer = BertTokenizer.from_pretrained('bert-base-uncased', do_lower_case = True)"
      ],
      "execution_count": null,
      "outputs": [
        {
          "output_type": "display_data",
          "data": {
            "application/vnd.jupyter.widget-view+json": {
              "model_id": "997de6cc31974bcc95c9440cdb88f0b9",
              "version_minor": 0,
              "version_major": 2
            },
            "text/plain": [
              "HBox(children=(FloatProgress(value=0.0, description='Downloading', max=231508.0, style=ProgressStyle(descripti…"
            ]
          },
          "metadata": {
            "tags": []
          }
        },
        {
          "output_type": "stream",
          "text": [
            "\n"
          ],
          "name": "stdout"
        },
        {
          "output_type": "display_data",
          "data": {
            "application/vnd.jupyter.widget-view+json": {
              "model_id": "accc5cd4d24b43918601ad55305ffeb3",
              "version_minor": 0,
              "version_major": 2
            },
            "text/plain": [
              "HBox(children=(FloatProgress(value=0.0, description='Downloading', max=28.0, style=ProgressStyle(description_w…"
            ]
          },
          "metadata": {
            "tags": []
          }
        },
        {
          "output_type": "stream",
          "text": [
            "\n"
          ],
          "name": "stdout"
        },
        {
          "output_type": "display_data",
          "data": {
            "application/vnd.jupyter.widget-view+json": {
              "model_id": "5011549d99db45008320eda6d1cd8037",
              "version_minor": 0,
              "version_major": 2
            },
            "text/plain": [
              "HBox(children=(FloatProgress(value=0.0, description='Downloading', max=466062.0, style=ProgressStyle(descripti…"
            ]
          },
          "metadata": {
            "tags": []
          }
        },
        {
          "output_type": "stream",
          "text": [
            "\n"
          ],
          "name": "stdout"
        }
      ]
    },
    {
      "cell_type": "code",
      "metadata": {
        "id": "6TJdafrEyOrM"
      },
      "source": [
        "tweets = df.text_raw.values\n",
        "labels = df.target.values"
      ],
      "execution_count": null,
      "outputs": []
    },
    {
      "cell_type": "code",
      "metadata": {
        "id": "wjoMbjZpCnfj",
        "colab": {
          "base_uri": "https://localhost:8080/",
          "height": 361
        },
        "outputId": "e2f984fc-dac4-4108-9660-2153b73a5520"
      },
      "source": [
        "# Finding the best length to pad/truncate based on sample of first 1,000 tweets\n",
        "tweet_lengths = [len(tokenizer(tweet)['input_ids']) for tweet in tweets[:1000]]\n",
        "fig,ax = plt.subplots(dpi=100)\n",
        "ax.boxplot(tweet_lengths)\n",
        "ax.grid(axis='x')\n",
        "ax.set_title('Tweet lengths')\n",
        "ax.set_xticks([])\n",
        "ax.set_ylabel('# of tokens')\n",
        "plt.show()"
      ],
      "execution_count": null,
      "outputs": [
        {
          "output_type": "display_data",
          "data": {
            "image/png": "[encoded data removed]",
            "text/plain": [
              "<Figure size 600x400 with 1 Axes>"
            ]
          },
          "metadata": {
            "tags": []
          }
        }
      ]
    },
    {
      "cell_type": "markdown",
      "metadata": {
        "id": "6YbnZa0mVQqj"
      },
      "source": [
        "It seems that around 90-95% of the tweets are of length below 50 tokens. Let's use 50 as the maximum length and pad the shorter tweets to it."
      ]
    },
    {
      "cell_type": "code",
      "metadata": {
        "id": "eElTX56syOrN"
      },
      "source": [
        "def tokenizer_encode(tweet) :\n",
        "  encoded_dict = tokenizer.encode_plus(tweet, \n",
        "                                       add_special_tokens = True,       # Add '[CLS]' and '[SEP]'\n",
        "                                       return_attention_mask = True,    # Do construct attn. masks.\n",
        "                                       return_token_type_ids = False,   # Do not return token type ids\n",
        "                                       max_length = 50,                 # max tweet length\n",
        "                                       padding='max_length',            # Pad to this length if less than 50 tokens\n",
        "                                       truncation=True,                 # Truncate if the tweet is longer than 50 tokens\n",
        "                                       return_tensors = 'pt')  \n",
        "  return encoded_dict"
      ],
      "execution_count": null,
      "outputs": []
    },
    {
      "cell_type": "code",
      "metadata": {
        "id": "_jefDXnaybP1"
      },
      "source": [
        "def encode_data(tweets, labels) :\n",
        "  # Tokenize all of the sentences and map the tokens to thier word IDs.\n",
        "  input_ids = []\n",
        "  attention_masks = []\n",
        "\n",
        "  for tweet in tweets:\n",
        "      encoded_dict = tokenizer_encode(tweet)\n",
        "      input_ids.append(encoded_dict['input_ids'])\n",
        "      attention_masks.append(encoded_dict['attention_mask']) # attention mask differentiates padding from non-padding\n",
        "\n",
        "  # Convert the lists into tensors.\n",
        "  input_ids = torch.cat(input_ids, dim=0)\n",
        "  attention_masks = torch.cat(attention_masks, dim=0)\n",
        "  labels = torch.tensor(labels)\n",
        "  return input_ids, attention_masks, labels"
      ],
      "execution_count": null,
      "outputs": []
    },
    {
      "cell_type": "code",
      "metadata": {
        "colab": {
          "base_uri": "https://localhost:8080/"
        },
        "id": "rmRxWm9vyOrN",
        "outputId": "fc5efbd2-98d1-411b-8b13-6ac0337d9926"
      },
      "source": [
        "input_ids, attention_masks, labels = encode_data(tweets, labels)\n",
        "\n",
        "# Print tweet 0, now as a list of IDs.\n",
        "print('Original:\\n', tweets[0])\n",
        "print('Token IDs:\\n', input_ids[0])"
      ],
      "execution_count": null,
      "outputs": [
        {
          "output_type": "stream",
          "text": [
            "Original:\n",
            " So we're here. It's getting cloudy!  Listening to @LBOOGSdotTV on Hot 97.\n",
            "Token IDs:\n",
            " tensor([  101,  2061,  2057,  1005,  2128,  2182,  1012,  2009,  1005,  1055,\n",
            "         2893, 24706,   999,  5962,  2000,  1030,  6053,  9541,  5620, 27364,\n",
            "         9189,  2006,  2980,  5989,  1012,   102,     0,     0,     0,     0,\n",
            "            0,     0,     0,     0,     0,     0,     0,     0,     0,     0,\n",
            "            0,     0,     0,     0,     0,     0,     0,     0,     0,     0])\n"
          ],
          "name": "stdout"
        }
      ]
    },
    {
      "cell_type": "code",
      "metadata": {
        "colab": {
          "base_uri": "https://localhost:8080/"
        },
        "id": "vfSSe6snyOrO",
        "outputId": "d964abf7-3ae6-4bb6-847e-5b739b5a0db9"
      },
      "source": [
        "dataset = TensorDataset(input_ids, attention_masks, labels)\n",
        "\n",
        "train_size = int(0.9 * len(dataset))\n",
        "val_size = len(dataset) - train_size\n",
        "\n",
        "train_dataset, val_dataset = random_split(dataset, [train_size, val_size], generator=torch.Generator().manual_seed(42))\n",
        "\n",
        "print(train_size)\n",
        "print(val_size)"
      ],
      "execution_count": null,
      "outputs": [
        {
          "output_type": "stream",
          "text": [
            "99000\n",
            "11000\n"
          ],
          "name": "stdout"
        }
      ]
    },
    {
      "cell_type": "code",
      "metadata": {
        "id": "OiAgu-KpyOrP"
      },
      "source": [
        "batch_size = 32\n",
        "\n",
        "# Training dataloader\n",
        "train_dataloader = DataLoader(train_dataset,\n",
        "                              sampler = RandomSampler(train_dataset),\n",
        "                              batch_size = batch_size)\n",
        "\n",
        "# Validation dataloader\n",
        "validation_dataloader = DataLoader(val_dataset, \n",
        "                                   sampler = SequentialSampler(val_dataset), # Loading the batches sequentially\n",
        "                                   batch_size = batch_size)"
      ],
      "execution_count": null,
      "outputs": []
    },
    {
      "cell_type": "code",
      "metadata": {
        "colab": {
          "base_uri": "https://localhost:8080/"
        },
        "id": "2J-WeagJyOrP",
        "outputId": "9602a01f-14ed-4388-ccb5-eca490859885"
      },
      "source": [
        "for batch in validation_dataloader :\n",
        "  print(batch[0])\n",
        "  print(batch[1])\n",
        "  print(batch[2])\n",
        "  break"
      ],
      "execution_count": null,
      "outputs": [
        {
          "output_type": "stream",
          "text": [
            "tensor([[  101,  3110,  6517,  ...,     0,     0,     0],\n",
            "        [  101,  1045,  2123,  ...,     0,     0,     0],\n",
            "        [  101,  5131,  2026,  ...,     0,     0,     0],\n",
            "        ...,\n",
            "        [  101,  4243,  2183,  ...,     0,     0,     0],\n",
            "        [  101,  2026,  2238,  ...,     0,     0,     0],\n",
            "        [  101,  1030, 23564,  ...,     0,     0,     0]])\n",
            "tensor([[1, 1, 1,  ..., 0, 0, 0],\n",
            "        [1, 1, 1,  ..., 0, 0, 0],\n",
            "        [1, 1, 1,  ..., 0, 0, 0],\n",
            "        ...,\n",
            "        [1, 1, 1,  ..., 0, 0, 0],\n",
            "        [1, 1, 1,  ..., 0, 0, 0],\n",
            "        [1, 1, 1,  ..., 0, 0, 0]])\n",
            "tensor([0, 0, 1, 0, 0, 1, 0, 1, 0, 0, 0, 1, 0, 0, 0, 1, 1, 0, 1, 1, 0, 1, 0, 1,\n",
            "        1, 1, 1, 0, 0, 0, 0, 1])\n"
          ],
          "name": "stdout"
        }
      ]
    },
    {
      "cell_type": "code",
      "metadata": {
        "id": "SoSIS6QvsGxl"
      },
      "source": [
        "class SentimentClassifier(nn.Module) :\n",
        "  def __init__(self, n_classes) :\n",
        "    super(SentimentClassifier, self).__init__()\n",
        "    self.bert = BertModel.from_pretrained('bert-base-uncased', return_dict=False)\n",
        "    self.drop = nn.Dropout(p=0.3)\n",
        "    self.out = nn.Linear(self.bert.config.hidden_size, n_classes)\n",
        "    self.softmax = nn.Softmax(dim=1)\n",
        "\n",
        "  def forward(self, input_ids, attention_mask) :\n",
        "    _, pooled_output = self.bert(input_ids=input_ids,\n",
        "                                 attention_mask=attention_mask)\n",
        "    output = self.drop(pooled_output)\n",
        "    output = self.out(output)\n",
        "    return self.softmax(output)"
      ],
      "execution_count": null,
      "outputs": []
    },
    {
      "cell_type": "code",
      "metadata": {
        "colab": {
          "base_uri": "https://localhost:8080/",
          "height": 1000,
          "referenced_widgets": [
            "01488c7c7e4a4e6dab189673a941eab8",
            "7ac5604845524dcbb0f938117d9779e9",
            "08971d407cc0412c84579715b357a82a",
            "c24a4d047bb3467eb76923c1b0b54e4f",
            "93f98ee8691f42748c2d74a17dde133b",
            "b954504302d84ee69d32d6fd200306a4",
            "dba6089e84f241269291ebb4749fe686",
            "8fa2ad4b8ad649d2a4123ec64c015dba",
            "4a2cbbf15895414c9d724746fec7db67",
            "ed841cc579714b5c9a00cdf94e661a84",
            "f5bce0cdaf334df6897bbc826b4174c0",
            "920d9a831a8d44159afd6c1cdfb04e66",
            "e3bda285b8d445d9a0b7568a5d854fee",
            "4fbeee529f61464ebe58b90d06a0702d",
            "633e8e85882b4cc8970a1edb7d9123fb",
            "a6c33a56b9124bf299e16012bf1ef29f"
          ]
        },
        "collapsed": true,
        "id": "BWGH0kJttLt4",
        "outputId": "d6e7db96-7a1d-47d4-b2f0-453ef6680ed9"
      },
      "source": [
        "model = SentimentClassifier(n_classes=2)\n",
        "model.to(device)"
      ],
      "execution_count": null,
      "outputs": [
        {
          "output_type": "display_data",
          "data": {
            "application/vnd.jupyter.widget-view+json": {
              "model_id": "01488c7c7e4a4e6dab189673a941eab8",
              "version_minor": 0,
              "version_major": 2
            },
            "text/plain": [
              "HBox(children=(FloatProgress(value=0.0, description='Downloading', max=570.0, style=ProgressStyle(description_…"
            ]
          },
          "metadata": {
            "tags": []
          }
        },
        {
          "output_type": "stream",
          "text": [
            "\n"
          ],
          "name": "stdout"
        },
        {
          "output_type": "display_data",
          "data": {
            "application/vnd.jupyter.widget-view+json": {
              "model_id": "4a2cbbf15895414c9d724746fec7db67",
              "version_minor": 0,
              "version_major": 2
            },
            "text/plain": [
              "HBox(children=(FloatProgress(value=0.0, description='Downloading', max=440473133.0, style=ProgressStyle(descri…"
            ]
          },
          "metadata": {
            "tags": []
          }
        },
        {
          "output_type": "stream",
          "text": [
            "\n"
          ],
          "name": "stdout"
        },
        {
          "output_type": "execute_result",
          "data": {
            "text/plain": [
              "SentimentClassifier(\n",
              "  (bert): BertModel(\n",
              "    (embeddings): BertEmbeddings(\n",
              "      (word_embeddings): Embedding(30522, 768, padding_idx=0)\n",
              "      (position_embeddings): Embedding(512, 768)\n",
              "      (token_type_embeddings): Embedding(2, 768)\n",
              "      (LayerNorm): LayerNorm((768,), eps=1e-12, elementwise_affine=True)\n",
              "      (dropout): Dropout(p=0.1, inplace=False)\n",
              "    )\n",
              "    (encoder): BertEncoder(\n",
              "      (layer): ModuleList(\n",
              "        (0): BertLayer(\n",
              "          (attention): BertAttention(\n",
              "            (self): BertSelfAttention(\n",
              "              (query): Linear(in_features=768, out_features=768, bias=True)\n",
              "              (key): Linear(in_features=768, out_features=768, bias=True)\n",
              "              (value): Linear(in_features=768, out_features=768, bias=True)\n",
              "              (dropout): Dropout(p=0.1, inplace=False)\n",
              "            )\n",
              "            (output): BertSelfOutput(\n",
              "              (dense): Linear(in_features=768, out_features=768, bias=True)\n",
              "              (LayerNorm): LayerNorm((768,), eps=1e-12, elementwise_affine=True)\n",
              "              (dropout): Dropout(p=0.1, inplace=False)\n",
              "            )\n",
              "          )\n",
              "          (intermediate): BertIntermediate(\n",
              "            (dense): Linear(in_features=768, out_features=3072, bias=True)\n",
              "          )\n",
              "          (output): BertOutput(\n",
              "            (dense): Linear(in_features=3072, out_features=768, bias=True)\n",
              "            (LayerNorm): LayerNorm((768,), eps=1e-12, elementwise_affine=True)\n",
              "            (dropout): Dropout(p=0.1, inplace=False)\n",
              "          )\n",
              "        )\n",
              "        (1): BertLayer(\n",
              "          (attention): BertAttention(\n",
              "            (self): BertSelfAttention(\n",
              "              (query): Linear(in_features=768, out_features=768, bias=True)\n",
              "              (key): Linear(in_features=768, out_features=768, bias=True)\n",
              "              (value): Linear(in_features=768, out_features=768, bias=True)\n",
              "              (dropout): Dropout(p=0.1, inplace=False)\n",
              "            )\n",
              "            (output): BertSelfOutput(\n",
              "              (dense): Linear(in_features=768, out_features=768, bias=True)\n",
              "              (LayerNorm): LayerNorm((768,), eps=1e-12, elementwise_affine=True)\n",
              "              (dropout): Dropout(p=0.1, inplace=False)\n",
              "            )\n",
              "          )\n",
              "          (intermediate): BertIntermediate(\n",
              "            (dense): Linear(in_features=768, out_features=3072, bias=True)\n",
              "          )\n",
              "          (output): BertOutput(\n",
              "            (dense): Linear(in_features=3072, out_features=768, bias=True)\n",
              "            (LayerNorm): LayerNorm((768,), eps=1e-12, elementwise_affine=True)\n",
              "            (dropout): Dropout(p=0.1, inplace=False)\n",
              "          )\n",
              "        )\n",
              "        (2): BertLayer(\n",
              "          (attention): BertAttention(\n",
              "            (self): BertSelfAttention(\n",
              "              (query): Linear(in_features=768, out_features=768, bias=True)\n",
              "              (key): Linear(in_features=768, out_features=768, bias=True)\n",
              "              (value): Linear(in_features=768, out_features=768, bias=True)\n",
              "              (dropout): Dropout(p=0.1, inplace=False)\n",
              "            )\n",
              "            (output): BertSelfOutput(\n",
              "              (dense): Linear(in_features=768, out_features=768, bias=True)\n",
              "              (LayerNorm): LayerNorm((768,), eps=1e-12, elementwise_affine=True)\n",
              "              (dropout): Dropout(p=0.1, inplace=False)\n",
              "            )\n",
              "          )\n",
              "          (intermediate): BertIntermediate(\n",
              "            (dense): Linear(in_features=768, out_features=3072, bias=True)\n",
              "          )\n",
              "          (output): BertOutput(\n",
              "            (dense): Linear(in_features=3072, out_features=768, bias=True)\n",
              "            (LayerNorm): LayerNorm((768,), eps=1e-12, elementwise_affine=True)\n",
              "            (dropout): Dropout(p=0.1, inplace=False)\n",
              "          )\n",
              "        )\n",
              "        (3): BertLayer(\n",
              "          (attention): BertAttention(\n",
              "            (self): BertSelfAttention(\n",
              "              (query): Linear(in_features=768, out_features=768, bias=True)\n",
              "              (key): Linear(in_features=768, out_features=768, bias=True)\n",
              "              (value): Linear(in_features=768, out_features=768, bias=True)\n",
              "              (dropout): Dropout(p=0.1, inplace=False)\n",
              "            )\n",
              "            (output): BertSelfOutput(\n",
              "              (dense): Linear(in_features=768, out_features=768, bias=True)\n",
              "              (LayerNorm): LayerNorm((768,), eps=1e-12, elementwise_affine=True)\n",
              "              (dropout): Dropout(p=0.1, inplace=False)\n",
              "            )\n",
              "          )\n",
              "          (intermediate): BertIntermediate(\n",
              "            (dense): Linear(in_features=768, out_features=3072, bias=True)\n",
              "          )\n",
              "          (output): BertOutput(\n",
              "            (dense): Linear(in_features=3072, out_features=768, bias=True)\n",
              "            (LayerNorm): LayerNorm((768,), eps=1e-12, elementwise_affine=True)\n",
              "            (dropout): Dropout(p=0.1, inplace=False)\n",
              "          )\n",
              "        )\n",
              "        (4): BertLayer(\n",
              "          (attention): BertAttention(\n",
              "            (self): BertSelfAttention(\n",
              "              (query): Linear(in_features=768, out_features=768, bias=True)\n",
              "              (key): Linear(in_features=768, out_features=768, bias=True)\n",
              "              (value): Linear(in_features=768, out_features=768, bias=True)\n",
              "              (dropout): Dropout(p=0.1, inplace=False)\n",
              "            )\n",
              "            (output): BertSelfOutput(\n",
              "              (dense): Linear(in_features=768, out_features=768, bias=True)\n",
              "              (LayerNorm): LayerNorm((768,), eps=1e-12, elementwise_affine=True)\n",
              "              (dropout): Dropout(p=0.1, inplace=False)\n",
              "            )\n",
              "          )\n",
              "          (intermediate): BertIntermediate(\n",
              "            (dense): Linear(in_features=768, out_features=3072, bias=True)\n",
              "          )\n",
              "          (output): BertOutput(\n",
              "            (dense): Linear(in_features=3072, out_features=768, bias=True)\n",
              "            (LayerNorm): LayerNorm((768,), eps=1e-12, elementwise_affine=True)\n",
              "            (dropout): Dropout(p=0.1, inplace=False)\n",
              "          )\n",
              "        )\n",
              "        (5): BertLayer(\n",
              "          (attention): BertAttention(\n",
              "            (self): BertSelfAttention(\n",
              "              (query): Linear(in_features=768, out_features=768, bias=True)\n",
              "              (key): Linear(in_features=768, out_features=768, bias=True)\n",
              "              (value): Linear(in_features=768, out_features=768, bias=True)\n",
              "              (dropout): Dropout(p=0.1, inplace=False)\n",
              "            )\n",
              "            (output): BertSelfOutput(\n",
              "              (dense): Linear(in_features=768, out_features=768, bias=True)\n",
              "              (LayerNorm): LayerNorm((768,), eps=1e-12, elementwise_affine=True)\n",
              "              (dropout): Dropout(p=0.1, inplace=False)\n",
              "            )\n",
              "          )\n",
              "          (intermediate): BertIntermediate(\n",
              "            (dense): Linear(in_features=768, out_features=3072, bias=True)\n",
              "          )\n",
              "          (output): BertOutput(\n",
              "            (dense): Linear(in_features=3072, out_features=768, bias=True)\n",
              "            (LayerNorm): LayerNorm((768,), eps=1e-12, elementwise_affine=True)\n",
              "            (dropout): Dropout(p=0.1, inplace=False)\n",
              "          )\n",
              "        )\n",
              "        (6): BertLayer(\n",
              "          (attention): BertAttention(\n",
              "            (self): BertSelfAttention(\n",
              "              (query): Linear(in_features=768, out_features=768, bias=True)\n",
              "              (key): Linear(in_features=768, out_features=768, bias=True)\n",
              "              (value): Linear(in_features=768, out_features=768, bias=True)\n",
              "              (dropout): Dropout(p=0.1, inplace=False)\n",
              "            )\n",
              "            (output): BertSelfOutput(\n",
              "              (dense): Linear(in_features=768, out_features=768, bias=True)\n",
              "              (LayerNorm): LayerNorm((768,), eps=1e-12, elementwise_affine=True)\n",
              "              (dropout): Dropout(p=0.1, inplace=False)\n",
              "            )\n",
              "          )\n",
              "          (intermediate): BertIntermediate(\n",
              "            (dense): Linear(in_features=768, out_features=3072, bias=True)\n",
              "          )\n",
              "          (output): BertOutput(\n",
              "            (dense): Linear(in_features=3072, out_features=768, bias=True)\n",
              "            (LayerNorm): LayerNorm((768,), eps=1e-12, elementwise_affine=True)\n",
              "            (dropout): Dropout(p=0.1, inplace=False)\n",
              "          )\n",
              "        )\n",
              "        (7): BertLayer(\n",
              "          (attention): BertAttention(\n",
              "            (self): BertSelfAttention(\n",
              "              (query): Linear(in_features=768, out_features=768, bias=True)\n",
              "              (key): Linear(in_features=768, out_features=768, bias=True)\n",
              "              (value): Linear(in_features=768, out_features=768, bias=True)\n",
              "              (dropout): Dropout(p=0.1, inplace=False)\n",
              "            )\n",
              "            (output): BertSelfOutput(\n",
              "              (dense): Linear(in_features=768, out_features=768, bias=True)\n",
              "              (LayerNorm): LayerNorm((768,), eps=1e-12, elementwise_affine=True)\n",
              "              (dropout): Dropout(p=0.1, inplace=False)\n",
              "            )\n",
              "          )\n",
              "          (intermediate): BertIntermediate(\n",
              "            (dense): Linear(in_features=768, out_features=3072, bias=True)\n",
              "          )\n",
              "          (output): BertOutput(\n",
              "            (dense): Linear(in_features=3072, out_features=768, bias=True)\n",
              "            (LayerNorm): LayerNorm((768,), eps=1e-12, elementwise_affine=True)\n",
              "            (dropout): Dropout(p=0.1, inplace=False)\n",
              "          )\n",
              "        )\n",
              "        (8): BertLayer(\n",
              "          (attention): BertAttention(\n",
              "            (self): BertSelfAttention(\n",
              "              (query): Linear(in_features=768, out_features=768, bias=True)\n",
              "              (key): Linear(in_features=768, out_features=768, bias=True)\n",
              "              (value): Linear(in_features=768, out_features=768, bias=True)\n",
              "              (dropout): Dropout(p=0.1, inplace=False)\n",
              "            )\n",
              "            (output): BertSelfOutput(\n",
              "              (dense): Linear(in_features=768, out_features=768, bias=True)\n",
              "              (LayerNorm): LayerNorm((768,), eps=1e-12, elementwise_affine=True)\n",
              "              (dropout): Dropout(p=0.1, inplace=False)\n",
              "            )\n",
              "          )\n",
              "          (intermediate): BertIntermediate(\n",
              "            (dense): Linear(in_features=768, out_features=3072, bias=True)\n",
              "          )\n",
              "          (output): BertOutput(\n",
              "            (dense): Linear(in_features=3072, out_features=768, bias=True)\n",
              "            (LayerNorm): LayerNorm((768,), eps=1e-12, elementwise_affine=True)\n",
              "            (dropout): Dropout(p=0.1, inplace=False)\n",
              "          )\n",
              "        )\n",
              "        (9): BertLayer(\n",
              "          (attention): BertAttention(\n",
              "            (self): BertSelfAttention(\n",
              "              (query): Linear(in_features=768, out_features=768, bias=True)\n",
              "              (key): Linear(in_features=768, out_features=768, bias=True)\n",
              "              (value): Linear(in_features=768, out_features=768, bias=True)\n",
              "              (dropout): Dropout(p=0.1, inplace=False)\n",
              "            )\n",
              "            (output): BertSelfOutput(\n",
              "              (dense): Linear(in_features=768, out_features=768, bias=True)\n",
              "              (LayerNorm): LayerNorm((768,), eps=1e-12, elementwise_affine=True)\n",
              "              (dropout): Dropout(p=0.1, inplace=False)\n",
              "            )\n",
              "          )\n",
              "          (intermediate): BertIntermediate(\n",
              "            (dense): Linear(in_features=768, out_features=3072, bias=True)\n",
              "          )\n",
              "          (output): BertOutput(\n",
              "            (dense): Linear(in_features=3072, out_features=768, bias=True)\n",
              "            (LayerNorm): LayerNorm((768,), eps=1e-12, elementwise_affine=True)\n",
              "            (dropout): Dropout(p=0.1, inplace=False)\n",
              "          )\n",
              "        )\n",
              "        (10): BertLayer(\n",
              "          (attention): BertAttention(\n",
              "            (self): BertSelfAttention(\n",
              "              (query): Linear(in_features=768, out_features=768, bias=True)\n",
              "              (key): Linear(in_features=768, out_features=768, bias=True)\n",
              "              (value): Linear(in_features=768, out_features=768, bias=True)\n",
              "              (dropout): Dropout(p=0.1, inplace=False)\n",
              "            )\n",
              "            (output): BertSelfOutput(\n",
              "              (dense): Linear(in_features=768, out_features=768, bias=True)\n",
              "              (LayerNorm): LayerNorm((768,), eps=1e-12, elementwise_affine=True)\n",
              "              (dropout): Dropout(p=0.1, inplace=False)\n",
              "            )\n",
              "          )\n",
              "          (intermediate): BertIntermediate(\n",
              "            (dense): Linear(in_features=768, out_features=3072, bias=True)\n",
              "          )\n",
              "          (output): BertOutput(\n",
              "            (dense): Linear(in_features=3072, out_features=768, bias=True)\n",
              "            (LayerNorm): LayerNorm((768,), eps=1e-12, elementwise_affine=True)\n",
              "            (dropout): Dropout(p=0.1, inplace=False)\n",
              "          )\n",
              "        )\n",
              "        (11): BertLayer(\n",
              "          (attention): BertAttention(\n",
              "            (self): BertSelfAttention(\n",
              "              (query): Linear(in_features=768, out_features=768, bias=True)\n",
              "              (key): Linear(in_features=768, out_features=768, bias=True)\n",
              "              (value): Linear(in_features=768, out_features=768, bias=True)\n",
              "              (dropout): Dropout(p=0.1, inplace=False)\n",
              "            )\n",
              "            (output): BertSelfOutput(\n",
              "              (dense): Linear(in_features=768, out_features=768, bias=True)\n",
              "              (LayerNorm): LayerNorm((768,), eps=1e-12, elementwise_affine=True)\n",
              "              (dropout): Dropout(p=0.1, inplace=False)\n",
              "            )\n",
              "          )\n",
              "          (intermediate): BertIntermediate(\n",
              "            (dense): Linear(in_features=768, out_features=3072, bias=True)\n",
              "          )\n",
              "          (output): BertOutput(\n",
              "            (dense): Linear(in_features=3072, out_features=768, bias=True)\n",
              "            (LayerNorm): LayerNorm((768,), eps=1e-12, elementwise_affine=True)\n",
              "            (dropout): Dropout(p=0.1, inplace=False)\n",
              "          )\n",
              "        )\n",
              "      )\n",
              "    )\n",
              "    (pooler): BertPooler(\n",
              "      (dense): Linear(in_features=768, out_features=768, bias=True)\n",
              "      (activation): Tanh()\n",
              "    )\n",
              "  )\n",
              "  (drop): Dropout(p=0.3, inplace=False)\n",
              "  (out): Linear(in_features=768, out_features=2, bias=True)\n",
              "  (softmax): Softmax(dim=1)\n",
              ")"
            ]
          },
          "metadata": {
            "tags": []
          },
          "execution_count": 85
        }
      ]
    },
    {
      "cell_type": "code",
      "metadata": {
        "id": "lJnYPn0Wu41j",
        "colab": {
          "base_uri": "https://localhost:8080/"
        },
        "outputId": "8d0f3919-efa6-4c80-f512-9c7214132660"
      },
      "source": [
        "model.bert.config.hidden_size"
      ],
      "execution_count": null,
      "outputs": [
        {
          "output_type": "execute_result",
          "data": {
            "text/plain": [
              "768"
            ]
          },
          "metadata": {
            "tags": []
          },
          "execution_count": 86
        }
      ]
    },
    {
      "cell_type": "markdown",
      "metadata": {
        "id": "yS4tby-r0SCC"
      },
      "source": [
        "## Training"
      ]
    },
    {
      "cell_type": "code",
      "metadata": {
        "id": "zMR8RYhjzER9"
      },
      "source": [
        "epochs = 10\n",
        "\n",
        "optimizer = AdamW(model.parameters(), lr=2e-5, correct_bias=False)\n",
        "\n",
        "total_steps = len(train_dataloader) * epochs\n",
        "\n",
        "loss_fn = nn.CrossEntropyLoss().to(device)\n",
        "\n",
        "scheduler = get_linear_schedule_with_warmup(optimizer=optimizer,\n",
        "                                            num_warmup_steps=0,\n",
        "                                            num_training_steps=total_steps)"
      ],
      "execution_count": null,
      "outputs": []
    },
    {
      "cell_type": "code",
      "metadata": {
        "id": "jcOcgz-q0RVP"
      },
      "source": [
        "def train_epoch(model,\n",
        "                dataloader,\n",
        "                loss_fn,\n",
        "                optimizer,\n",
        "                device,\n",
        "                scheduler,\n",
        "                n_examples) :\n",
        "\n",
        "  # Activate dropout\n",
        "  model.train()\n",
        "  \n",
        "  losses = []\n",
        "  correct_predictions = 0\n",
        "\n",
        "  for batch in dataloader :\n",
        "    input_ids = batch[0].to(device)\n",
        "    attention_mask = batch[1].to(device)\n",
        "    targets = batch[2].to(device)\n",
        "\n",
        "    outputs = model(input_ids=input_ids,\n",
        "                    attention_mask=attention_mask)\n",
        "    \n",
        "    _, preds = torch.max(outputs, dim=1)\n",
        "    loss = loss_fn(outputs, targets)\n",
        "\n",
        "    correct_predictions += torch.sum(preds==targets)\n",
        "    losses.append(loss.item())\n",
        "\n",
        "    # Backpropagation step\n",
        "    loss.backward()\n",
        "\n",
        "    # This is a way to combat exploding gradients: If they are too large, they can become even larger and \"explode\"\n",
        "    # Do inplace, thereofore _ at the end\n",
        "    nn.utils.clip_grad_norm_(model.parameters(), max_norm=1.0)\n",
        "\n",
        "    optimizer.step()\n",
        "    scheduler.step()\n",
        "    optimizer.zero_grad()\n",
        "\n",
        "  return correct_predictions.double() / n_examples, np.mean(losses)"
      ],
      "execution_count": null,
      "outputs": []
    },
    {
      "cell_type": "code",
      "metadata": {
        "id": "D3zn93Ju0aJw"
      },
      "source": [
        "def eval_model(model, dataloader, loss_fn, device, n_examples) :\n",
        "  \n",
        "  # Batch normalization and dropout are disabled\n",
        "  model.eval()\n",
        "\n",
        "  losses = []\n",
        "  correct_predictions = 0\n",
        "\n",
        "  # Disable gradient function, so that torch is a bit faster\n",
        "  with torch.no_grad() :\n",
        "    for batch in dataloader :\n",
        "      input_ids = batch[0].to(device)\n",
        "      attention_mask = batch[1].to(device)\n",
        "      targets = batch[2].to(device)\n",
        "\n",
        "      outputs = model(input_ids=input_ids,\n",
        "                      attention_mask=attention_mask)\n",
        "      \n",
        "      _, preds = torch.max(outputs, dim=1)\n",
        "      loss = loss_fn(outputs, targets)\n",
        "\n",
        "      correct_predictions += torch.sum(preds==targets)\n",
        "      losses.append(loss.item())\n",
        "  \n",
        "  return correct_predictions.double() / n_examples, np.mean(losses)"
      ],
      "execution_count": null,
      "outputs": []
    },
    {
      "cell_type": "code",
      "metadata": {
        "colab": {
          "base_uri": "https://localhost:8080/"
        },
        "id": "1JF2v7AV3A1_",
        "outputId": "a8fabc88-351d-4896-f72f-b48d7ad11ae7"
      },
      "source": [
        "%%time\n",
        "# Create dictionary containing lists of losses and accuracies\n",
        "# Similar to how keras is storing accuracy\n",
        "# Will be able to choose the best accuracy over the validation set\n",
        "\n",
        "history = defaultdict(list)\n",
        "best_accuracy = 0\n",
        "\n",
        "for epoch in range(epochs) :\n",
        "  print(f'Epoch {epoch+1}/{epochs}')\n",
        "  print('-' * 10)\n",
        "\n",
        "  train_acc, train_loss = train_epoch(model=model,\n",
        "                                      dataloader=train_dataloader,\n",
        "                                      loss_fn=loss_fn,\n",
        "                                      optimizer=optimizer,\n",
        "                                      device=device,\n",
        "                                      scheduler=scheduler,\n",
        "                                      n_examples=len(train_dataset))\n",
        "  \n",
        "  print(f'Train loss: {train_loss} Accuracy: {train_acc}')\n",
        "\n",
        "  val_acc, val_loss = eval_model(model=model,\n",
        "                                 dataloader=validation_dataloader,\n",
        "                                 loss_fn=loss_fn,\n",
        "                                 device=device,\n",
        "                                 n_examples=len(val_dataset))\n",
        "  \n",
        "  print(f'Validation loss: {val_loss} Accuracy: {val_acc}')\n",
        "  print()\n",
        "\n",
        "  history['train_acc'].append(train_acc)\n",
        "  history['train_loss'].append(train_loss)\n",
        "\n",
        "  history['val_acc'].append(val_acc)\n",
        "  history['val_loss'].append(val_loss)\n",
        "\n",
        "  if val_acc > best_accuracy :\n",
        "    torch.save(model.state_dict(), 'model.bin')\n",
        "    best_accuracy = val_acc"
      ],
      "execution_count": null,
      "outputs": [
        {
          "output_type": "stream",
          "text": [
            "Epoch 1/10\n",
            "----------\n",
            "Train loss: 0.4922304785706262 Accuracy: 0.8107272727272727\n",
            "Validation loss: 0.46438137459200485 Accuracy: 0.8395454545454545\n",
            "\n",
            "Epoch 2/10\n",
            "----------\n",
            "Train loss: 0.4464442453695715 Accuracy: 0.8618585858585859\n",
            "Validation loss: 0.4597954073444355 Accuracy: 0.848090909090909\n",
            "\n",
            "Epoch 3/10\n",
            "----------\n",
            "Train loss: 0.42325479347010775 Accuracy: 0.8874747474747475\n",
            "Validation loss: 0.46931133878438974 Accuracy: 0.8397272727272727\n",
            "\n",
            "Epoch 4/10\n",
            "----------\n",
            "Train loss: 0.4097587501301485 Accuracy: 0.9022424242424243\n",
            "Validation loss: 0.4654028432140517 Accuracy: 0.8455454545454545\n",
            "\n",
            "Epoch 5/10\n",
            "----------\n",
            "Train loss: 0.40211861462614656 Accuracy: 0.9098989898989899\n",
            "Validation loss: 0.46595607992521554 Accuracy: 0.844\n",
            "\n",
            "Epoch 6/10\n",
            "----------\n",
            "Train loss: 0.39367754309502584 Accuracy: 0.9187474747474748\n",
            "Validation loss: 0.4645059058486029 Accuracy: 0.8469090909090908\n",
            "\n",
            "Epoch 7/10\n",
            "----------\n",
            "Train loss: 0.38724258751081664 Accuracy: 0.9255656565656566\n",
            "Validation loss: 0.4647957641891269 Accuracy: 0.8464545454545453\n",
            "\n",
            "Epoch 8/10\n",
            "----------\n",
            "Train loss: 0.38279463981688217 Accuracy: 0.9300808080808081\n",
            "Validation loss: 0.46362413569938304 Accuracy: 0.8481818181818181\n",
            "\n",
            "Epoch 9/10\n",
            "----------\n",
            "Train loss: 0.37925606408308765 Accuracy: 0.9337878787878788\n",
            "Validation loss: 0.4612270112820836 Accuracy: 0.851\n",
            "\n",
            "Epoch 10/10\n",
            "----------\n",
            "Train loss: 0.37744784245355406 Accuracy: 0.9355858585858586\n",
            "Validation loss: 0.461747188987427 Accuracy: 0.8511818181818182\n",
            "\n",
            "CPU times: user 1h 30min 58s, sys: 1h 10min 58s, total: 2h 41min 57s\n",
            "Wall time: 2h 42min 17s\n"
          ],
          "name": "stdout"
        }
      ]
    },
    {
      "cell_type": "code",
      "metadata": {
        "id": "rgN86fkrmrlC"
      },
      "source": [
        "tr_acc = np.array(history['train_acc']).reshape(10, 1)\n",
        "vl_acc = np.array(history['val_acc']).reshape(10, 1)\n",
        "\n",
        "tr_loss = np.array(history['train_loss']).reshape(10, 1)\n",
        "vl_loss = np.array(history['val_loss']).reshape(10, 1)"
      ],
      "execution_count": null,
      "outputs": []
    },
    {
      "cell_type": "code",
      "metadata": {
        "id": "YirCiqZfXdf1"
      },
      "source": [
        "data = np.concatenate((tr_acc, vl_acc, tr_loss, vl_loss), axis=1)\n",
        "df = pd.DataFrame(data=data, columns=['training_accuracy', 'validation_accuracy', 'training_loss', 'validation_loss'])\n",
        "df.index = df.index.values + 1"
      ],
      "execution_count": 51,
      "outputs": []
    },
    {
      "cell_type": "code",
      "metadata": {
        "colab": {
          "base_uri": "https://localhost:8080/",
          "height": 487
        },
        "id": "isuPifDkXMFj",
        "outputId": "562f9ff1-8133-4e86-c6c7-e5079fbd8c3c"
      },
      "source": [
        "fig,ax = plt.subplots(dpi=120)\n",
        "sns.lineplot(data=df, x=df.index, y='training_accuracy', ax=ax)\n",
        "sns.lineplot(data=df, x=df.index, y='validation_accuracy', ax=ax)\n",
        "ax.set_ylabel('Accuracy')\n",
        "ax.set_xlabel('Epoch')\n",
        "ax.set_xticks(np.arange(1,11))\n",
        "ax.set_xticklabels(np.arange(1,11))\n",
        "ax.legend(['training', 'validation'])\n",
        "ax.set_title('BERT - Accuracy evolution')\n",
        "plt.show();"
      ],
      "execution_count": 59,
      "outputs": [
        {
          "output_type": "display_data",
          "data": {
            "image/png": "[encoded data removed]",
            "text/plain": [
              "<Figure size 720x480 with 1 Axes>"
            ]
          },
          "metadata": {
            "tags": []
          }
        }
      ]
    },
    {
      "cell_type": "code",
      "metadata": {
        "colab": {
          "base_uri": "https://localhost:8080/",
          "height": 487
        },
        "id": "CrzNnp7WaN5m",
        "outputId": "9d681f59-7b2c-4605-e071-34e5946ff9f9"
      },
      "source": [
        "fig,ax = plt.subplots(dpi=120)#figsize=(10,10))\n",
        "sns.lineplot(data=df, x=df.index, y='training_loss', ax=ax)\n",
        "sns.lineplot(data=df, x=df.index, y='validation_loss', ax=ax)\n",
        "ax.set_ylabel('Loss')\n",
        "ax.set_xlabel('Epoch')\n",
        "ax.set_xticks(np.arange(1,11))\n",
        "ax.set_xticklabels(np.arange(1,11))\n",
        "ax.legend(['training', 'validation'])\n",
        "ax.set_title('BERT - Loss evolution')\n",
        "plt.show();"
      ],
      "execution_count": 60,
      "outputs": [
        {
          "output_type": "display_data",
          "data": {
            "image/png": "[encoded data removed]",
            "text/plain": [
              "<Figure size 720x480 with 1 Axes>"
            ]
          },
          "metadata": {
            "tags": []
          }
        }
      ]
    },
    {
      "cell_type": "code",
      "metadata": {
        "id": "kmPfqiUpJ5Is"
      },
      "source": [
        "os.makedirs('drive/My Drive/Data Science/Citibeats Test/Results', exist_ok=True)\n",
        "!cp 'model.bin' 'drive/My Drive/Data Science/Citibeats Test/Results/model_110k.bin'"
      ],
      "execution_count": null,
      "outputs": []
    },
    {
      "cell_type": "markdown",
      "metadata": {
        "id": "FIUincjYKlkv"
      },
      "source": [
        "## Load the trained model"
      ]
    },
    {
      "cell_type": "code",
      "metadata": {
        "id": "t0LUbjpTKjDs"
      },
      "source": [
        "# Load the model's best parameters\n",
        "!cp 'drive/My Drive/Data Science/Citibeats Test/Results/model_110k.bin' 'model.bin'"
      ],
      "execution_count": null,
      "outputs": []
    },
    {
      "cell_type": "code",
      "metadata": {
        "id": "mcNxO_JW6hSQ"
      },
      "source": [
        "model = SentimentClassifier(n_classes=2)\n",
        "\n",
        "# To load the parameters\n",
        "model.load_state_dict(torch.load('model.bin'))\n",
        "\n",
        "model = model.to(device)"
      ],
      "execution_count": null,
      "outputs": []
    },
    {
      "cell_type": "code",
      "metadata": {
        "id": "8-RPivPdr67s",
        "colab": {
          "base_uri": "https://localhost:8080/"
        },
        "outputId": "43433a69-d141-4daf-f8d2-5104f94213ce"
      },
      "source": [
        "bert_accuracy_s140_valid, _ = eval_model(model=model,\n",
        "                                         dataloader=validation_dataloader,\n",
        "                                         loss_fn=loss_fn,\n",
        "                                         device=device,\n",
        "                                         n_examples=len(val_dataset))\n",
        "bert_accuracy_s140_valid = bert_accuracy_s140_valid.item()\n",
        "bert_accuracy_s140_valid"
      ],
      "execution_count": null,
      "outputs": [
        {
          "output_type": "execute_result",
          "data": {
            "text/plain": [
              "0.8511818181818182"
            ]
          },
          "metadata": {
            "tags": []
          },
          "execution_count": 94
        }
      ]
    },
    {
      "cell_type": "markdown",
      "metadata": {
        "id": "qqbslQeJYyH-"
      },
      "source": [
        "## BERT Evaluation"
      ]
    },
    {
      "cell_type": "markdown",
      "metadata": {
        "id": "W7hcMrcE67ty"
      },
      "source": [
        "### Sentiment140 Testset - BERT"
      ]
    },
    {
      "cell_type": "code",
      "metadata": {
        "id": "2JLCIixzb1yY"
      },
      "source": [
        "# Generating features for test data\n",
        "X_test_raw = df_test.text_raw\n",
        "\n",
        "# ground truth\n",
        "y_test = df_test.target"
      ],
      "execution_count": null,
      "outputs": []
    },
    {
      "cell_type": "code",
      "metadata": {
        "id": "PnTmO-Oy0uGI"
      },
      "source": [
        "test_input_ids, test_attention_masks, test_labels = encode_data(tweets=X_test_raw.values, labels=y_test.values.astype(int))"
      ],
      "execution_count": null,
      "outputs": []
    },
    {
      "cell_type": "code",
      "metadata": {
        "id": "X7iEUYKybR_C"
      },
      "source": [
        "# This will return a prediction with label \"2\" if the model is uncertain about its prediction\n",
        "def get_custom_pred(probs, threshold):\n",
        "  preds = []\n",
        "  for prob in probs :\n",
        "    if prob[prob.argmax()] < threshold : preds.append(2)\n",
        "    else: preds.append(prob.argmax())\n",
        "\n",
        "  return np.array(preds)"
      ],
      "execution_count": null,
      "outputs": []
    },
    {
      "cell_type": "code",
      "metadata": {
        "id": "npM0xNMKTkTp"
      },
      "source": [
        "batches = [(batch*batch_size, batch*batch_size+batch_size) for i, batch in enumerate(range(int(len(X_test_raw) / batch_size)))]\n",
        "batches.append((batches[-1][-1], len(X_test_raw)))"
      ],
      "execution_count": null,
      "outputs": []
    },
    {
      "cell_type": "code",
      "metadata": {
        "colab": {
          "base_uri": "https://localhost:8080/"
        },
        "id": "WmeWJx-oSa7p",
        "outputId": "04df5071-3c68-46aa-90d1-a6e4367eb6f4"
      },
      "source": [
        "# This is to compare the performance with/without implementing the threshold to predict neutral class\n",
        "preds_before_thres = np.array([])\n",
        "with torch.no_grad() :\n",
        "  for batch in batches :\n",
        "    input_ids = test_input_ids[batch[0]:batch[1]].to(device)\n",
        "    attention_mask = test_attention_masks[batch[0]:batch[1]].to(device)\n",
        "    targets = test_labels[batch[0]:batch[1]].numpy()\n",
        "\n",
        "    test_probs = model(input_ids=input_ids,\n",
        "                        attention_mask=attention_mask)\n",
        "    \n",
        "    # This is to compare the performance with/without implementing the threshold to predict neutral class\n",
        "    new_preds_before_thres = test_probs.argmax(dim=1).cpu().numpy()\n",
        "    preds_before_thres = np.append(preds_before_thres, new_preds_before_thres)\n",
        "\n",
        "bert_accuracy_s140_test_no_thres = accuracy_score(y_test, preds_before_thres)\n",
        "bert_accuracy_s140_test_no_thres"
      ],
      "execution_count": null,
      "outputs": [
        {
          "output_type": "execute_result",
          "data": {
            "text/plain": [
              "0.5915492957746479"
            ]
          },
          "metadata": {
            "tags": []
          },
          "execution_count": 99
        }
      ]
    },
    {
      "cell_type": "code",
      "metadata": {
        "id": "ZlqScZve5aA4",
        "colab": {
          "base_uri": "https://localhost:8080/",
          "height": 508
        },
        "outputId": "a1df18d9-8687-4fc7-a16b-ad97901367d4"
      },
      "source": [
        "# This is with the implementation of threshold to predict \"neutral\"\n",
        "accs = []\n",
        "highest_acc = 0\n",
        "best_thres = 0\n",
        "\n",
        "thresholds = np.arange(0.5, 0.99, 0.02)\n",
        "for threshold in thresholds :\n",
        "  \n",
        "  acc_batches = []\n",
        "  with torch.no_grad() :\n",
        "    for batch in batches :\n",
        "      input_ids = test_input_ids[batch[0]:batch[1]].to(device)\n",
        "      attention_mask = test_attention_masks[batch[0]:batch[1]].to(device)\n",
        "      targets = test_labels[batch[0]:batch[1]].numpy()\n",
        "\n",
        "      test_probs = model(input_ids=input_ids,\n",
        "                         attention_mask=attention_mask)\n",
        "\n",
        "      preds = get_custom_pred(test_probs, threshold)\n",
        "      preds = np.array([int(pred) for pred in preds])      \n",
        "\n",
        "      acc_batches.append(accuracy_score(targets, preds))\n",
        "  acc = np.array(acc_batches).mean()\n",
        "  if acc > highest_acc : \n",
        "    highest_acc = acc\n",
        "    best_thres = threshold\n",
        "  accs.append(acc)\n",
        "\n",
        "fig,ax = plt.subplots(figsize=(7,5), dpi=100)\n",
        "ax.plot(np.array(accs))\n",
        "ax.set_xticks(range(len(thresholds)));\n",
        "ax.set_xticklabels(np.round(thresholds, 2), rotation=45)\n",
        "ax.set_ylabel('Accuracy'); ax.set_xlabel('Probability threshold')\n",
        "plt.grid()\n",
        "plt.title('Accuracy by threshold', weight=700)\n",
        "plt.show()"
      ],
      "execution_count": null,
      "outputs": [
        {
          "output_type": "display_data",
          "data": {
            "image/png": "[encoded data removed]",
            "text/plain": [
              "<Figure size 700x500 with 1 Axes>"
            ]
          },
          "metadata": {
            "tags": []
          }
        }
      ]
    },
    {
      "cell_type": "code",
      "metadata": {
        "id": "sH6SfuCrC7bX",
        "colab": {
          "base_uri": "https://localhost:8080/"
        },
        "outputId": "156fecff-a878-49d6-dc41-ca5cb5e5f643"
      },
      "source": [
        "best_thres"
      ],
      "execution_count": null,
      "outputs": [
        {
          "output_type": "execute_result",
          "data": {
            "text/plain": [
              "0.9000000000000004"
            ]
          },
          "metadata": {
            "tags": []
          },
          "execution_count": 101
        }
      ]
    },
    {
      "cell_type": "code",
      "metadata": {
        "id": "jHpODS1ZDWkZ"
      },
      "source": [
        "preds = []\n",
        "for ids, att in zip(test_input_ids, test_attention_masks) :\n",
        "  ids = ids.unsqueeze(dim=0)\n",
        "  att = att.unsqueeze(dim=0)\n",
        "  probs = model(input_ids=ids.to(device),\n",
        "                attention_mask=att.to(device))\n",
        "\n",
        "  pred = get_custom_pred(probs, best_thres)\n",
        "  pred = int(pred)\n",
        "  preds.append(pred)"
      ],
      "execution_count": null,
      "outputs": []
    },
    {
      "cell_type": "code",
      "metadata": {
        "id": "taUT_TCR5aA6",
        "colab": {
          "base_uri": "https://localhost:8080/"
        },
        "outputId": "457ffb18-1ae5-4f0f-baf0-c014069c13b1"
      },
      "source": [
        "print(classification_report(test_labels.numpy(), preds, target_names=['negative', 'positive', 'neutral']))"
      ],
      "execution_count": null,
      "outputs": [
        {
          "output_type": "stream",
          "text": [
            "              precision    recall  f1-score   support\n",
            "\n",
            "    negative       0.71      0.79      0.75       177\n",
            "    positive       0.52      0.85      0.65       181\n",
            "     neutral       0.50      0.02      0.04       139\n",
            "\n",
            "    accuracy                           0.60       497\n",
            "   macro avg       0.58      0.55      0.48       497\n",
            "weighted avg       0.58      0.60      0.51       497\n",
            "\n"
          ],
          "name": "stdout"
        }
      ]
    },
    {
      "cell_type": "code",
      "metadata": {
        "id": "iaQet3kVq1wV",
        "colab": {
          "base_uri": "https://localhost:8080/"
        },
        "outputId": "d3b9b129-117a-4bb6-eb07-2c2ae3956ad9"
      },
      "source": [
        "bert_accuracy_s140_test = (test_labels.numpy() == preds).astype(float).mean()\n",
        "bert_accuracy_s140_test"
      ],
      "execution_count": null,
      "outputs": [
        {
          "output_type": "execute_result",
          "data": {
            "text/plain": [
              "0.5955734406438632"
            ]
          },
          "metadata": {
            "tags": []
          },
          "execution_count": 104
        }
      ]
    },
    {
      "cell_type": "code",
      "metadata": {
        "id": "mr3C42o5_iVk",
        "colab": {
          "base_uri": "https://localhost:8080/",
          "height": 308
        },
        "outputId": "65243aa6-4751-4d4b-cfb6-ce47ec82ef17"
      },
      "source": [
        "show_confusion_matrix(test_labels.numpy(), preds, class_names=['negative', 'positive', 'neutral'])"
      ],
      "execution_count": null,
      "outputs": [
        {
          "output_type": "display_data",
          "data": {
            "image/png": "[encoded data removed]",
            "text/plain": [
              "<Figure size 432x288 with 2 Axes>"
            ]
          },
          "metadata": {
            "tags": []
          }
        }
      ]
    },
    {
      "cell_type": "markdown",
      "metadata": {
        "id": "XiMxH3JBJpNi"
      },
      "source": [
        "### Top losses evaluation - Sentiment140"
      ]
    },
    {
      "cell_type": "code",
      "metadata": {
        "id": "c5GjkF2Rb7ZU"
      },
      "source": [
        "# Getting only samples with labels 0 and 1\n",
        "X_test_raw = df_test[(df_test['target'] != 2)].text_raw\n",
        "\n",
        "# Ground truth\n",
        "y_test = df_test[(df_test['target'] != 2)].target"
      ],
      "execution_count": null,
      "outputs": []
    },
    {
      "cell_type": "code",
      "metadata": {
        "id": "U-mPwYHcAo1F"
      },
      "source": [
        "test_input_ids, test_attention_masks, test_labels = encode_data(tweets=X_test_raw.values, labels=y_test.values.astype(int))\n",
        "test_dataset = TensorDataset(test_input_ids, test_attention_masks, test_labels)\n",
        "test_dataloader = DataLoader(test_dataset, \n",
        "                             sampler = SequentialSampler(test_dataset), # Loading the batches sequentially\n",
        "                             batch_size = 32)"
      ],
      "execution_count": null,
      "outputs": []
    },
    {
      "cell_type": "code",
      "metadata": {
        "id": "WyQiDA2WJtF3"
      },
      "source": [
        "# Get top losses\n",
        "preds = []\n",
        "losses = []\n",
        "for i, (ids, att) in enumerate(zip(test_input_ids, test_attention_masks)) :\n",
        "  ids = ids.unsqueeze(dim=0)\n",
        "  att = att.unsqueeze(dim=0)\n",
        "  lbl = test_labels[i].to(device)\n",
        "\n",
        "  probs = model(input_ids=ids.to(device),\n",
        "                attention_mask=att.to(device))\n",
        "\n",
        "  pred = probs.argmax(dim=1)\n",
        "  preds = np.append(preds, pred.cpu().numpy().astype(int))\n",
        "\n",
        "  loss = loss_fn(probs, lbl.unsqueeze(dim=0)).item()\n",
        "  losses.append(loss)"
      ],
      "execution_count": null,
      "outputs": []
    },
    {
      "cell_type": "code",
      "metadata": {
        "id": "kztzXmgfsLMM",
        "colab": {
          "base_uri": "https://localhost:8080/"
        },
        "outputId": "d087b6d8-de21-4e4a-acad-208fae2270d5"
      },
      "source": [
        "bert_accuracy_s140_test_binary = (y_test.values == preds).astype(float).mean()\n",
        "bert_accuracy_s140_test_binary"
      ],
      "execution_count": null,
      "outputs": [
        {
          "output_type": "execute_result",
          "data": {
            "text/plain": [
              "0.8212290502793296"
            ]
          },
          "metadata": {
            "tags": []
          },
          "execution_count": 109
        }
      ]
    },
    {
      "cell_type": "code",
      "metadata": {
        "id": "HwedQpGo_5Fn",
        "colab": {
          "base_uri": "https://localhost:8080/",
          "height": 308
        },
        "outputId": "3559b491-e7e8-41cc-9bcb-45ee0b506b23"
      },
      "source": [
        "show_confusion_matrix(y_test.values, preds, class_names=['negative', 'positive'])"
      ],
      "execution_count": null,
      "outputs": [
        {
          "output_type": "display_data",
          "data": {
            "image/png": "[encoded data removed]",
            "text/plain": [
              "<Figure size 432x288 with 2 Axes>"
            ]
          },
          "metadata": {
            "tags": []
          }
        }
      ]
    },
    {
      "cell_type": "code",
      "metadata": {
        "id": "a0gCirM1K8ou"
      },
      "source": [
        "losses = np.array(losses)"
      ],
      "execution_count": null,
      "outputs": []
    },
    {
      "cell_type": "code",
      "metadata": {
        "id": "szJI_bmHLMbR"
      },
      "source": [
        "# Find top losses (10)\n",
        "num_examples = 10\n",
        "\n",
        "# Find indices of top losses\n",
        "top_losses_ind = np.argpartition(losses, -num_examples)[-num_examples:]\n",
        "\n",
        "# Only leave the corresponding predictions\n",
        "top_losses_preds = preds.astype(int)[top_losses_ind]"
      ],
      "execution_count": null,
      "outputs": []
    },
    {
      "cell_type": "code",
      "metadata": {
        "id": "J9hXKC9bLMbR"
      },
      "source": [
        "# Show texts with highest losses\n",
        "top_losses_texts = df_test[(df_test['target'] != 2)].iloc[top_losses_ind].text_raw\n",
        "top_losses_targets = df_test[(df_test['target'] != 2)].iloc[top_losses_ind].target"
      ],
      "execution_count": null,
      "outputs": []
    },
    {
      "cell_type": "code",
      "metadata": {
        "id": "0Be0wTJAK_jn",
        "colab": {
          "base_uri": "https://localhost:8080/"
        },
        "outputId": "b9ffc1c1-da92-42f3-8011-dc8179040c1a"
      },
      "source": [
        "# Sanity check - all these values should be predicted wrongly\n",
        "(top_losses_targets == top_losses_preds).mean() # Should output 0.0"
      ],
      "execution_count": null,
      "outputs": [
        {
          "output_type": "execute_result",
          "data": {
            "text/plain": [
              "0.0"
            ]
          },
          "metadata": {
            "tags": []
          },
          "execution_count": 114
        }
      ]
    },
    {
      "cell_type": "code",
      "metadata": {
        "id": "RChmxfv3K_eY",
        "colab": {
          "base_uri": "https://localhost:8080/",
          "height": 359
        },
        "outputId": "0b12cab3-a489-4f54-f238-33c1c451c48c"
      },
      "source": [
        "top_losses_df = df_test[(df_test['target'] != 2)].iloc[top_losses_ind][['text_raw','target']]\n",
        "top_losses_df['prediction'] = top_losses_preds\n",
        "top_losses_df"
      ],
      "execution_count": null,
      "outputs": [
        {
          "output_type": "execute_result",
          "data": {
            "text/html": [
              "<div>\n",
              "<style scoped>\n",
              "    .dataframe tbody tr th:only-of-type {\n",
              "        vertical-align: middle;\n",
              "    }\n",
              "\n",
              "    .dataframe tbody tr th {\n",
              "        vertical-align: top;\n",
              "    }\n",
              "\n",
              "    .dataframe thead th {\n",
              "        text-align: right;\n",
              "    }\n",
              "</style>\n",
              "<table border=\"1\" class=\"dataframe\">\n",
              "  <thead>\n",
              "    <tr style=\"text-align: right;\">\n",
              "      <th></th>\n",
              "      <th>text_raw</th>\n",
              "      <th>target</th>\n",
              "      <th>prediction</th>\n",
              "    </tr>\n",
              "  </thead>\n",
              "  <tbody>\n",
              "    <tr>\n",
              "      <th>395</th>\n",
              "      <td>RT @sportsguy33: New Time Warner slogan: \"Time Warner, where we make you long for the days before cable.\"</td>\n",
              "      <td>0</td>\n",
              "      <td>1</td>\n",
              "    </tr>\n",
              "    <tr>\n",
              "      <th>330</th>\n",
              "      <td>I just realized we three monkeys in the white Obama.Biden,Pelosi . Sarah Palin 2012</td>\n",
              "      <td>0</td>\n",
              "      <td>1</td>\n",
              "    </tr>\n",
              "    <tr>\n",
              "      <th>17</th>\n",
              "      <td>@ludajuice Lebron is a Beast, but I'm still cheering 4 the A..til the end.</td>\n",
              "      <td>0</td>\n",
              "      <td>1</td>\n",
              "    </tr>\n",
              "    <tr>\n",
              "      <th>94</th>\n",
              "      <td>omgg i ohhdee want mcdonalds damn i wonder if its open lol =]</td>\n",
              "      <td>1</td>\n",
              "      <td>0</td>\n",
              "    </tr>\n",
              "    <tr>\n",
              "      <th>343</th>\n",
              "      <td>Colin Powell rocked yesterday on CBS. Cheney needs to shut the hell up and go home.Powell is a man of Honor and served our country proudly</td>\n",
              "      <td>0</td>\n",
              "      <td>1</td>\n",
              "    </tr>\n",
              "    <tr>\n",
              "      <th>21</th>\n",
              "      <td>@wordwhizkid Lebron is a beast... nobody in the NBA comes even close.</td>\n",
              "      <td>1</td>\n",
              "      <td>0</td>\n",
              "    </tr>\n",
              "    <tr>\n",
              "      <th>461</th>\n",
              "      <td>Today is a good day to dislike AT&amp;amp;T. Vote out of office indeed, @danielpunkass</td>\n",
              "      <td>0</td>\n",
              "      <td>1</td>\n",
              "    </tr>\n",
              "    <tr>\n",
              "      <th>297</th>\n",
              "      <td>The day I never have to deal with Comcast again will rank as one of the best days of my life.</td>\n",
              "      <td>0</td>\n",
              "      <td>1</td>\n",
              "    </tr>\n",
              "    <tr>\n",
              "      <th>275</th>\n",
              "      <td>SOOO DISSAPOiNTED THEY SENT DANNY GOKEY HOME... YOU STiLL ROCK ...DANNY ... MY HOMETOWN HERO !! YEAH MiLROCKEE!!</td>\n",
              "      <td>1</td>\n",
              "      <td>0</td>\n",
              "    </tr>\n",
              "    <tr>\n",
              "      <th>255</th>\n",
              "      <td>@uscsports21 LeBron is a monsta and he is only 24. SMH The world ain't ready.</td>\n",
              "      <td>1</td>\n",
              "      <td>0</td>\n",
              "    </tr>\n",
              "  </tbody>\n",
              "</table>\n",
              "</div>"
            ],
            "text/plain": [
              "                                                                                                                                       text_raw  ...  prediction\n",
              "395                                   RT @sportsguy33: New Time Warner slogan: \"Time Warner, where we make you long for the days before cable.\"  ...           1\n",
              "330                                                         I just realized we three monkeys in the white Obama.Biden,Pelosi . Sarah Palin 2012  ...           1\n",
              "17                                                                   @ludajuice Lebron is a Beast, but I'm still cheering 4 the A..til the end.  ...           1\n",
              "94                                                                                omgg i ohhdee want mcdonalds damn i wonder if its open lol =]  ...           0\n",
              "343  Colin Powell rocked yesterday on CBS. Cheney needs to shut the hell up and go home.Powell is a man of Honor and served our country proudly  ...           1\n",
              "21                                                                        @wordwhizkid Lebron is a beast... nobody in the NBA comes even close.  ...           0\n",
              "461                                                          Today is a good day to dislike AT&amp;T. Vote out of office indeed, @danielpunkass  ...           1\n",
              "297                                               The day I never have to deal with Comcast again will rank as one of the best days of my life.  ...           1\n",
              "275                            SOOO DISSAPOiNTED THEY SENT DANNY GOKEY HOME... YOU STiLL ROCK ...DANNY ... MY HOMETOWN HERO !! YEAH MiLROCKEE!!  ...           0\n",
              "255                                                               @uscsports21 LeBron is a monsta and he is only 24. SMH The world ain't ready.  ...           0\n",
              "\n",
              "[10 rows x 3 columns]"
            ]
          },
          "metadata": {
            "tags": []
          },
          "execution_count": 115
        }
      ]
    },
    {
      "cell_type": "code",
      "metadata": {
        "id": "xJYG55EsOEm1",
        "colab": {
          "base_uri": "https://localhost:8080/"
        },
        "outputId": "40b5e176-7f65-407d-ce76-c9ff582038c2"
      },
      "source": [
        "for i, text in enumerate(top_losses_texts) :\n",
        "  transformed_texts = np.array([])\n",
        "  tokens = tokenizer.tokenize(text)\n",
        "\n",
        "  for token in tokens :\n",
        "    transformed_texts = np.append(transformed_texts, token)\n",
        "  \n",
        "  print('Correct label: ' + f'{top_losses_targets.iloc[i]}\\nPrediction: {top_losses_preds[i]}\\nText: ' + ' '.join(transformed_texts) + '\\n')"
      ],
      "execution_count": null,
      "outputs": [
        {
          "output_type": "stream",
          "text": [
            "Correct label: 0\n",
            "Prediction: 1\n",
            "Text: rt @ sports ##gu ##y ##33 : new time warner slogan : \" time warner , where we make you long for the days before cable . \"\n",
            "\n",
            "Correct label: 0\n",
            "Prediction: 1\n",
            "Text: i just realized we three monkeys in the white obama . bid ##en , pe ##los ##i . sarah pali ##n 2012\n",
            "\n",
            "Correct label: 0\n",
            "Prediction: 1\n",
            "Text: @ lu ##da ##ju ##ice le ##bron is a beast , but i ' m still cheering 4 the a . . til the end .\n",
            "\n",
            "Correct label: 1\n",
            "Prediction: 0\n",
            "Text: om ##gg i oh ##hd ##ee want mcdonald ##s damn i wonder if its open lo ##l = ]\n",
            "\n",
            "Correct label: 0\n",
            "Prediction: 1\n",
            "Text: colin powell rocked yesterday on cbs . cheney needs to shut the hell up and go home . powell is a man of honor and served our country proudly\n",
            "\n",
            "Correct label: 1\n",
            "Prediction: 0\n",
            "Text: @ word ##w ##hi ##z ##ki ##d le ##bron is a beast . . . nobody in the nba comes even close .\n",
            "\n",
            "Correct label: 0\n",
            "Prediction: 1\n",
            "Text: today is a good day to dislike at & amp ; t . vote out of office indeed , @ daniel ##pu ##nka ##ss\n",
            "\n",
            "Correct label: 0\n",
            "Prediction: 1\n",
            "Text: the day i never have to deal with com ##cast again will rank as one of the best days of my life .\n",
            "\n",
            "Correct label: 1\n",
            "Prediction: 0\n",
            "Text: soo ##o di ##ssa ##point ##ed they sent danny go ##key home . . . you still rock . . . danny . . . my hometown hero ! ! yeah mil ##rock ##ee ! !\n",
            "\n",
            "Correct label: 1\n",
            "Prediction: 0\n",
            "Text: @ usc ##sport ##s ##21 le ##bron is a mons ##ta and he is only 24 . sm ##h the world ain ' t ready .\n",
            "\n"
          ],
          "name": "stdout"
        }
      ]
    },
    {
      "cell_type": "markdown",
      "metadata": {
        "id": "KkV-LHuJNLrf"
      },
      "source": [
        "Observations:\n",
        "\n",
        "- Example 94: word \"damn\" many times carries a negative sentiment but is used here in a positive way.\n",
        "- Example 149: Has a positive ending but is still labelled as negative.\n",
        "- The pretrained tokenizer does not seem to recognize emojis like `=]`, `:)`, or `:(`."
      ]
    },
    {
      "cell_type": "markdown",
      "metadata": {
        "id": "B9EOZIPjFV72"
      },
      "source": [
        "### Dublin City Council Testset - BERT"
      ]
    },
    {
      "cell_type": "code",
      "metadata": {
        "id": "puea5fkAFuEk"
      },
      "source": [
        "dublin_tweets = dublin.text.values\n",
        "dublin_labels = dublin.sentiment.values"
      ],
      "execution_count": null,
      "outputs": []
    },
    {
      "cell_type": "code",
      "metadata": {
        "id": "41S8k_TP1LQI"
      },
      "source": [
        "dublin_input_ids, dublin_attention_masks, dublin_labels = encode_data(tweets=dublin_tweets, labels=dublin_labels.astype(int))"
      ],
      "execution_count": null,
      "outputs": []
    },
    {
      "cell_type": "code",
      "metadata": {
        "id": "b6OQxOzvHEcO",
        "colab": {
          "base_uri": "https://localhost:8080/"
        },
        "outputId": "cd87f52d-cacc-461f-e25c-0fa258a69a43"
      },
      "source": [
        "threshold = best_thres\n",
        "\n",
        "preds_before_thres = np.array([])\n",
        "preds = []\n",
        "\n",
        "for ids, att in zip(dublin_input_ids, dublin_attention_masks) :\n",
        "  ids = ids.unsqueeze(dim=0)\n",
        "  att = att.unsqueeze(dim=0)\n",
        "  probs = model(input_ids=ids.to(device),\n",
        "                attention_mask=att.to(device))\n",
        "\n",
        "  # This is to test the performance with and without the implementation of threshold to predict neutral\n",
        "  new_preds_before_thres = probs.argmax(dim=1).cpu().numpy()\n",
        "  preds_before_thres = np.append(preds_before_thres, new_preds_before_thres)\n",
        "\n",
        "  pred = get_custom_pred(probs, threshold)\n",
        "  pred = int(pred)\n",
        "  preds.append(pred)\n",
        "\n",
        "print(classification_report(dublin_labels.numpy(), preds, target_names=['negative', 'positive', 'neutral']))"
      ],
      "execution_count": null,
      "outputs": [
        {
          "output_type": "stream",
          "text": [
            "              precision    recall  f1-score   support\n",
            "\n",
            "    negative       0.49      0.58      0.53      1000\n",
            "    positive       0.41      0.72      0.52      1000\n",
            "     neutral       0.36      0.02      0.04      1000\n",
            "\n",
            "    accuracy                           0.44      3000\n",
            "   macro avg       0.42      0.44      0.36      3000\n",
            "weighted avg       0.42      0.44      0.36      3000\n",
            "\n"
          ],
          "name": "stdout"
        }
      ]
    },
    {
      "cell_type": "code",
      "metadata": {
        "id": "cd2izBp4XnSS",
        "colab": {
          "base_uri": "https://localhost:8080/"
        },
        "outputId": "460af1cf-c804-4c7d-b955-6059b299fa67"
      },
      "source": [
        "bert_accuracy_dublin_test_no_thres = accuracy_score(dublin_labels.cpu().numpy(), preds_before_thres)\n",
        "bert_accuracy_dublin_test_no_thres"
      ],
      "execution_count": null,
      "outputs": [
        {
          "output_type": "execute_result",
          "data": {
            "text/plain": [
              "0.439"
            ]
          },
          "metadata": {
            "tags": []
          },
          "execution_count": 120
        }
      ]
    },
    {
      "cell_type": "code",
      "metadata": {
        "id": "C59JUjsquBB3",
        "colab": {
          "base_uri": "https://localhost:8080/"
        },
        "outputId": "da6a7552-b9b1-4dcc-8e55-cef788f9d4a8"
      },
      "source": [
        "bert_accuracy_dublin_test_full = (dublin_labels.numpy() == preds).astype(float).mean()\n",
        "bert_accuracy_dublin_test_full"
      ],
      "execution_count": null,
      "outputs": [
        {
          "output_type": "execute_result",
          "data": {
            "text/plain": [
              "0.43933333333333335"
            ]
          },
          "metadata": {
            "tags": []
          },
          "execution_count": 121
        }
      ]
    },
    {
      "cell_type": "code",
      "metadata": {
        "id": "W8PHs_Vp2rK6",
        "colab": {
          "base_uri": "https://localhost:8080/",
          "height": 308
        },
        "outputId": "ef8582eb-5923-422c-e33c-aacc56345dc6"
      },
      "source": [
        "show_confusion_matrix(dublin_labels, preds, class_names=['negative', 'positive', 'neutral'])"
      ],
      "execution_count": null,
      "outputs": [
        {
          "output_type": "display_data",
          "data": {
            "image/png": "[encoded data removed]",
            "text/plain": [
              "<Figure size 432x288 with 2 Axes>"
            ]
          },
          "metadata": {
            "tags": []
          }
        }
      ]
    },
    {
      "cell_type": "markdown",
      "metadata": {
        "id": "_lgCfrgltURz"
      },
      "source": [
        "### Top losses evaluation - Dublin City Council"
      ]
    },
    {
      "cell_type": "code",
      "metadata": {
        "id": "d95zY17NtdKF"
      },
      "source": [
        "# Generating features for test data\n",
        "X_test_raw = dublin[~(dublin['sentiment'] == 2)].text\n",
        "\n",
        "# ground truth\n",
        "y_test = dublin[~(dublin['sentiment'] == 2)].sentiment.astype(int)"
      ],
      "execution_count": null,
      "outputs": []
    },
    {
      "cell_type": "code",
      "metadata": {
        "id": "x3xrNBVm1YNR"
      },
      "source": [
        "dublin_input_ids, dublin_attention_masks, dublin_labels = encode_data(tweets=X_test_raw.values, labels=y_test.values)"
      ],
      "execution_count": null,
      "outputs": []
    },
    {
      "cell_type": "code",
      "metadata": {
        "id": "aysTfvyFtUR0"
      },
      "source": [
        "# Get top losses\n",
        "preds = []\n",
        "losses = []\n",
        "for i, (ids, att) in enumerate(zip(dublin_input_ids, dublin_attention_masks)) :\n",
        "  ids = ids.unsqueeze(dim=0)\n",
        "  att = att.unsqueeze(dim=0)\n",
        "  lbl = dublin_labels[i].to(device)\n",
        "\n",
        "  probs = model(input_ids=ids.to(device),\n",
        "                attention_mask=att.to(device))\n",
        "\n",
        "  pred = probs.argmax(dim=1)\n",
        "  preds = np.append(preds, pred.cpu().numpy().astype(int))\n",
        "\n",
        "  loss = loss_fn(probs, lbl.unsqueeze(dim=0)).item()\n",
        "  losses.append(loss)"
      ],
      "execution_count": null,
      "outputs": []
    },
    {
      "cell_type": "code",
      "metadata": {
        "id": "2sWOHQyOtUR0",
        "colab": {
          "base_uri": "https://localhost:8080/"
        },
        "outputId": "4bf6261f-312f-4894-9f23-b467229a9d21"
      },
      "source": [
        "bert_accuracy_dublin_test_binary = (y_test.values == preds).astype(float).mean()\n",
        "bert_accuracy_dublin_test_binary"
      ],
      "execution_count": null,
      "outputs": [
        {
          "output_type": "execute_result",
          "data": {
            "text/plain": [
              "0.6585"
            ]
          },
          "metadata": {
            "tags": []
          },
          "execution_count": 126
        }
      ]
    },
    {
      "cell_type": "code",
      "metadata": {
        "id": "PpHOm8GPE8JN",
        "colab": {
          "base_uri": "https://localhost:8080/",
          "height": 308
        },
        "outputId": "fd500f25-bca5-4f7c-dc15-b6f55c584f59"
      },
      "source": [
        "show_confusion_matrix(y_test.values, preds, class_names=['negative', 'positive'])"
      ],
      "execution_count": null,
      "outputs": [
        {
          "output_type": "display_data",
          "data": {
            "image/png": "[encoded data removed]",
            "text/plain": [
              "<Figure size 432x288 with 2 Axes>"
            ]
          },
          "metadata": {
            "tags": []
          }
        }
      ]
    },
    {
      "cell_type": "code",
      "metadata": {
        "id": "ZE8z5RFxtUR1"
      },
      "source": [
        "losses = np.array(losses)"
      ],
      "execution_count": null,
      "outputs": []
    },
    {
      "cell_type": "code",
      "metadata": {
        "id": "f48n-JWltUR1"
      },
      "source": [
        "# Find top losses (10)\n",
        "num_examples = 10\n",
        "\n",
        "# Find indices of top losses\n",
        "top_losses_ind = np.argpartition(losses, -num_examples)[-num_examples:]\n",
        "\n",
        "# Only leave the corresponding predictions\n",
        "top_losses_preds = preds[top_losses_ind]"
      ],
      "execution_count": null,
      "outputs": []
    },
    {
      "cell_type": "code",
      "metadata": {
        "id": "LYrVaU_wtUR2"
      },
      "source": [
        "# Show texts with highest losses\n",
        "top_losses_texts = dublin[~(dublin['sentiment'] == 2)].text.iloc[top_losses_ind]\n",
        "top_losses_targets = dublin[~(dublin['sentiment'] == 2)].sentiment.iloc[top_losses_ind]"
      ],
      "execution_count": null,
      "outputs": []
    },
    {
      "cell_type": "code",
      "metadata": {
        "id": "sIwzo3BHtUR2",
        "colab": {
          "base_uri": "https://localhost:8080/"
        },
        "outputId": "8863885f-ed00-4436-f7c7-9d6e34516480"
      },
      "source": [
        "# Sanity check - all these values should be predicted wrongly\n",
        "(top_losses_targets == top_losses_preds).mean() # Should output 0.0"
      ],
      "execution_count": null,
      "outputs": [
        {
          "output_type": "execute_result",
          "data": {
            "text/plain": [
              "0.0"
            ]
          },
          "metadata": {
            "tags": []
          },
          "execution_count": 131
        }
      ]
    },
    {
      "cell_type": "code",
      "metadata": {
        "id": "9uc3dxxdtUR2",
        "colab": {
          "base_uri": "https://localhost:8080/",
          "height": 478
        },
        "outputId": "b4b6d278-1034-4c48-c246-e2a459f0cc36"
      },
      "source": [
        "top_losses_df = dublin.iloc[top_losses_ind][['text','sentiment']]\n",
        "top_losses_df['prediction'] = top_losses_preds.astype(int)\n",
        "top_losses_df"
      ],
      "execution_count": null,
      "outputs": [
        {
          "output_type": "execute_result",
          "data": {
            "text/html": [
              "<div>\n",
              "<style scoped>\n",
              "    .dataframe tbody tr th:only-of-type {\n",
              "        vertical-align: middle;\n",
              "    }\n",
              "\n",
              "    .dataframe tbody tr th {\n",
              "        vertical-align: top;\n",
              "    }\n",
              "\n",
              "    .dataframe thead th {\n",
              "        text-align: right;\n",
              "    }\n",
              "</style>\n",
              "<table border=\"1\" class=\"dataframe\">\n",
              "  <thead>\n",
              "    <tr style=\"text-align: right;\">\n",
              "      <th></th>\n",
              "      <th>text</th>\n",
              "      <th>sentiment</th>\n",
              "      <th>prediction</th>\n",
              "    </tr>\n",
              "  </thead>\n",
              "  <tbody>\n",
              "    <tr>\n",
              "      <th>1762</th>\n",
              "      <td>@Taximattdublin @IBIKEDublin @RSAIreland @dublincycling @GardaTraffic @Fingalcoco @DubCityCouncil Nothing wrong with where he is, at some traffic lights I tend to get behind a car to get through the lights rather than risk getting left hooked by one.</td>\n",
              "      <td>0</td>\n",
              "      <td>1</td>\n",
              "    </tr>\n",
              "    <tr>\n",
              "      <th>754</th>\n",
              "      <td>The Killer You Never See: Police Are Dying by Suicide More Often Than in the Line of Duty — Why?\\n\\nA string of police suicides in New York City has put a new spotlight on the issue as Congress moved forward... https://t.co/rJh3W8YOqx</td>\n",
              "      <td>1</td>\n",
              "      <td>0</td>\n",
              "    </tr>\n",
              "    <tr>\n",
              "      <th>189</th>\n",
              "      <td>RT @DCCEconDev: Latest Dublin Economic Monitor out now! headlines... employment breeches 700k for 1st time. Unemployment ⤵️ 4.9% Consumer s…</td>\n",
              "      <td>1</td>\n",
              "      <td>0</td>\n",
              "    </tr>\n",
              "    <tr>\n",
              "      <th>309</th>\n",
              "      <td>@ccferrie @hazechu @DubCityCouncil How about cheaper, more wide ranging and more accessible public transport first please please please. So people could actually enjoy this. Nightmare already for people with access issues</td>\n",
              "      <td>1</td>\n",
              "      <td>0</td>\n",
              "    </tr>\n",
              "    <tr>\n",
              "      <th>437</th>\n",
              "      <td>@DCarsonArch @ZoeHealy3 @ccferrie You don’t know my LPT in different constituency. Or hardship on elderly. And LPT introduced in recession. And now Govt utterly wasting our high tax on overspend projects. Not on housing. And Council spending fortune on private rentals. So take more from low income hardworkers???</td>\n",
              "      <td>1</td>\n",
              "      <td>0</td>\n",
              "    </tr>\n",
              "    <tr>\n",
              "      <th>420</th>\n",
              "      <td>Police search for competent politicians comes up empty https://t.co/til6p6Ov00</td>\n",
              "      <td>1</td>\n",
              "      <td>0</td>\n",
              "    </tr>\n",
              "    <tr>\n",
              "      <th>196</th>\n",
              "      <td>13th July 1919\\nMullingar\\nIn the early hours of the morning a baton charge is made against a group of Sinn Féin supporters in the Westmeath town. Two police officers are hit with revolver shots and are being treated in hospital</td>\n",
              "      <td>1</td>\n",
              "      <td>0</td>\n",
              "    </tr>\n",
              "    <tr>\n",
              "      <th>1130</th>\n",
              "      <td>@NursepollyRgn @williamhboney1 @ItsCherrySue @MurphyEoghan @Fingalcoco I agree with Polly Martin. Naming her in her professional capacity and calling out her and FCCs attitude I've no problem with. But tagging her personal account is not right.</td>\n",
              "      <td>0</td>\n",
              "      <td>1</td>\n",
              "    </tr>\n",
              "    <tr>\n",
              "      <th>46</th>\n",
              "      <td>Nearly 30pc of homeless people in Ireland living in Dublin inner city – https://t.co/sR4LuWIP1C https://t.co/bpsCKzyiYt https://t.co/6liANSR6J7</td>\n",
              "      <td>1</td>\n",
              "      <td>0</td>\n",
              "    </tr>\n",
              "    <tr>\n",
              "      <th>787</th>\n",
              "      <td>We aren't paying doctors.\\nOur government cheap skated med lab resulting in 221 women suffering and dying.\\nOur hosptials are running on skeleton staff.\\n\\nMore and more of us are one rent increase from homelessness.\\n\\nThe only people who benefit are those with wealth and power</td>\n",
              "      <td>1</td>\n",
              "      <td>0</td>\n",
              "    </tr>\n",
              "  </tbody>\n",
              "</table>\n",
              "</div>"
            ],
            "text/plain": [
              "                                                                                                                                                                                                                                                                                                                           text  ... prediction\n",
              "1762                                                                 @Taximattdublin @IBIKEDublin @RSAIreland @dublincycling @GardaTraffic @Fingalcoco @DubCityCouncil Nothing wrong with where he is, at some traffic lights I tend to get behind a car to get through the lights rather than risk getting left hooked by one.  ...          1\n",
              "754                                                                                  The Killer You Never See: Police Are Dying by Suicide More Often Than in the Line of Duty — Why?\\n\\nA string of police suicides in New York City has put a new spotlight on the issue as Congress moved forward... https://t.co/rJh3W8YOqx  ...          0\n",
              "189                                                                                                                                                                                RT @DCCEconDev: Latest Dublin Economic Monitor out now! headlines... employment breeches 700k for 1st time. Unemployment ⤵️ 4.9% Consumer s…  ...          0\n",
              "309                                                                                               @ccferrie @hazechu @DubCityCouncil How about cheaper, more wide ranging and more accessible public transport first please please please. So people could actually enjoy this. Nightmare already for people with access issues  ...          0\n",
              "437   @DCarsonArch @ZoeHealy3 @ccferrie You don’t know my LPT in different constituency. Or hardship on elderly. And LPT introduced in recession. And now Govt utterly wasting our high tax on overspend projects. Not on housing. And Council spending fortune on private rentals. So take more from low income hardworkers???  ...          0\n",
              "420                                                                                                                                                                                                                                              Police search for competent politicians comes up empty https://t.co/til6p6Ov00  ...          0\n",
              "196                                                                                        13th July 1919\\nMullingar\\nIn the early hours of the morning a baton charge is made against a group of Sinn Féin supporters in the Westmeath town. Two police officers are hit with revolver shots and are being treated in hospital  ...          0\n",
              "1130                                                                       @NursepollyRgn @williamhboney1 @ItsCherrySue @MurphyEoghan @Fingalcoco I agree with Polly Martin. Naming her in her professional capacity and calling out her and FCCs attitude I've no problem with. But tagging her personal account is not right.  ...          1\n",
              "46                                                                                                                                                                              Nearly 30pc of homeless people in Ireland living in Dublin inner city – https://t.co/sR4LuWIP1C https://t.co/bpsCKzyiYt https://t.co/6liANSR6J7  ...          0\n",
              "787                                     We aren't paying doctors.\\nOur government cheap skated med lab resulting in 221 women suffering and dying.\\nOur hosptials are running on skeleton staff.\\n\\nMore and more of us are one rent increase from homelessness.\\n\\nThe only people who benefit are those with wealth and power  ...          0\n",
              "\n",
              "[10 rows x 3 columns]"
            ]
          },
          "metadata": {
            "tags": []
          },
          "execution_count": 132
        }
      ]
    },
    {
      "cell_type": "code",
      "metadata": {
        "id": "zPzg6GUftUR3",
        "colab": {
          "base_uri": "https://localhost:8080/"
        },
        "outputId": "5bd0a597-a551-4487-d91c-184026583a77"
      },
      "source": [
        "for i, text in enumerate(top_losses_texts) :\n",
        "  transformed_texts = np.array([])\n",
        "  tokens = tokenizer.tokenize(text)\n",
        "\n",
        "  for token in tokens :\n",
        "    transformed_texts = np.append(transformed_texts, token)\n",
        "  \n",
        "  print('Correct label: ' + f'{top_losses_targets.iloc[i]}\\nPrediction: {top_losses_preds[i]}\\nText: ' + ' '.join(transformed_texts) + '\\n')"
      ],
      "execution_count": null,
      "outputs": [
        {
          "output_type": "stream",
          "text": [
            "Correct label: 0\n",
            "Prediction: 1.0\n",
            "Text: @ taxi ##mat ##t ##du ##bl ##in @ ib ##ike ##du ##bl ##in @ rs ##aire ##land @ dublin ##cy ##cl ##ing @ ga ##rda ##tra ##ffi ##c @ fin ##gal ##co ##co @ dub ##city ##co ##un ##ci ##l nothing wrong with where he is , at some traffic lights i tend to get behind a car to get through the lights rather than risk getting left hooked by one .\n",
            "\n",
            "Correct label: 1\n",
            "Prediction: 0.0\n",
            "Text: the killer you never see : police are dying by suicide more often than in the line of duty — why ? a string of police suicide ##s in new york city has put a new spotlight on the issue as congress moved forward . . . https : / / t . co / r ##j ##h ##3 ##w ##8 ##yo ##q ##x\n",
            "\n",
            "Correct label: 1\n",
            "Prediction: 0.0\n",
            "Text: rt @ dc ##ce ##con ##dev : latest dublin economic monitor out now ! headlines . . . employment bree ##ches 700 ##k for 1st time . unemployment [UNK] 4 . 9 % consumer s …\n",
            "\n",
            "Correct label: 1\n",
            "Prediction: 0.0\n",
            "Text: @ cc ##fer ##rie @ haze ##chu @ dub ##city ##co ##un ##ci ##l how about cheaper , more wide ranging and more accessible public transport first please please please . so people could actually enjoy this . nightmare already for people with access issues\n",
            "\n",
            "Correct label: 1\n",
            "Prediction: 0.0\n",
            "Text: @ dc ##ars ##ona ##rch @ zoe ##hea ##ly ##3 @ cc ##fer ##rie you don ’ t know my lp ##t in different constituency . or hardship on elderly . and lp ##t introduced in recession . and now govt utterly wasting our high tax on overs ##pen ##d projects . not on housing . and council spending fortune on private rental ##s . so take more from low income hard ##work ##ers ? ? ?\n",
            "\n",
            "Correct label: 1\n",
            "Prediction: 0.0\n",
            "Text: police search for competent politicians comes up empty https : / / t . co / til ##6 ##p ##6 ##ov ##00\n",
            "\n",
            "Correct label: 1\n",
            "Prediction: 0.0\n",
            "Text: 13th july 1919 mu ##lling ##ar in the early hours of the morning a baton charge is made against a group of sinn fein supporters in the west ##me ##ath town . two police officers are hit with revolver shots and are being treated in hospital\n",
            "\n",
            "Correct label: 0\n",
            "Prediction: 1.0\n",
            "Text: @ nurse ##pol ##ly ##rg ##n @ william ##h ##bone ##y ##1 @ its ##cher ##rys ##ue @ murphy ##eo ##ghan @ fin ##gal ##co ##co i agree with polly martin . naming her in her professional capacity and calling out her and fcc ##s attitude i ' ve no problem with . but tag ##ging her personal account is not right .\n",
            "\n",
            "Correct label: 1\n",
            "Prediction: 0.0\n",
            "Text: nearly 30 ##pc of homeless people in ireland living in dublin inner city – https : / / t . co / sr ##4 ##lu ##wi ##p ##1 ##c https : / / t . co / bp ##sc ##k ##zy ##iy ##t https : / / t . co / 6 ##lian ##sr ##6 ##j ##7\n",
            "\n",
            "Correct label: 1\n",
            "Prediction: 0.0\n",
            "Text: we aren ' t paying doctors . our government cheap skate ##d med lab resulting in 221 women suffering and dying . our ho ##sp ##tial ##s are running on skeleton staff . more and more of us are one rent increase from homeless ##ness . the only people who benefit are those with wealth and power\n",
            "\n"
          ],
          "name": "stdout"
        }
      ]
    },
    {
      "cell_type": "markdown",
      "metadata": {
        "id": "j1QGYHqBiWU_"
      },
      "source": [
        "# Research questions"
      ]
    },
    {
      "cell_type": "code",
      "metadata": {
        "id": "FmZ-vM1CiYDL",
        "colab": {
          "base_uri": "https://localhost:8080/",
          "height": 266
        },
        "outputId": "6af1cd51-bebe-4bd7-929e-6ffe4af1265d"
      },
      "source": [
        "data = [[logreg_accuracy_s140_valid,            bert_accuracy_s140_valid],\n",
        "        [logreg_accuracy_s140_test_binary,      bert_accuracy_s140_test_binary],\n",
        "        [logreg_accuracy_s140_test_no_thres,    bert_accuracy_s140_test_no_thres],\n",
        "        [logreg_accuracy_s140_test,             bert_accuracy_s140_test],\n",
        "        [logreg_accuracy_dublin_test_binary,    bert_accuracy_dublin_test_binary],\n",
        "        [logreg_accuracy_dublin_test_no_thres,  bert_accuracy_dublin_test_no_thres],\n",
        "        [logreg_accuracy_dublin_test_full,      bert_accuracy_dublin_test_full]]\n",
        "\n",
        "accuracies = pd.DataFrame(data=data, columns=['LogReg', 'BERT'], index=['Sentiment140 validation', \n",
        "                                                                        'Sentiment140 test (binary)', \n",
        "                                                                        'Sentiment140 test (3 labels) no thres',\n",
        "                                                                        'Sentiment140 test (3 labels) with thres', \n",
        "                                                                        'Dublin test (binary)',\n",
        "                                                                        'Dublin test (3 labels) no thres',  \n",
        "                                                                        'Dublin test (3 labels) with thres'])\n",
        "accuracies"
      ],
      "execution_count": null,
      "outputs": [
        {
          "output_type": "execute_result",
          "data": {
            "text/html": [
              "<div>\n",
              "<style scoped>\n",
              "    .dataframe tbody tr th:only-of-type {\n",
              "        vertical-align: middle;\n",
              "    }\n",
              "\n",
              "    .dataframe tbody tr th {\n",
              "        vertical-align: top;\n",
              "    }\n",
              "\n",
              "    .dataframe thead th {\n",
              "        text-align: right;\n",
              "    }\n",
              "</style>\n",
              "<table border=\"1\" class=\"dataframe\">\n",
              "  <thead>\n",
              "    <tr style=\"text-align: right;\">\n",
              "      <th></th>\n",
              "      <th>LogReg</th>\n",
              "      <th>BERT</th>\n",
              "    </tr>\n",
              "  </thead>\n",
              "  <tbody>\n",
              "    <tr>\n",
              "      <th>Sentiment140 validation</th>\n",
              "      <td>0.739182</td>\n",
              "      <td>0.851182</td>\n",
              "    </tr>\n",
              "    <tr>\n",
              "      <th>Sentiment140 test (binary)</th>\n",
              "      <td>0.768156</td>\n",
              "      <td>0.821229</td>\n",
              "    </tr>\n",
              "    <tr>\n",
              "      <th>Sentiment140 test (3 labels) no thres</th>\n",
              "      <td>0.553320</td>\n",
              "      <td>0.591549</td>\n",
              "    </tr>\n",
              "    <tr>\n",
              "      <th>Sentiment140 test (3 labels) with thres</th>\n",
              "      <td>0.569416</td>\n",
              "      <td>0.595573</td>\n",
              "    </tr>\n",
              "    <tr>\n",
              "      <th>Dublin test (binary)</th>\n",
              "      <td>0.667000</td>\n",
              "      <td>0.658500</td>\n",
              "    </tr>\n",
              "    <tr>\n",
              "      <th>Dublin test (3 labels) no thres</th>\n",
              "      <td>0.444667</td>\n",
              "      <td>0.439000</td>\n",
              "    </tr>\n",
              "    <tr>\n",
              "      <th>Dublin test (3 labels) with thres</th>\n",
              "      <td>0.467000</td>\n",
              "      <td>0.439333</td>\n",
              "    </tr>\n",
              "  </tbody>\n",
              "</table>\n",
              "</div>"
            ],
            "text/plain": [
              "                                           LogReg      BERT\n",
              "Sentiment140 validation                  0.739182  0.851182\n",
              "Sentiment140 test (binary)               0.768156  0.821229\n",
              "Sentiment140 test (3 labels) no thres    0.553320  0.591549\n",
              "Sentiment140 test (3 labels) with thres  0.569416  0.595573\n",
              "Dublin test (binary)                     0.667000  0.658500\n",
              "Dublin test (3 labels) no thres          0.444667  0.439000\n",
              "Dublin test (3 labels) with thres        0.467000  0.439333"
            ]
          },
          "metadata": {
            "tags": []
          },
          "execution_count": 134
        }
      ]
    },
    {
      "cell_type": "markdown",
      "metadata": {
        "id": "NiWxl3Ihv5tb"
      },
      "source": [
        "Huge differences in accuracies between Sentiment140 and Dublin City Council datasets can be observed. Reasons:\n",
        "1. The biggest reason of differences in accuracy is that the training data contains 2 labels, while the test data contains 3 labels (additionally, `neutral`). Although the accuracy was improved a little bit by classifying text as neutral in case when predictions probabilities are close enough to each other, it still suffers a lot from not having been trained on 3 labels.\n",
        "2. Secondly, the domain is different. Just by looking at the tweets from Sentiment140 dataset, one can see that the language is very informal and oftentimes contains typographic errors. Meanwhile, the Dublin dataset is rather formal and about more \"educated\" topics, like politics and economy.\n",
        "3. Hyperlinks are not processed well by both tokenizers: They are divided into symbols like `http`, `:`, `/` that seem to carry meaning while they actually don't.\n",
        "4. Both models had difficulties recognizing emoticons, although they carry a lot of meaning.\n",
        "5. Punctuation was rather confusing (**`,`** had negative coefficient in case of Logistic Regression, while **`:`** had a positive one which does not really make sense)."
      ]
    },
    {
      "cell_type": "markdown",
      "metadata": {
        "id": "z1iSRdafOxSq"
      },
      "source": [
        "### Accuracy by category - Logistic Regression"
      ]
    },
    {
      "cell_type": "code",
      "metadata": {
        "id": "f165heJfOxSt"
      },
      "source": [
        "dublin_binary = dublin[dublin.sentiment != 2]"
      ],
      "execution_count": null,
      "outputs": []
    },
    {
      "cell_type": "code",
      "metadata": {
        "collapsed": true,
        "id": "_eEx-n0VOxSt"
      },
      "source": [
        "categories = []\n",
        "examples = []\n",
        "accs = []\n",
        "\n",
        "for category in dublin_binary.category.unique() :\n",
        "  tweets = dublin_binary[dublin_binary['category'] == category].text\n",
        "  labels = dublin_binary[dublin_binary['category'] == category].sentiment.values.astype(int)\n",
        "  n_examples = int(len(tweets))\n",
        "\n",
        "  X = vectorizer.transform(tweets)\n",
        "  X = scaler.transform(X.toarray())\n",
        "  \n",
        "  preds = log_model.predict(X)\n",
        "  acc = accuracy_score(labels, preds)\n",
        "\n",
        "  categories.append(category)\n",
        "  examples.append(n_examples)\n",
        "  accs.append(acc)\n",
        "\n",
        "accs = np.array(accs)\n",
        "examples = np.array(examples)"
      ],
      "execution_count": null,
      "outputs": []
    },
    {
      "cell_type": "code",
      "metadata": {
        "colab": {
          "base_uri": "https://localhost:8080/",
          "height": 627
        },
        "id": "aKTFUEp1OxSu",
        "outputId": "63ca8423-8788-4790-b416-bf12032c4ca7"
      },
      "source": [
        "data = np.concatenate((accs.reshape(15,1), examples.astype(int).reshape(15,1)), axis=1)\n",
        "accuracies = pd.DataFrame(data=data, columns=['Accuracy', 'n_examples'], index=categories)\n",
        "accuracies = accuracies.sort_values(by='Accuracy', ascending=False)\n",
        "\n",
        "fig,ax = plt.subplots(figsize=(10,10))\n",
        "\n",
        "norm = plt.Normalize(accuracies.n_examples.min(), accuracies.n_examples.max())\n",
        "cmap = sns.cubehelix_palette(as_cmap=True)\n",
        "\n",
        "sns.barplot(y=accuracies.index.values, x=\"Accuracy\", data=accuracies, orient='h', ax=ax, palette=cmap(norm(accuracies.n_examples.values)))\n",
        "sns.despine(left=True, bottom=True)\n",
        "\n",
        "sm = plt.cm.ScalarMappable(cmap=cmap, norm=norm)\n",
        "sm.set_array([])\n",
        "cbar = plt.colorbar(sm, ax=ax)\n",
        "cbar.set_label('Number of test samples', rotation=90)\n",
        "ax.set_title('Accuracy per category (Logistic Regression)', weight=600)\n",
        "plt.show();"
      ],
      "execution_count": null,
      "outputs": [
        {
          "output_type": "display_data",
          "data": {
            "image/png": "[encoded data removed]",
            "text/plain": [
              "<Figure size 720x720 with 2 Axes>"
            ]
          },
          "metadata": {
            "tags": []
          }
        }
      ]
    },
    {
      "cell_type": "markdown",
      "metadata": {
        "id": "MfWpz6rp4Jw8"
      },
      "source": [
        "### Accuracy by category - BERT"
      ]
    },
    {
      "cell_type": "code",
      "metadata": {
        "id": "mriyDTxH4O67"
      },
      "source": [
        "dublin_binary = dublin[dublin.sentiment != 2]"
      ],
      "execution_count": null,
      "outputs": []
    },
    {
      "cell_type": "code",
      "metadata": {
        "collapsed": true,
        "id": "GPfUEOXTdgxS"
      },
      "source": [
        "categories = []\n",
        "examples = []\n",
        "accs = []\n",
        "\n",
        "for category in dublin_binary.category.unique() :\n",
        "  tweets = dublin_binary[dublin_binary['category'] == category].text.values\n",
        "  labels = dublin_binary[dublin_binary['category'] == category].sentiment.values.astype(int)\n",
        "  n_examples = int(len(tweets))\n",
        "  \n",
        "  test_input_ids, test_attention_masks, test_labels = encode_data(tweets=tweets, labels=labels)\n",
        "  temp_dset = TensorDataset(test_input_ids, test_attention_masks, test_labels)\n",
        "  dl = DataLoader(temp_dset, \n",
        "                  sampler=SequentialSampler(temp_dset),\n",
        "                  batch_size=32)\n",
        "  \n",
        "  acc, _ = eval_model(model, dataloader=dl, loss_fn=loss_fn, device=device, n_examples=n_examples)\n",
        "  acc = acc.item()\n",
        "\n",
        "  categories.append(category)\n",
        "  examples.append(n_examples)\n",
        "  accs.append(acc)\n",
        "\n",
        "accs = np.array(accs)\n",
        "examples = np.array(examples)"
      ],
      "execution_count": null,
      "outputs": []
    },
    {
      "cell_type": "code",
      "metadata": {
        "id": "cmoRzc1cerEl",
        "colab": {
          "base_uri": "https://localhost:8080/",
          "height": 627
        },
        "outputId": "0380e40d-ea36-4a5e-e9b5-de25ce0defab"
      },
      "source": [
        "data = np.concatenate((accs.reshape(15,1), examples.astype(int).reshape(15,1)), axis=1)\n",
        "accuracies = pd.DataFrame(data=data, columns=['Accuracy', 'n_examples'], index=categories)\n",
        "accuracies = accuracies.sort_values(by='Accuracy', ascending=False)\n",
        "\n",
        "fig,ax = plt.subplots(figsize=(10,10))\n",
        "\n",
        "norm = plt.Normalize(accuracies.n_examples.min(), accuracies.n_examples.max())\n",
        "cmap = sns.cubehelix_palette(as_cmap=True)\n",
        "\n",
        "sns.barplot(y=accuracies.index.values, x=\"Accuracy\", data=accuracies, orient='h', ax=ax, palette=cmap(norm(accuracies.n_examples.values)))\n",
        "sns.despine(left=True, bottom=True)\n",
        "\n",
        "sm = plt.cm.ScalarMappable(cmap=cmap, norm=norm)\n",
        "sm.set_array([])\n",
        "cbar = plt.colorbar(sm, ax=ax)\n",
        "cbar.set_label('Number of test samples', rotation=90)\n",
        "ax.set_title('Accuracy per category (BERT)', weight=600)\n",
        "plt.show();"
      ],
      "execution_count": null,
      "outputs": [
        {
          "output_type": "display_data",
          "data": {
            "image/png": "[encoded data removed]",
            "text/plain": [
              "<Figure size 720x720 with 2 Axes>"
            ]
          },
          "metadata": {
            "tags": []
          }
        }
      ]
    },
    {
      "cell_type": "markdown",
      "metadata": {
        "id": "XrWgQ9gHzFmk"
      },
      "source": [
        "Main classification challenges:\n",
        "- In case of logistic regression, numbers have negative sentiment which does not really make sense.\n",
        "- While exclamation marks `!` might carry a sentiment of excitement, *commas* `,` do not seem to carry a lot of meaning\n",
        "- Many emoticons mean the same thing but are not recognized as same. Like `: /` and `:/`. Other emoticons are not recognized at all (like ❤️ ) while they carry a lot of meaning."
      ]
    },
    {
      "cell_type": "markdown",
      "metadata": {
        "id": "VqWDuRGwzeIg"
      },
      "source": [
        "Model improvement suggestions:\n",
        "\n",
        "- First and foremost, the model should be trained on data with 3 labels, not with 2. It might be most helpful to hire some freelancers to annotate neutral tweets as such going through, say, 10,000 training examples.\n",
        "- Replace hyperlinks with special tokens (like `XXHYPERLINK`).\n",
        "- Replace all the different numbers with a single token (like `XXNUMBER`).\n",
        "- Preprocess emojis and convert other html symbols into recognizable tokens (Convert `:)`, `:-)`, `: )`, etc. into the same emoji `:)` and `&#10084;` and `<3` into `xxheart`).\n",
        "- It would be probably better to remove the remaining punctuation altogether.\n",
        "- Preprocess references: Treat a reference as one single word, if it does not appear more than X times, replace with a token like `[REF]`, otherwise keep."
      ]
    },
    {
      "cell_type": "code",
      "metadata": {
        "id": "Bb7If8F6Homr"
      },
      "source": [
        "# Code example of possible preprocessing improvements\n",
        "def additional_preprocess(text) :\n",
        "  text = re.sub(r'(http|ftp|https):\\/\\/([\\w\\-_]+(?:(?:\\.[\\w\\-_]+)+))([\\w\\-\\.,@?^=%&:/~\\+#]*[\\w\\-\\@?^=%&/~\\+#])?', 'xxhyperlink', text) # replace hyperlinks with special tokens\n",
        "\n",
        "  text = re.sub(r'\\:\\)', 'xxsmile', text) # fix emojis\n",
        "  text = re.sub(r'\\=\\)', 'xxsmile', text) # fix emojis\n",
        "  text = re.sub(r'\\:\\-\\)', 'xxsmile', text) # fix emojis\n",
        "  text = re.sub(r'\\:\\(', 'xxsad', text) # fix emojis\n",
        "  text = re.sub(r'\\=\\(', 'xxsad', text) # fix emojis\n",
        "  text = re.sub(r'\\: \\/', 'xsad', text) # fix emojis\n",
        "  text = re.sub(r'\\:\\-\\(', 'xxsad', text) # fix emojis\n",
        "  text = re.sub(r'&#10084;', 'xxheart', text) # fix emojis\n",
        "  text = re.sub(r'&#9829;', 'xxheart', text) # fix emojis\n",
        "  # ...and so on\n",
        "  \n",
        "  text = re.sub(r'[0-9]+', 'xxnumber', text) # replace numbers with special tokens\n",
        "\n",
        "  text = re.sub(r'[^\\w\\s]','', text) # remove punctuation\n",
        "\n",
        "  return text"
      ],
      "execution_count": null,
      "outputs": []
    },
    {
      "cell_type": "code",
      "metadata": {
        "id": "phpBxFtTJXI1",
        "colab": {
          "base_uri": "https://localhost:8080/",
          "height": 35
        },
        "outputId": "da747058-5a41-40b4-f749-8970134b469b"
      },
      "source": [
        "text = \"Great decision,, South Dublin County Council! :) Walking on Rodes Avenue 33 and loving birds singing in the park! =) https://t.co/T1DH41QVJr\"\n",
        "additional_preprocess(text)"
      ],
      "execution_count": null,
      "outputs": [
        {
          "output_type": "execute_result",
          "data": {
            "application/vnd.google.colaboratory.intrinsic+json": {
              "type": "string"
            },
            "text/plain": [
              "'Great decision South Dublin County Council xxsmile Walking on Rodes Avenue xxnumber and loving birds singing in the park xxsmile xxhyperlink'"
            ]
          },
          "metadata": {
            "tags": []
          },
          "execution_count": 142
        }
      ]
    }
  ]
}